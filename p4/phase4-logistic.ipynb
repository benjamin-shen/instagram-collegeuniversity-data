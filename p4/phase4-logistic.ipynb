{
 "cells": [
  {
   "cell_type": "markdown",
   "metadata": {},
   "source": [
    "# INFO2950 Phase 4: Logistic Regression"
   ]
  },
  {
   "cell_type": "code",
   "execution_count": 1,
   "metadata": {},
   "outputs": [],
   "source": [
    "import os\n",
    "import numpy as np\n",
    "import pandas as pd\n",
    "import matplotlib.pyplot as plt\n",
    "\n",
    "from sklearn.linear_model import LogisticRegression\n",
    "from sklearn.model_selection import train_test_split"
   ]
  },
  {
   "cell_type": "code",
   "execution_count": 2,
   "metadata": {},
   "outputs": [],
   "source": [
    "data_dir = \"../data\""
   ]
  },
  {
   "cell_type": "markdown",
   "metadata": {},
   "source": [
    "In this notebook, we will be performing logistic regression on the merged Instagram and scorecard data. We hope to see if there's a relationship between Instagram statistics and some binary outputs/characteristics of associated colleges and universities. More specifically, can follower statistics predict things about an institution such as selectivity, student family income, cost of attendance, and locale type?"
   ]
  },
  {
   "cell_type": "code",
   "execution_count": 29,
   "metadata": {
    "scrolled": false
   },
   "outputs": [
    {
     "data": {
      "text/html": [
       "<div>\n",
       "<style scoped>\n",
       "    .dataframe tbody tr th:only-of-type {\n",
       "        vertical-align: middle;\n",
       "    }\n",
       "\n",
       "    .dataframe tbody tr th {\n",
       "        vertical-align: top;\n",
       "    }\n",
       "\n",
       "    .dataframe thead th {\n",
       "        text-align: right;\n",
       "    }\n",
       "</style>\n",
       "<table border=\"1\" class=\"dataframe\">\n",
       "  <thead>\n",
       "    <tr style=\"text-align: right;\">\n",
       "      <th></th>\n",
       "      <th>name</th>\n",
       "      <th>instagram</th>\n",
       "      <th>follower_curr</th>\n",
       "      <th>follower_mean</th>\n",
       "      <th>follower_med</th>\n",
       "      <th>follower_std</th>\n",
       "      <th>follower_min</th>\n",
       "      <th>follower_max</th>\n",
       "      <th>following_curr</th>\n",
       "      <th>following_mean</th>\n",
       "      <th>...</th>\n",
       "      <th>income_med</th>\n",
       "      <th>size</th>\n",
       "      <th>lat</th>\n",
       "      <th>lon</th>\n",
       "      <th>city</th>\n",
       "      <th>ownership</th>\n",
       "      <th>region</th>\n",
       "      <th>state</th>\n",
       "      <th>locale_type</th>\n",
       "      <th>locale_size</th>\n",
       "    </tr>\n",
       "  </thead>\n",
       "  <tbody>\n",
       "    <tr>\n",
       "      <th>0</th>\n",
       "      <td>University of Chicago</td>\n",
       "      <td>uchicago</td>\n",
       "      <td>116800.0</td>\n",
       "      <td>102192.602041</td>\n",
       "      <td>100650.0</td>\n",
       "      <td>9675.450589</td>\n",
       "      <td>85100.0</td>\n",
       "      <td>116800.0</td>\n",
       "      <td>284.0</td>\n",
       "      <td>271.576531</td>\n",
       "      <td>...</td>\n",
       "      <td>47139.0</td>\n",
       "      <td>6600.0</td>\n",
       "      <td>41.787994</td>\n",
       "      <td>-87.599539</td>\n",
       "      <td>Chicago</td>\n",
       "      <td>private non-profit</td>\n",
       "      <td>great lakes</td>\n",
       "      <td>IL</td>\n",
       "      <td>city</td>\n",
       "      <td>large</td>\n",
       "    </tr>\n",
       "    <tr>\n",
       "      <th>1</th>\n",
       "      <td>Yale University</td>\n",
       "      <td>yale</td>\n",
       "      <td>490700.0</td>\n",
       "      <td>445869.550173</td>\n",
       "      <td>460900.0</td>\n",
       "      <td>38742.023912</td>\n",
       "      <td>369300.0</td>\n",
       "      <td>490700.0</td>\n",
       "      <td>249.0</td>\n",
       "      <td>244.269896</td>\n",
       "      <td>...</td>\n",
       "      <td>44004.0</td>\n",
       "      <td>5963.0</td>\n",
       "      <td>41.311158</td>\n",
       "      <td>-72.926688</td>\n",
       "      <td>New Haven</td>\n",
       "      <td>private non-profit</td>\n",
       "      <td>new england</td>\n",
       "      <td>CT</td>\n",
       "      <td>city</td>\n",
       "      <td>medium</td>\n",
       "    </tr>\n",
       "    <tr>\n",
       "      <th>2</th>\n",
       "      <td>Brown University</td>\n",
       "      <td>brownu</td>\n",
       "      <td>193000.0</td>\n",
       "      <td>185870.992366</td>\n",
       "      <td>187900.0</td>\n",
       "      <td>5583.446131</td>\n",
       "      <td>169000.0</td>\n",
       "      <td>193000.0</td>\n",
       "      <td>141.0</td>\n",
       "      <td>120.185751</td>\n",
       "      <td>...</td>\n",
       "      <td>82670.0</td>\n",
       "      <td>6752.0</td>\n",
       "      <td>41.826170</td>\n",
       "      <td>-71.403850</td>\n",
       "      <td>Providence</td>\n",
       "      <td>private non-profit</td>\n",
       "      <td>new england</td>\n",
       "      <td>RI</td>\n",
       "      <td>city</td>\n",
       "      <td>medium</td>\n",
       "    </tr>\n",
       "    <tr>\n",
       "      <th>3</th>\n",
       "      <td>Dartmouth College</td>\n",
       "      <td>dartmouthcollege</td>\n",
       "      <td>65400.0</td>\n",
       "      <td>58784.468193</td>\n",
       "      <td>58100.0</td>\n",
       "      <td>3262.492004</td>\n",
       "      <td>53200.0</td>\n",
       "      <td>65400.0</td>\n",
       "      <td>2278.0</td>\n",
       "      <td>2159.715013</td>\n",
       "      <td>...</td>\n",
       "      <td>68455.0</td>\n",
       "      <td>4312.0</td>\n",
       "      <td>43.704115</td>\n",
       "      <td>-72.289949</td>\n",
       "      <td>Hanover</td>\n",
       "      <td>private non-profit</td>\n",
       "      <td>new england</td>\n",
       "      <td>NH</td>\n",
       "      <td>town</td>\n",
       "      <td>small</td>\n",
       "    </tr>\n",
       "    <tr>\n",
       "      <th>4</th>\n",
       "      <td>Haverford College</td>\n",
       "      <td>haverfordedu</td>\n",
       "      <td>9063.0</td>\n",
       "      <td>7931.378109</td>\n",
       "      <td>8007.0</td>\n",
       "      <td>692.013379</td>\n",
       "      <td>6897.0</td>\n",
       "      <td>9063.0</td>\n",
       "      <td>207.0</td>\n",
       "      <td>169.621891</td>\n",
       "      <td>...</td>\n",
       "      <td>65396.0</td>\n",
       "      <td>1305.0</td>\n",
       "      <td>40.007452</td>\n",
       "      <td>-75.305207</td>\n",
       "      <td>Haverford</td>\n",
       "      <td>private non-profit</td>\n",
       "      <td>mid east</td>\n",
       "      <td>PA</td>\n",
       "      <td>suburb</td>\n",
       "      <td>large</td>\n",
       "    </tr>\n",
       "  </tbody>\n",
       "</table>\n",
       "<p>5 rows × 34 columns</p>\n",
       "</div>"
      ],
      "text/plain": [
       "                    name         instagram  follower_curr  follower_mean  \\\n",
       "0  University of Chicago          uchicago       116800.0  102192.602041   \n",
       "1        Yale University              yale       490700.0  445869.550173   \n",
       "2       Brown University            brownu       193000.0  185870.992366   \n",
       "3      Dartmouth College  dartmouthcollege        65400.0   58784.468193   \n",
       "4      Haverford College      haverfordedu         9063.0    7931.378109   \n",
       "\n",
       "   follower_med  follower_std  follower_min  follower_max  following_curr  \\\n",
       "0      100650.0   9675.450589       85100.0      116800.0           284.0   \n",
       "1      460900.0  38742.023912      369300.0      490700.0           249.0   \n",
       "2      187900.0   5583.446131      169000.0      193000.0           141.0   \n",
       "3       58100.0   3262.492004       53200.0       65400.0          2278.0   \n",
       "4        8007.0    692.013379        6897.0        9063.0           207.0   \n",
       "\n",
       "   following_mean  ...  income_med    size        lat        lon        city  \\\n",
       "0      271.576531  ...     47139.0  6600.0  41.787994 -87.599539     Chicago   \n",
       "1      244.269896  ...     44004.0  5963.0  41.311158 -72.926688   New Haven   \n",
       "2      120.185751  ...     82670.0  6752.0  41.826170 -71.403850  Providence   \n",
       "3     2159.715013  ...     68455.0  4312.0  43.704115 -72.289949     Hanover   \n",
       "4      169.621891  ...     65396.0  1305.0  40.007452 -75.305207   Haverford   \n",
       "\n",
       "            ownership       region  state  locale_type  locale_size  \n",
       "0  private non-profit  great lakes     IL         city        large  \n",
       "1  private non-profit  new england     CT         city       medium  \n",
       "2  private non-profit  new england     RI         city       medium  \n",
       "3  private non-profit  new england     NH         town        small  \n",
       "4  private non-profit     mid east     PA       suburb        large  \n",
       "\n",
       "[5 rows x 34 columns]"
      ]
     },
     "execution_count": 29,
     "metadata": {},
     "output_type": "execute_result"
    }
   ],
   "source": [
    "instagram_details = pd.read_csv(os.path.join(data_dir, \"instagram_details.csv\"))\n",
    "instagram_details.dropna(subset=[\"name\"])\n",
    "instagram_details = instagram_details[instagram_details.instagram != \"ivyleague\"]\n",
    "instagram_details.head()"
   ]
  },
  {
   "cell_type": "code",
   "execution_count": 4,
   "metadata": {
    "scrolled": true
   },
   "outputs": [
    {
     "data": {
      "text/plain": [
       "Index(['name', 'instagram', 'follower_curr', 'follower_mean', 'follower_med',\n",
       "       'follower_std', 'follower_min', 'follower_max', 'following_curr',\n",
       "       'following_mean', 'following_med', 'following_std', 'following_min',\n",
       "       'following_max', 'posts_curr', 'posts_mean', 'posts_med', 'posts_std',\n",
       "       'posts_min', 'posts_max', 'admission_rate', 'sat_score',\n",
       "       'cost_attendance', 'income_avg', 'income_med', 'size', 'lat', 'lon',\n",
       "       'city', 'ownership', 'region', 'state', 'locale_type', 'locale_size'],\n",
       "      dtype='object')"
      ]
     },
     "execution_count": 4,
     "metadata": {},
     "output_type": "execute_result"
    }
   ],
   "source": [
    "instagram_details.columns"
   ]
  },
  {
   "cell_type": "markdown",
   "metadata": {},
   "source": [
    "We extract predictor columns often, so here we are refactoring it to a function. This also allows us to easily change the variables to see if we can get a better predictors."
   ]
  },
  {
   "cell_type": "code",
   "execution_count": 28,
   "metadata": {},
   "outputs": [],
   "source": [
    "def get_predictors(df):\n",
    "    return df[[\"follower_curr\", \"follower_mean\", \"follower_med\", \"follower_std\", \"follower_max\", \"follower_min\"]]\n",
    "    #return df[[\"follower_curr\", \"follower_med\", \"follower_min\"]]\n",
    "m = len(get_predictors(instagram_details).columns)"
   ]
  },
  {
   "cell_type": "markdown",
   "metadata": {},
   "source": [
    "According to the linear regressions performed in the other notebook, follower percent increase was effectively random in relation to scoreboard data. Empirical testing in this notebook also seems to suggest that it isn't a great predictor, so we just commented it out."
   ]
  },
  {
   "cell_type": "code",
   "execution_count": 6,
   "metadata": {
    "scrolled": true
   },
   "outputs": [
    {
     "data": {
      "text/html": [
       "<div>\n",
       "<style scoped>\n",
       "    .dataframe tbody tr th:only-of-type {\n",
       "        vertical-align: middle;\n",
       "    }\n",
       "\n",
       "    .dataframe tbody tr th {\n",
       "        vertical-align: top;\n",
       "    }\n",
       "\n",
       "    .dataframe thead th {\n",
       "        text-align: right;\n",
       "    }\n",
       "</style>\n",
       "<table border=\"1\" class=\"dataframe\">\n",
       "  <thead>\n",
       "    <tr style=\"text-align: right;\">\n",
       "      <th></th>\n",
       "      <th>follower_curr</th>\n",
       "      <th>follower_mean</th>\n",
       "      <th>follower_med</th>\n",
       "      <th>follower_std</th>\n",
       "      <th>follower_max</th>\n",
       "      <th>follower_min</th>\n",
       "    </tr>\n",
       "  </thead>\n",
       "  <tbody>\n",
       "    <tr>\n",
       "      <th>0</th>\n",
       "      <td>116800.0</td>\n",
       "      <td>102192.602041</td>\n",
       "      <td>100650.0</td>\n",
       "      <td>9675.450589</td>\n",
       "      <td>116800.0</td>\n",
       "      <td>85100.0</td>\n",
       "    </tr>\n",
       "    <tr>\n",
       "      <th>1</th>\n",
       "      <td>490700.0</td>\n",
       "      <td>445869.550173</td>\n",
       "      <td>460900.0</td>\n",
       "      <td>38742.023912</td>\n",
       "      <td>490700.0</td>\n",
       "      <td>369300.0</td>\n",
       "    </tr>\n",
       "    <tr>\n",
       "      <th>2</th>\n",
       "      <td>193000.0</td>\n",
       "      <td>185870.992366</td>\n",
       "      <td>187900.0</td>\n",
       "      <td>5583.446131</td>\n",
       "      <td>193000.0</td>\n",
       "      <td>169000.0</td>\n",
       "    </tr>\n",
       "    <tr>\n",
       "      <th>3</th>\n",
       "      <td>65400.0</td>\n",
       "      <td>58784.468193</td>\n",
       "      <td>58100.0</td>\n",
       "      <td>3262.492004</td>\n",
       "      <td>65400.0</td>\n",
       "      <td>53200.0</td>\n",
       "    </tr>\n",
       "    <tr>\n",
       "      <th>4</th>\n",
       "      <td>9063.0</td>\n",
       "      <td>7931.378109</td>\n",
       "      <td>8007.0</td>\n",
       "      <td>692.013379</td>\n",
       "      <td>9063.0</td>\n",
       "      <td>6897.0</td>\n",
       "    </tr>\n",
       "  </tbody>\n",
       "</table>\n",
       "</div>"
      ],
      "text/plain": [
       "   follower_curr  follower_mean  follower_med  follower_std  follower_max  \\\n",
       "0       116800.0  102192.602041      100650.0   9675.450589      116800.0   \n",
       "1       490700.0  445869.550173      460900.0  38742.023912      490700.0   \n",
       "2       193000.0  185870.992366      187900.0   5583.446131      193000.0   \n",
       "3        65400.0   58784.468193       58100.0   3262.492004       65400.0   \n",
       "4         9063.0    7931.378109        8007.0    692.013379        9063.0   \n",
       "\n",
       "   follower_min  \n",
       "0       85100.0  \n",
       "1      369300.0  \n",
       "2      169000.0  \n",
       "3       53200.0  \n",
       "4        6897.0  "
      ]
     },
     "execution_count": 6,
     "metadata": {},
     "output_type": "execute_result"
    }
   ],
   "source": [
    "binary_data_predictors = get_predictors(instagram_details)\n",
    "# binary_data_predictors = binary_data_predictors.assign(follower_percent_increase = (binary_data_predictors.follower_max - binary_data_predictors.follower_min) / binary_data_predictors.follower_min * 100)\n",
    "binary_data_predictors.head()"
   ]
  },
  {
   "cell_type": "markdown",
   "metadata": {},
   "source": [
    "Here, we isolate the output variables we think would be interested to try to predict. But first, we need to turn them into binary outputs."
   ]
  },
  {
   "cell_type": "code",
   "execution_count": 7,
   "metadata": {
    "scrolled": true
   },
   "outputs": [
    {
     "data": {
      "text/html": [
       "<div>\n",
       "<style scoped>\n",
       "    .dataframe tbody tr th:only-of-type {\n",
       "        vertical-align: middle;\n",
       "    }\n",
       "\n",
       "    .dataframe tbody tr th {\n",
       "        vertical-align: top;\n",
       "    }\n",
       "\n",
       "    .dataframe thead th {\n",
       "        text-align: right;\n",
       "    }\n",
       "</style>\n",
       "<table border=\"1\" class=\"dataframe\">\n",
       "  <thead>\n",
       "    <tr style=\"text-align: right;\">\n",
       "      <th></th>\n",
       "      <th>admission_rate</th>\n",
       "      <th>income_med</th>\n",
       "      <th>cost_attendance</th>\n",
       "      <th>locale_type</th>\n",
       "    </tr>\n",
       "  </thead>\n",
       "  <tbody>\n",
       "    <tr>\n",
       "      <th>0</th>\n",
       "      <td>0.0726</td>\n",
       "      <td>47139.0</td>\n",
       "      <td>75735.0</td>\n",
       "      <td>city</td>\n",
       "    </tr>\n",
       "    <tr>\n",
       "      <th>1</th>\n",
       "      <td>0.0635</td>\n",
       "      <td>44004.0</td>\n",
       "      <td>71290.0</td>\n",
       "      <td>city</td>\n",
       "    </tr>\n",
       "    <tr>\n",
       "      <th>2</th>\n",
       "      <td>0.0767</td>\n",
       "      <td>82670.0</td>\n",
       "      <td>71050.0</td>\n",
       "      <td>city</td>\n",
       "    </tr>\n",
       "    <tr>\n",
       "      <th>3</th>\n",
       "      <td>0.0874</td>\n",
       "      <td>68455.0</td>\n",
       "      <td>71827.0</td>\n",
       "      <td>town</td>\n",
       "    </tr>\n",
       "    <tr>\n",
       "      <th>4</th>\n",
       "      <td>0.1879</td>\n",
       "      <td>65396.0</td>\n",
       "      <td>71614.0</td>\n",
       "      <td>suburb</td>\n",
       "    </tr>\n",
       "  </tbody>\n",
       "</table>\n",
       "</div>"
      ],
      "text/plain": [
       "   admission_rate  income_med  cost_attendance locale_type\n",
       "0          0.0726     47139.0          75735.0        city\n",
       "1          0.0635     44004.0          71290.0        city\n",
       "2          0.0767     82670.0          71050.0        city\n",
       "3          0.0874     68455.0          71827.0        town\n",
       "4          0.1879     65396.0          71614.0      suburb"
      ]
     },
     "execution_count": 7,
     "metadata": {},
     "output_type": "execute_result"
    }
   ],
   "source": [
    "output_data = instagram_details[[\"admission_rate\", \"income_med\", \"cost_attendance\", \"locale_type\"]]\n",
    "output_data.head()"
   ]
  },
  {
   "cell_type": "markdown",
   "metadata": {},
   "source": [
    "To convert the values in the admission rate, income average, and cost of attendance columns to binary outputs, we calculate the entire sample's medians and create new columns with binary values (True/False) for whether the respective variable was above the sample's median.  \n",
    "To convert locale type to binary outputs, we categorize each row as city vs. not-city and put those values in an additional column.\n",
    "\n",
    "Note that there are biases in this data; this sample only consists of colleges that Changyuan was interested in. So, for example, there may be a skew towards more selective or urban institutions. Thus, this sample is only representative of the colleges/universities we have Instagram data for, not all the instutions in the United States."
   ]
  },
  {
   "cell_type": "code",
   "execution_count": 8,
   "metadata": {},
   "outputs": [
    {
     "name": "stdout",
     "output_type": "stream",
     "text": [
      "Median Admission Rate: 17.12%\n",
      "Median Income Average: $63463\n",
      "Median Cost of Attendance: $69034\n",
      "Percent City: 61.43%\n"
     ]
    }
   ],
   "source": [
    "admission_rate_med = output_data.admission_rate.median()\n",
    "print(\"Median Admission Rate: {:.2f}%\".format(admission_rate_med * 100))\n",
    "\n",
    "income_med_med = output_data.income_med.median()\n",
    "print(\"Median Income Average: ${:d}\".format(int(income_med_med)))\n",
    "\n",
    "cost_attendance_med = output_data.cost_attendance.median()\n",
    "print(\"Median Cost of Attendance: ${:d}\".format(int(cost_attendance_med)))\n",
    "\n",
    "binary_city = output_data.locale_type == \"city\"\n",
    "city_fraction = sum(binary_city) / len(binary_city)\n",
    "print(\"Percent City: {:.2f}%\".format(city_fraction * 100))"
   ]
  },
  {
   "cell_type": "code",
   "execution_count": 9,
   "metadata": {},
   "outputs": [
    {
     "data": {
      "text/html": [
       "<div>\n",
       "<style scoped>\n",
       "    .dataframe tbody tr th:only-of-type {\n",
       "        vertical-align: middle;\n",
       "    }\n",
       "\n",
       "    .dataframe tbody tr th {\n",
       "        vertical-align: top;\n",
       "    }\n",
       "\n",
       "    .dataframe thead th {\n",
       "        text-align: right;\n",
       "    }\n",
       "</style>\n",
       "<table border=\"1\" class=\"dataframe\">\n",
       "  <thead>\n",
       "    <tr style=\"text-align: right;\">\n",
       "      <th></th>\n",
       "      <th>above_med_admission_rate</th>\n",
       "      <th>above_med_income_med</th>\n",
       "      <th>above_med_cost_attendance</th>\n",
       "      <th>binary_city</th>\n",
       "    </tr>\n",
       "  </thead>\n",
       "  <tbody>\n",
       "    <tr>\n",
       "      <th>0</th>\n",
       "      <td>False</td>\n",
       "      <td>False</td>\n",
       "      <td>True</td>\n",
       "      <td>True</td>\n",
       "    </tr>\n",
       "    <tr>\n",
       "      <th>1</th>\n",
       "      <td>False</td>\n",
       "      <td>False</td>\n",
       "      <td>True</td>\n",
       "      <td>True</td>\n",
       "    </tr>\n",
       "    <tr>\n",
       "      <th>2</th>\n",
       "      <td>False</td>\n",
       "      <td>True</td>\n",
       "      <td>True</td>\n",
       "      <td>True</td>\n",
       "    </tr>\n",
       "    <tr>\n",
       "      <th>3</th>\n",
       "      <td>False</td>\n",
       "      <td>True</td>\n",
       "      <td>True</td>\n",
       "      <td>False</td>\n",
       "    </tr>\n",
       "    <tr>\n",
       "      <th>4</th>\n",
       "      <td>True</td>\n",
       "      <td>True</td>\n",
       "      <td>True</td>\n",
       "      <td>False</td>\n",
       "    </tr>\n",
       "  </tbody>\n",
       "</table>\n",
       "</div>"
      ],
      "text/plain": [
       "   above_med_admission_rate  above_med_income_med  above_med_cost_attendance  \\\n",
       "0                     False                 False                       True   \n",
       "1                     False                 False                       True   \n",
       "2                     False                  True                       True   \n",
       "3                     False                  True                       True   \n",
       "4                      True                  True                       True   \n",
       "\n",
       "   binary_city  \n",
       "0         True  \n",
       "1         True  \n",
       "2         True  \n",
       "3        False  \n",
       "4        False  "
      ]
     },
     "execution_count": 9,
     "metadata": {},
     "output_type": "execute_result"
    }
   ],
   "source": [
    "above_med_admission_rate = output_data.admission_rate > admission_rate_med\n",
    "above_med_income_med = output_data.income_med > income_med_med\n",
    "above_med_cost_attendance = output_data.cost_attendance > cost_attendance_med\n",
    "\n",
    "binary_data = pd.DataFrame({\"above_med_admission_rate\": above_med_admission_rate,\n",
    "                            \"above_med_income_med\": above_med_income_med,\n",
    "                            \"above_med_cost_attendance\": above_med_cost_attendance,\n",
    "                            \"binary_city\": binary_city})\n",
    "binary_data.head()"
   ]
  },
  {
   "cell_type": "markdown",
   "metadata": {},
   "source": [
    "Here, we split the data to test the significance of our model's predictions. We are training the model on a random 80% of the data, and testing it on the rest."
   ]
  },
  {
   "cell_type": "code",
   "execution_count": 10,
   "metadata": {
    "scrolled": true
   },
   "outputs": [
    {
     "data": {
      "text/html": [
       "<div>\n",
       "<style scoped>\n",
       "    .dataframe tbody tr th:only-of-type {\n",
       "        vertical-align: middle;\n",
       "    }\n",
       "\n",
       "    .dataframe tbody tr th {\n",
       "        vertical-align: top;\n",
       "    }\n",
       "\n",
       "    .dataframe thead th {\n",
       "        text-align: right;\n",
       "    }\n",
       "</style>\n",
       "<table border=\"1\" class=\"dataframe\">\n",
       "  <thead>\n",
       "    <tr style=\"text-align: right;\">\n",
       "      <th></th>\n",
       "      <th>follower_curr</th>\n",
       "      <th>follower_mean</th>\n",
       "      <th>follower_med</th>\n",
       "      <th>follower_std</th>\n",
       "      <th>follower_max</th>\n",
       "      <th>follower_min</th>\n",
       "      <th>above_med_admission_rate</th>\n",
       "      <th>above_med_income_med</th>\n",
       "      <th>above_med_cost_attendance</th>\n",
       "      <th>binary_city</th>\n",
       "    </tr>\n",
       "  </thead>\n",
       "  <tbody>\n",
       "    <tr>\n",
       "      <th>62</th>\n",
       "      <td>90800.0</td>\n",
       "      <td>85113.872832</td>\n",
       "      <td>84700.0</td>\n",
       "      <td>3621.911342</td>\n",
       "      <td>90800.0</td>\n",
       "      <td>78400.0</td>\n",
       "      <td>True</td>\n",
       "      <td>False</td>\n",
       "      <td>False</td>\n",
       "      <td>True</td>\n",
       "    </tr>\n",
       "    <tr>\n",
       "      <th>7</th>\n",
       "      <td>18500.0</td>\n",
       "      <td>16983.629893</td>\n",
       "      <td>17100.0</td>\n",
       "      <td>939.613708</td>\n",
       "      <td>18500.0</td>\n",
       "      <td>15100.0</td>\n",
       "      <td>False</td>\n",
       "      <td>False</td>\n",
       "      <td>False</td>\n",
       "      <td>False</td>\n",
       "    </tr>\n",
       "    <tr>\n",
       "      <th>23</th>\n",
       "      <td>44000.0</td>\n",
       "      <td>39861.538462</td>\n",
       "      <td>39700.0</td>\n",
       "      <td>2205.370331</td>\n",
       "      <td>44000.0</td>\n",
       "      <td>35600.0</td>\n",
       "      <td>True</td>\n",
       "      <td>True</td>\n",
       "      <td>True</td>\n",
       "      <td>True</td>\n",
       "    </tr>\n",
       "    <tr>\n",
       "      <th>4</th>\n",
       "      <td>9063.0</td>\n",
       "      <td>7931.378109</td>\n",
       "      <td>8007.0</td>\n",
       "      <td>692.013379</td>\n",
       "      <td>9063.0</td>\n",
       "      <td>6897.0</td>\n",
       "      <td>True</td>\n",
       "      <td>True</td>\n",
       "      <td>True</td>\n",
       "      <td>False</td>\n",
       "    </tr>\n",
       "    <tr>\n",
       "      <th>30</th>\n",
       "      <td>143000.0</td>\n",
       "      <td>129340.000000</td>\n",
       "      <td>133000.0</td>\n",
       "      <td>9778.508584</td>\n",
       "      <td>143000.0</td>\n",
       "      <td>112600.0</td>\n",
       "      <td>True</td>\n",
       "      <td>False</td>\n",
       "      <td>False</td>\n",
       "      <td>True</td>\n",
       "    </tr>\n",
       "  </tbody>\n",
       "</table>\n",
       "</div>"
      ],
      "text/plain": [
       "    follower_curr  follower_mean  follower_med  follower_std  follower_max  \\\n",
       "62        90800.0   85113.872832       84700.0   3621.911342       90800.0   \n",
       "7         18500.0   16983.629893       17100.0    939.613708       18500.0   \n",
       "23        44000.0   39861.538462       39700.0   2205.370331       44000.0   \n",
       "4          9063.0    7931.378109        8007.0    692.013379        9063.0   \n",
       "30       143000.0  129340.000000      133000.0   9778.508584      143000.0   \n",
       "\n",
       "    follower_min  above_med_admission_rate  above_med_income_med  \\\n",
       "62       78400.0                      True                 False   \n",
       "7        15100.0                     False                 False   \n",
       "23       35600.0                      True                  True   \n",
       "4         6897.0                      True                  True   \n",
       "30      112600.0                      True                 False   \n",
       "\n",
       "    above_med_cost_attendance  binary_city  \n",
       "62                      False         True  \n",
       "7                       False        False  \n",
       "23                       True         True  \n",
       "4                        True        False  \n",
       "30                      False         True  "
      ]
     },
     "execution_count": 10,
     "metadata": {},
     "output_type": "execute_result"
    }
   ],
   "source": [
    "data = binary_data_predictors.join(binary_data)\n",
    "data_split = train_test_split(data, test_size=0.2)\n",
    "\n",
    "data_train = data_split[0]\n",
    "data_test = data_split[1]\n",
    "data_test.head()"
   ]
  },
  {
   "cell_type": "markdown",
   "metadata": {},
   "source": [
    "We are finally fitting the logistic regression model to the training data! There is one model for each output variable. We've printed the slopes and scores for each model."
   ]
  },
  {
   "cell_type": "code",
   "execution_count": 11,
   "metadata": {},
   "outputs": [],
   "source": [
    "n = 1000"
   ]
  },
  {
   "cell_type": "code",
   "execution_count": 12,
   "metadata": {},
   "outputs": [],
   "source": [
    "def test_model(output, train):\n",
    "    model = LogisticRegression(max_iter=1000).fit(get_predictors(train), train[output])\n",
    "    return model\n",
    "def print_slope_score(model, test, output):\n",
    "    print(output, \"slope: {:.7f}\".format(model.coef_[0,0]))\n",
    "    print(output, \"score: {:.2f}\".format(model.score(get_predictors(test), test[output])))"
   ]
  },
  {
   "cell_type": "code",
   "execution_count": 13,
   "metadata": {
    "scrolled": false
   },
   "outputs": [
    {
     "name": "stdout",
     "output_type": "stream",
     "text": [
      "above_med_admission_rate slope: 0.0000232\n",
      "above_med_admission_rate score: 0.71\n",
      "above_med_income_med slope: -0.0000280\n",
      "above_med_income_med score: 0.43\n",
      "above_med_cost_attendance slope: 0.0000135\n",
      "above_med_cost_attendance score: 0.71\n",
      "binary_city slope: -0.0000673\n",
      "binary_city score: 0.71\n"
     ]
    }
   ],
   "source": [
    "selectivity_model = test_model(\"above_med_admission_rate\", data_train)\n",
    "income_model = test_model(\"above_med_income_med\", data_train)\n",
    "cost_model = test_model(\"above_med_cost_attendance\", data_train)\n",
    "city_model = test_model(\"binary_city\", data_train)\n",
    "\n",
    "print_slope_score(selectivity_model, data_test, \"above_med_admission_rate\")\n",
    "print_slope_score(income_model, data_test, \"above_med_income_med\")\n",
    "print_slope_score(cost_model, data_test, \"above_med_cost_attendance\")\n",
    "print_slope_score(city_model, data_test, \"binary_city\")"
   ]
  },
  {
   "cell_type": "markdown",
   "metadata": {},
   "source": [
    "Here, we manually calculate the percent accuracy of the prediction on the test data. The values below correctly match the scores above."
   ]
  },
  {
   "cell_type": "code",
   "execution_count": 14,
   "metadata": {},
   "outputs": [],
   "source": [
    "def percent_accuracy(prediction, actual):\n",
    "    accurate = prediction == actual\n",
    "    return sum(accurate) / len(accurate) * 100\n",
    "def prediction_percent_accuracy(model, test, output):\n",
    "    prediction = model.predict(get_predictors(test))\n",
    "    accuracy = percent_accuracy(prediction, test[output])\n",
    "    return accuracy\n",
    "def print_accuracy(output, accuracy):\n",
    "    print(output, \"prediction accuracy: {:.1f}%\".format(accuracy))"
   ]
  },
  {
   "cell_type": "code",
   "execution_count": 15,
   "metadata": {
    "scrolled": true
   },
   "outputs": [
    {
     "name": "stdout",
     "output_type": "stream",
     "text": [
      "above_med_admission_rate prediction accuracy: 71.4%\n",
      "above_med_income_med prediction accuracy: 42.9%\n",
      "above_med_cost_attendance prediction accuracy: 71.4%\n",
      "binary_city prediction accuracy: 71.4%\n"
     ]
    }
   ],
   "source": [
    "selectivity_accuracy = prediction_percent_accuracy(selectivity_model, data_test, \"above_med_admission_rate\")\n",
    "income_accuracy = prediction_percent_accuracy(income_model, data_test, \"above_med_income_med\")\n",
    "cost_accuracy = prediction_percent_accuracy(cost_model, data_test, \"above_med_cost_attendance\")\n",
    "city_accuracy = prediction_percent_accuracy(city_model, data_test, \"binary_city\")\n",
    "\n",
    "print_accuracy(\"above_med_admission_rate\", selectivity_accuracy)\n",
    "print_accuracy(\"above_med_income_med\", income_accuracy)\n",
    "print_accuracy(\"above_med_cost_attendance\", cost_accuracy)\n",
    "print_accuracy(\"binary_city\", city_accuracy)"
   ]
  },
  {
   "cell_type": "markdown",
   "metadata": {},
   "source": [
    "We want to run this many times (denoted by the variable `n`) to ensure that the prediction accuracy wasn't just due to a lucky sampling of training data. So, we put everything we did above into a function, `log_model`."
   ]
  },
  {
   "cell_type": "code",
   "execution_count": 16,
   "metadata": {},
   "outputs": [],
   "source": [
    "def log_model(data):\n",
    "    data_split = train_test_split(data, test_size=0.2)\n",
    "\n",
    "    data_train = data_split[0]\n",
    "    data_test = data_split[1]\n",
    "    \n",
    "    selectivity_model = test_model(\"above_med_admission_rate\", data_train)\n",
    "    income_model = test_model(\"above_med_income_med\", data_train)\n",
    "    cost_model = test_model(\"above_med_cost_attendance\", data_train)\n",
    "    city_model = test_model(\"binary_city\", data_train)\n",
    "    \n",
    "    predictor = get_predictors(data_test)\n",
    "    selectivity_accuracy = selectivity_model.score(predictor, data_test[\"above_med_admission_rate\"])\n",
    "    income_accuracy = income_model.score(predictor, data_test[\"above_med_income_med\"])\n",
    "    cost_accuracy = income_model.score(predictor, data_test[\"above_med_cost_attendance\"])\n",
    "    city_accuracy = city_model.score(predictor, data_test[\"binary_city\"])\n",
    "    \n",
    "    return selectivity_accuracy, income_accuracy, cost_accuracy, city_accuracy"
   ]
  },
  {
   "cell_type": "markdown",
   "metadata": {},
   "source": [
    "Then, we run it `n` times and calculate the median of the accuracy. An accuracy over 0.5 means the prediction was (on median) better than a binary guess."
   ]
  },
  {
   "cell_type": "code",
   "execution_count": 17,
   "metadata": {
    "scrolled": true
   },
   "outputs": [
    {
     "name": "stdout",
     "output_type": "stream",
     "text": [
      "Selectivity accuracy median: 0.57\n",
      "Income accuracy median: 0.50\n",
      "Cost accuracy median: 0.43\n",
      "City accuracy median: 0.57\n"
     ]
    }
   ],
   "source": [
    "selectivity_accuracies = np.zeros(n)\n",
    "income_accuracies = np.zeros(n)\n",
    "cost_accuracies = np.zeros(n)\n",
    "city_accuracies = np.zeros(n)\n",
    "\n",
    "for i in range(n):\n",
    "    run_model = log_model(data)\n",
    "    selectivity_accuracies[i] = run_model[0]\n",
    "    income_accuracies[i] = run_model[1]\n",
    "    cost_accuracies[i] = run_model[2]\n",
    "    city_accuracies[i] = run_model[3]\n",
    "\n",
    "print(\"Selectivity accuracy median: {:.2f}\".format(np.median(selectivity_accuracies)))\n",
    "print(\"Income accuracy median: {:.2f}\".format(np.median(income_accuracies)))\n",
    "print(\"Cost accuracy median: {:.2f}\".format(np.median(cost_accuracies)))\n",
    "print(\"City accuracy median: {:.2f}\".format(np.median(city_accuracies)))"
   ]
  },
  {
   "cell_type": "markdown",
   "metadata": {},
   "source": [
    "It seems like the follower data might be able to predict whether a school is selective and if its locale is city or not, but not student family income or cost of attendance.\n",
    "\n",
    "Finally, we plot the accuracies to see the distribution across all `n` runs. There doesn't seem to be anything too surprising in terms of skew or kurtosis."
   ]
  },
  {
   "cell_type": "code",
   "execution_count": 18,
   "metadata": {},
   "outputs": [],
   "source": [
    "def plot_accuracies(accuracy, title):\n",
    "    plt.hist(accuracy, bins=10)\n",
    "    plt.xlabel(\"accuracy\")\n",
    "    plt.ylabel(\"frequency\")\n",
    "    plt.title(title)\n",
    "    plt.show()"
   ]
  },
  {
   "cell_type": "code",
   "execution_count": 19,
   "metadata": {
    "scrolled": false
   },
   "outputs": [
    {
     "data": {
      "image/png": "[encoded data removed]",
      "text/plain": [
       "<Figure size 432x288 with 1 Axes>"
      ]
     },
     "metadata": {
      "needs_background": "light"
     },
     "output_type": "display_data"
    },
    {
     "data": {
      "image/png": "[encoded data removed]",
      "text/plain": [
       "<Figure size 432x288 with 1 Axes>"
      ]
     },
     "metadata": {
      "needs_background": "light"
     },
     "output_type": "display_data"
    },
    {
     "data": {
      "image/png": "[encoded data removed]",
      "text/plain": [
       "<Figure size 432x288 with 1 Axes>"
      ]
     },
     "metadata": {
      "needs_background": "light"
     },
     "output_type": "display_data"
    },
    {
     "data": {
      "image/png": "[encoded data removed]",
      "text/plain": [
       "<Figure size 432x288 with 1 Axes>"
      ]
     },
     "metadata": {
      "needs_background": "light"
     },
     "output_type": "display_data"
    }
   ],
   "source": [
    "plot_accuracies(selectivity_accuracies, \"selectivity\")\n",
    "plot_accuracies(income_accuracies, \"income\")\n",
    "plot_accuracies(cost_accuracies, \"cost\")\n",
    "plot_accuracies(city_accuracies, \"city\")"
   ]
  },
  {
   "cell_type": "markdown",
   "metadata": {},
   "source": [
    "We thought the model might be improved if we removed a few outliers we found in our previous explorations. We took out Harvard, Stanford, and Yale."
   ]
  },
  {
   "cell_type": "code",
   "execution_count": 20,
   "metadata": {},
   "outputs": [
    {
     "data": {
      "text/html": [
       "<div>\n",
       "<style scoped>\n",
       "    .dataframe tbody tr th:only-of-type {\n",
       "        vertical-align: middle;\n",
       "    }\n",
       "\n",
       "    .dataframe tbody tr th {\n",
       "        vertical-align: top;\n",
       "    }\n",
       "\n",
       "    .dataframe thead th {\n",
       "        text-align: right;\n",
       "    }\n",
       "</style>\n",
       "<table border=\"1\" class=\"dataframe\">\n",
       "  <thead>\n",
       "    <tr style=\"text-align: right;\">\n",
       "      <th></th>\n",
       "      <th>follower_curr</th>\n",
       "      <th>follower_mean</th>\n",
       "      <th>follower_med</th>\n",
       "      <th>follower_std</th>\n",
       "      <th>follower_max</th>\n",
       "      <th>follower_min</th>\n",
       "      <th>above_med_admission_rate</th>\n",
       "      <th>above_med_income_med</th>\n",
       "      <th>above_med_cost_attendance</th>\n",
       "      <th>binary_city</th>\n",
       "    </tr>\n",
       "  </thead>\n",
       "  <tbody>\n",
       "    <tr>\n",
       "      <th>0</th>\n",
       "      <td>116800.0</td>\n",
       "      <td>102192.602041</td>\n",
       "      <td>100650.0</td>\n",
       "      <td>9675.450589</td>\n",
       "      <td>116800.0</td>\n",
       "      <td>85100.0</td>\n",
       "      <td>False</td>\n",
       "      <td>False</td>\n",
       "      <td>True</td>\n",
       "      <td>True</td>\n",
       "    </tr>\n",
       "    <tr>\n",
       "      <th>2</th>\n",
       "      <td>193000.0</td>\n",
       "      <td>185870.992366</td>\n",
       "      <td>187900.0</td>\n",
       "      <td>5583.446131</td>\n",
       "      <td>193000.0</td>\n",
       "      <td>169000.0</td>\n",
       "      <td>False</td>\n",
       "      <td>True</td>\n",
       "      <td>True</td>\n",
       "      <td>True</td>\n",
       "    </tr>\n",
       "    <tr>\n",
       "      <th>3</th>\n",
       "      <td>65400.0</td>\n",
       "      <td>58784.468193</td>\n",
       "      <td>58100.0</td>\n",
       "      <td>3262.492004</td>\n",
       "      <td>65400.0</td>\n",
       "      <td>53200.0</td>\n",
       "      <td>False</td>\n",
       "      <td>True</td>\n",
       "      <td>True</td>\n",
       "      <td>False</td>\n",
       "    </tr>\n",
       "    <tr>\n",
       "      <th>4</th>\n",
       "      <td>9063.0</td>\n",
       "      <td>7931.378109</td>\n",
       "      <td>8007.0</td>\n",
       "      <td>692.013379</td>\n",
       "      <td>9063.0</td>\n",
       "      <td>6897.0</td>\n",
       "      <td>True</td>\n",
       "      <td>True</td>\n",
       "      <td>True</td>\n",
       "      <td>False</td>\n",
       "    </tr>\n",
       "    <tr>\n",
       "      <th>5</th>\n",
       "      <td>72400.0</td>\n",
       "      <td>56919.071247</td>\n",
       "      <td>58000.0</td>\n",
       "      <td>9881.110621</td>\n",
       "      <td>72400.0</td>\n",
       "      <td>37900.0</td>\n",
       "      <td>False</td>\n",
       "      <td>False</td>\n",
       "      <td>False</td>\n",
       "      <td>False</td>\n",
       "    </tr>\n",
       "  </tbody>\n",
       "</table>\n",
       "</div>"
      ],
      "text/plain": [
       "   follower_curr  follower_mean  follower_med  follower_std  follower_max  \\\n",
       "0       116800.0  102192.602041      100650.0   9675.450589      116800.0   \n",
       "2       193000.0  185870.992366      187900.0   5583.446131      193000.0   \n",
       "3        65400.0   58784.468193       58100.0   3262.492004       65400.0   \n",
       "4         9063.0    7931.378109        8007.0    692.013379        9063.0   \n",
       "5        72400.0   56919.071247       58000.0   9881.110621       72400.0   \n",
       "\n",
       "   follower_min  above_med_admission_rate  above_med_income_med  \\\n",
       "0       85100.0                     False                 False   \n",
       "2      169000.0                     False                  True   \n",
       "3       53200.0                     False                  True   \n",
       "4        6897.0                      True                  True   \n",
       "5       37900.0                     False                 False   \n",
       "\n",
       "   above_med_cost_attendance  binary_city  \n",
       "0                       True         True  \n",
       "2                       True         True  \n",
       "3                       True        False  \n",
       "4                       True        False  \n",
       "5                      False        False  "
      ]
     },
     "execution_count": 20,
     "metadata": {},
     "output_type": "execute_result"
    }
   ],
   "source": [
    "outliers = {\"Harvard University\", \"Stanford University\", \"Yale University\"}\n",
    "instagram_details = instagram_details[~instagram_details.name.isin(outliers)]\n",
    "\n",
    "binary_data_predictors = get_predictors(instagram_details)\n",
    "\n",
    "admission_rate_med = instagram_details.admission_rate.median()\n",
    "income_med_med = instagram_details.income_med.median()\n",
    "cost_attendance_med = instagram_details.cost_attendance.median()\n",
    "binary_city = instagram_details.locale_type == \"city\"\n",
    "\n",
    "above_med_admission_rate = instagram_details.admission_rate > admission_rate_med\n",
    "above_med_income_med = instagram_details.income_med > income_med_med\n",
    "above_med_cost_attendance = instagram_details.cost_attendance > cost_attendance_med\n",
    "\n",
    "binary_data = pd.DataFrame({\"above_med_admission_rate\": above_med_admission_rate,\n",
    "                            \"above_med_income_med\": above_med_income_med,\n",
    "                            \"above_med_cost_attendance\": above_med_cost_attendance,\n",
    "                            \"binary_city\": binary_city})\n",
    "\n",
    "filtered_data = binary_data_predictors.join(binary_data)\n",
    "filtered_data.head()"
   ]
  },
  {
   "cell_type": "markdown",
   "metadata": {},
   "source": [
    "Then, we ran the same code as before on the filtered data."
   ]
  },
  {
   "cell_type": "code",
   "execution_count": 21,
   "metadata": {
    "scrolled": true
   },
   "outputs": [
    {
     "name": "stdout",
     "output_type": "stream",
     "text": [
      "Selectivity accuracy median: 0.57\n"
     ]
    },
    {
     "data": {
      "image/png": "[encoded data removed]",
      "text/plain": [
       "<Figure size 432x288 with 1 Axes>"
      ]
     },
     "metadata": {
      "needs_background": "light"
     },
     "output_type": "display_data"
    },
    {
     "name": "stdout",
     "output_type": "stream",
     "text": [
      "Income accuracy median: 0.50\n"
     ]
    },
    {
     "data": {
      "image/png": "[encoded data removed]",
      "text/plain": [
       "<Figure size 432x288 with 1 Axes>"
      ]
     },
     "metadata": {
      "needs_background": "light"
     },
     "output_type": "display_data"
    },
    {
     "name": "stdout",
     "output_type": "stream",
     "text": [
      "Cost accuracy median: 0.43\n"
     ]
    },
    {
     "data": {
      "image/png": "[encoded data removed]",
      "text/plain": [
       "<Figure size 432x288 with 1 Axes>"
      ]
     },
     "metadata": {
      "needs_background": "light"
     },
     "output_type": "display_data"
    },
    {
     "name": "stdout",
     "output_type": "stream",
     "text": [
      "City accuracy median: 0.57\n"
     ]
    },
    {
     "data": {
      "image/png": "[encoded data removed]",
      "text/plain": [
       "<Figure size 432x288 with 1 Axes>"
      ]
     },
     "metadata": {
      "needs_background": "light"
     },
     "output_type": "display_data"
    }
   ],
   "source": [
    "for i in range(n):\n",
    "    run_model = log_model(filtered_data)\n",
    "    selectivity_accuracies[i] = run_model[0]\n",
    "    income_accuracies[i] = run_model[1]\n",
    "    cost_accuracies[i] = run_model[2]\n",
    "    city_accuracies[i] = run_model[3]\n",
    "\n",
    "print(\"Selectivity accuracy median: {:.2f}\".format(np.median(selectivity_accuracies)))\n",
    "plot_accuracies(selectivity_accuracies, \"selectivity\")\n",
    "\n",
    "print(\"Income accuracy median: {:.2f}\".format(np.median(income_accuracies)))\n",
    "plot_accuracies(income_accuracies, \"income\")\n",
    "\n",
    "print(\"Cost accuracy median: {:.2f}\".format(np.median(cost_accuracies)))\n",
    "plot_accuracies(cost_accuracies, \"cost\")\n",
    "\n",
    "print(\"City accuracy median: {:.2f}\".format(np.median(city_accuracies)))\n",
    "plot_accuracies(city_accuracies, \"city\")"
   ]
  },
  {
   "cell_type": "markdown",
   "metadata": {},
   "source": [
    "To our surprise, removing outliers didn't affect the data as much as we thought it would. It does decrease the selectivity accuracy, which makes sense because the three schools are some of the most selective on the list. So, without the outliers, our model might be able to predict whether or not a school is in a city.\n",
    "\n",
    "If we calculate the score of the predictor on all of the data (both acting as training and testing data), we get similar values to what we did above. It's much cleaner and more succinct this way, so we'll calculate the p-value and determine its significance this way."
   ]
  },
  {
   "cell_type": "code",
   "execution_count": 22,
   "metadata": {},
   "outputs": [
    {
     "name": "stdout",
     "output_type": "stream",
     "text": [
      "Selectivity model score: 0.67 | slopes: [-4.53327755e-06 -7.55607685e-04  2.01534257e-04  6.55177268e-04\n",
      " -4.53327755e-06  5.90180946e-04]\n",
      "Income model score: 0.55 | slopes: [-2.78302245e-05  7.48141450e-04 -4.41122228e-04 -5.12603731e-04\n",
      " -2.78302245e-05 -2.47176945e-04]\n",
      "Cost model score: 0.60 | slopes: [ 7.99051630e-05  5.10626393e-04 -3.40001070e-04 -7.45350994e-04\n",
      "  7.99051630e-05 -3.43685249e-04]\n",
      "City model score: 0.61 | slopes: [-7.15163332e-05  1.40215125e-04 -2.16878312e-04  7.29415899e-04\n",
      " -7.15163332e-05  2.27280045e-04]\n"
     ]
    }
   ],
   "source": [
    "selectivity_model = test_model(\"above_med_admission_rate\", filtered_data)\n",
    "income_model = test_model(\"above_med_income_med\", filtered_data)\n",
    "cost_model = test_model(\"above_med_cost_attendance\", filtered_data)\n",
    "city_model = test_model(\"binary_city\", filtered_data)\n",
    "\n",
    "selectivity_accuracy = selectivity_model.score(binary_data_predictors, filtered_data[\"above_med_admission_rate\"])\n",
    "income_accuracy = income_model.score(binary_data_predictors, filtered_data[\"above_med_income_med\"])\n",
    "cost_accuracy = cost_model.score(binary_data_predictors, filtered_data[\"above_med_cost_attendance\"])\n",
    "city_accuracy = city_model.score(binary_data_predictors, filtered_data[\"binary_city\"])\n",
    "\n",
    "selectivity_slope = selectivity_model.coef_[0]\n",
    "income_slope = income_model.coef_[0]\n",
    "cost_slope = cost_model.coef_[0]\n",
    "city_slope = city_model.coef_[0]\n",
    "\n",
    "print(\"Selectivity model score: {:.2f}\".format(selectivity_accuracy), \"| slopes:\", selectivity_slope)\n",
    "print(\"Income model score: {:.2f}\".format(income_accuracy), \"| slopes:\", income_slope)\n",
    "print(\"Cost model score: {:.2f}\".format(cost_accuracy), \"| slopes:\", cost_slope)\n",
    "print(\"City model score: {:.2f}\".format(city_accuracy), \"| slopes:\", city_slope)"
   ]
  },
  {
   "cell_type": "markdown",
   "metadata": {},
   "source": [
    "To calculate the significance, we permute the output as described in https://campuswire.com/c/GFD0330A5/feed/668."
   ]
  },
  {
   "cell_type": "code",
   "execution_count": 23,
   "metadata": {
    "scrolled": true
   },
   "outputs": [],
   "source": [
    "def permute_rows(df):\n",
    "    permuted = df.sample(frac=1).reset_index(drop=True)\n",
    "    return permuted\n",
    "def permute_rows_cols(df):\n",
    "    df = df.copy()\n",
    "    for col in df.columns:\n",
    "        df[col] = permute_rows(df[[col]])\n",
    "    return df"
   ]
  },
  {
   "cell_type": "code",
   "execution_count": 24,
   "metadata": {
    "scrolled": true
   },
   "outputs": [
    {
     "data": {
      "text/html": [
       "<div>\n",
       "<style scoped>\n",
       "    .dataframe tbody tr th:only-of-type {\n",
       "        vertical-align: middle;\n",
       "    }\n",
       "\n",
       "    .dataframe tbody tr th {\n",
       "        vertical-align: top;\n",
       "    }\n",
       "\n",
       "    .dataframe thead th {\n",
       "        text-align: right;\n",
       "    }\n",
       "</style>\n",
       "<table border=\"1\" class=\"dataframe\">\n",
       "  <thead>\n",
       "    <tr style=\"text-align: right;\">\n",
       "      <th></th>\n",
       "      <th>follower_curr</th>\n",
       "      <th>follower_mean</th>\n",
       "      <th>follower_med</th>\n",
       "      <th>follower_std</th>\n",
       "      <th>follower_max</th>\n",
       "      <th>follower_min</th>\n",
       "      <th>above_med_admission_rate</th>\n",
       "      <th>above_med_income_med</th>\n",
       "      <th>above_med_cost_attendance</th>\n",
       "      <th>binary_city</th>\n",
       "    </tr>\n",
       "  </thead>\n",
       "  <tbody>\n",
       "    <tr>\n",
       "      <th>0</th>\n",
       "      <td>116800.0</td>\n",
       "      <td>102192.602041</td>\n",
       "      <td>100650.0</td>\n",
       "      <td>9675.450589</td>\n",
       "      <td>116800.0</td>\n",
       "      <td>85100.0</td>\n",
       "      <td>False</td>\n",
       "      <td>True</td>\n",
       "      <td>False</td>\n",
       "      <td>False</td>\n",
       "    </tr>\n",
       "    <tr>\n",
       "      <th>2</th>\n",
       "      <td>193000.0</td>\n",
       "      <td>185870.992366</td>\n",
       "      <td>187900.0</td>\n",
       "      <td>5583.446131</td>\n",
       "      <td>193000.0</td>\n",
       "      <td>169000.0</td>\n",
       "      <td>False</td>\n",
       "      <td>False</td>\n",
       "      <td>False</td>\n",
       "      <td>False</td>\n",
       "    </tr>\n",
       "    <tr>\n",
       "      <th>3</th>\n",
       "      <td>65400.0</td>\n",
       "      <td>58784.468193</td>\n",
       "      <td>58100.0</td>\n",
       "      <td>3262.492004</td>\n",
       "      <td>65400.0</td>\n",
       "      <td>53200.0</td>\n",
       "      <td>True</td>\n",
       "      <td>True</td>\n",
       "      <td>True</td>\n",
       "      <td>True</td>\n",
       "    </tr>\n",
       "    <tr>\n",
       "      <th>4</th>\n",
       "      <td>9063.0</td>\n",
       "      <td>7931.378109</td>\n",
       "      <td>8007.0</td>\n",
       "      <td>692.013379</td>\n",
       "      <td>9063.0</td>\n",
       "      <td>6897.0</td>\n",
       "      <td>False</td>\n",
       "      <td>True</td>\n",
       "      <td>True</td>\n",
       "      <td>True</td>\n",
       "    </tr>\n",
       "    <tr>\n",
       "      <th>5</th>\n",
       "      <td>72400.0</td>\n",
       "      <td>56919.071247</td>\n",
       "      <td>58000.0</td>\n",
       "      <td>9881.110621</td>\n",
       "      <td>72400.0</td>\n",
       "      <td>37900.0</td>\n",
       "      <td>False</td>\n",
       "      <td>False</td>\n",
       "      <td>False</td>\n",
       "      <td>True</td>\n",
       "    </tr>\n",
       "  </tbody>\n",
       "</table>\n",
       "</div>"
      ],
      "text/plain": [
       "   follower_curr  follower_mean  follower_med  follower_std  follower_max  \\\n",
       "0       116800.0  102192.602041      100650.0   9675.450589      116800.0   \n",
       "2       193000.0  185870.992366      187900.0   5583.446131      193000.0   \n",
       "3        65400.0   58784.468193       58100.0   3262.492004       65400.0   \n",
       "4         9063.0    7931.378109        8007.0    692.013379        9063.0   \n",
       "5        72400.0   56919.071247       58000.0   9881.110621       72400.0   \n",
       "\n",
       "   follower_min  above_med_admission_rate  above_med_income_med  \\\n",
       "0       85100.0                     False                  True   \n",
       "2      169000.0                     False                 False   \n",
       "3       53200.0                      True                  True   \n",
       "4        6897.0                     False                  True   \n",
       "5       37900.0                     False                 False   \n",
       "\n",
       "   above_med_cost_attendance  binary_city  \n",
       "0                      False        False  \n",
       "2                      False        False  \n",
       "3                       True         True  \n",
       "4                       True         True  \n",
       "5                      False         True  "
      ]
     },
     "execution_count": 24,
     "metadata": {},
     "output_type": "execute_result"
    }
   ],
   "source": [
    "permuted_data = binary_data_predictors.join(permute_rows_cols(binary_data).astype(\"bool\"))\n",
    "permuted_data.head()"
   ]
  },
  {
   "cell_type": "markdown",
   "metadata": {},
   "source": [
    "Then, we fit models to this random data and see if its coefficients are higher than that of the actual data."
   ]
  },
  {
   "cell_type": "code",
   "execution_count": 25,
   "metadata": {},
   "outputs": [
    {
     "name": "stdout",
     "output_type": "stream",
     "text": [
      "[ True False  True  True  True  True]\n",
      "[ True False  True False  True False]\n",
      "[False False  True  True False  True]\n",
      "[False False  True  True False  True]\n"
     ]
    }
   ],
   "source": [
    "selectivity_model_permuted = test_model(\"above_med_admission_rate\", permuted_data)\n",
    "income_model_permuted = test_model(\"above_med_income_med\", permuted_data)\n",
    "cost_model_permuted = test_model(\"above_med_cost_attendance\", permuted_data)\n",
    "city_model_permuted = test_model(\"binary_city\", permuted_data)\n",
    "\n",
    "print(selectivity_model_permuted.coef_[0] > selectivity_slope)\n",
    "print(income_model_permuted.coef_[0] > income_slope)\n",
    "print(cost_model_permuted.coef_[0] > cost_slope)\n",
    "print(city_model_permuted.coef_[0] > city_slope)"
   ]
  },
  {
   "cell_type": "markdown",
   "metadata": {},
   "source": [
    "Finally, we repeat this a large number of times to approximate the p-value."
   ]
  },
  {
   "cell_type": "code",
   "execution_count": 26,
   "metadata": {},
   "outputs": [],
   "source": [
    "permuted_selectivity = np.zeros((n,m))\n",
    "permuted_income = np.zeros((n,m))\n",
    "permuted_cost = np.zeros((n,m))\n",
    "permuted_city = np.zeros((n,m))\n",
    "\n",
    "for i in range(n):\n",
    "    permuted_data = binary_data_predictors.join(permute_rows_cols(binary_data).astype(\"bool\"))\n",
    "    \n",
    "    selectivity_model_permuted = test_model(\"above_med_admission_rate\", permuted_data)\n",
    "    income_model_permuted = test_model(\"above_med_income_med\", permuted_data)\n",
    "    cost_model_permuted = test_model(\"above_med_cost_attendance\", permuted_data)\n",
    "    city_model_permuted = test_model(\"binary_city\", permuted_data)\n",
    "    \n",
    "    permuted_selectivity[i] = selectivity_model_permuted.coef_[0] > selectivity_slope\n",
    "    permuted_income[i] = income_model_permuted.coef_[0] > income_slope\n",
    "    permuted_cost[i] = cost_model_permuted.coef_[0] > cost_slope\n",
    "    permuted_city[i] = city_model_permuted.coef_[0] > city_slope"
   ]
  },
  {
   "cell_type": "code",
   "execution_count": 27,
   "metadata": {},
   "outputs": [
    {
     "name": "stdout",
     "output_type": "stream",
     "text": [
      "Selectivity p-values: [0.462 0.939 0.106 0.149 0.462 0.035]\n",
      "Income p-values: [0.589 0.158 0.833 0.858 0.589 0.814]\n",
      "Cost p-values: [0.163 0.286 0.748 0.885 0.163 0.83 ]\n",
      "City p-values: [0.797 0.42  0.692 0.18  0.797 0.313]\n"
     ]
    }
   ],
   "source": [
    "selectivity_pvalues = sum(permuted_selectivity) / n\n",
    "income_pvalues = sum(permuted_income) / n\n",
    "cost_pvalues = sum(permuted_cost) / n\n",
    "city_pvalues = sum(permuted_city) / n\n",
    "\n",
    "print(\"Selectivity p-values:\", selectivity_pvalues)\n",
    "print(\"Income p-values:\", income_pvalues)\n",
    "print(\"Cost p-values:\", cost_pvalues)\n",
    "print(\"City p-values:\", city_pvalues)"
   ]
  },
  {
   "cell_type": "markdown",
   "metadata": {},
   "source": [
    "However, it seems like none of the p-values are under a critical value of 0.05. This means that there's not enough evidence to reject the null hypothesis. Thus, we come to the conclusion that our logistic regression results are insignificant."
   ]
  }
 ],
 "metadata": {
  "kernelspec": {
   "display_name": "Python 3",
   "language": "python",
   "name": "python3"
  },
  "language_info": {
   "codemirror_mode": {
    "name": "ipython",
    "version": 3
   },
   "file_extension": ".py",
   "mimetype": "text/x-python",
   "name": "python",
   "nbconvert_exporter": "python",
   "pygments_lexer": "ipython3",
   "version": "3.8.5"
  }
 },
 "nbformat": 4,
 "nbformat_minor": 4
}
