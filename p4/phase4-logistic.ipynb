{
 "cells": [
  {
   "cell_type": "markdown",
   "metadata": {},
   "source": [
    "# INFO2950 Phase 4: Logistic Regression"
   ]
  },
  {
   "cell_type": "code",
   "execution_count": 53,
   "metadata": {},
   "outputs": [],
   "source": [
    "import os\n",
    "import numpy as np\n",
    "import pandas as pd\n",
    "import matplotlib.pyplot as plt\n",
    "\n",
    "from sklearn.linear_model import LogisticRegression\n",
    "from sklearn.model_selection import train_test_split\n",
    "\n",
    "import statsmodels.formula.api as smf"
   ]
  },
  {
   "cell_type": "code",
   "execution_count": 2,
   "metadata": {},
   "outputs": [],
   "source": [
    "data_dir = \"../data\""
   ]
  },
  {
   "cell_type": "markdown",
   "metadata": {},
   "source": [
    "In this notebook, we will be performing logistic regression on the merged Instagram and scorecard data. We hope to see if there's a relationship between Instagram statistics and some binary outputs/characteristics of associated colleges and universities. More specifically, can follower statistics predict things about an institution such as selectivity, student family income, cost of attendance, and locale type?"
   ]
  },
  {
   "cell_type": "code",
   "execution_count": 30,
   "metadata": {
    "scrolled": false
   },
   "outputs": [
    {
     "data": {
      "text/html": [
       "<div>\n",
       "<style scoped>\n",
       "    .dataframe tbody tr th:only-of-type {\n",
       "        vertical-align: middle;\n",
       "    }\n",
       "\n",
       "    .dataframe tbody tr th {\n",
       "        vertical-align: top;\n",
       "    }\n",
       "\n",
       "    .dataframe thead th {\n",
       "        text-align: right;\n",
       "    }\n",
       "</style>\n",
       "<table border=\"1\" class=\"dataframe\">\n",
       "  <thead>\n",
       "    <tr style=\"text-align: right;\">\n",
       "      <th></th>\n",
       "      <th>name</th>\n",
       "      <th>instagram</th>\n",
       "      <th>follower_curr</th>\n",
       "      <th>follower_mean</th>\n",
       "      <th>follower_med</th>\n",
       "      <th>follower_std</th>\n",
       "      <th>follower_min</th>\n",
       "      <th>follower_max</th>\n",
       "      <th>following_curr</th>\n",
       "      <th>following_mean</th>\n",
       "      <th>...</th>\n",
       "      <th>income_med</th>\n",
       "      <th>size</th>\n",
       "      <th>lat</th>\n",
       "      <th>lon</th>\n",
       "      <th>city</th>\n",
       "      <th>ownership</th>\n",
       "      <th>region</th>\n",
       "      <th>state</th>\n",
       "      <th>locale_type</th>\n",
       "      <th>locale_size</th>\n",
       "    </tr>\n",
       "  </thead>\n",
       "  <tbody>\n",
       "    <tr>\n",
       "      <th>0</th>\n",
       "      <td>Amherst College</td>\n",
       "      <td>amherstcollege</td>\n",
       "      <td>17800.0</td>\n",
       "      <td>15857.662338</td>\n",
       "      <td>15600.0</td>\n",
       "      <td>959.139013</td>\n",
       "      <td>14200.0</td>\n",
       "      <td>17800.0</td>\n",
       "      <td>650.0</td>\n",
       "      <td>636.251948</td>\n",
       "      <td>...</td>\n",
       "      <td>42053.0</td>\n",
       "      <td>1855.0</td>\n",
       "      <td>42.372459</td>\n",
       "      <td>-72.518493</td>\n",
       "      <td>Amherst</td>\n",
       "      <td>private non-profit</td>\n",
       "      <td>new england</td>\n",
       "      <td>MA</td>\n",
       "      <td>suburb</td>\n",
       "      <td>large</td>\n",
       "    </tr>\n",
       "    <tr>\n",
       "      <th>1</th>\n",
       "      <td>Arizona State University-Tempe</td>\n",
       "      <td>arizonastateuniversity</td>\n",
       "      <td>118900.0</td>\n",
       "      <td>105752.835052</td>\n",
       "      <td>104450.0</td>\n",
       "      <td>7242.379383</td>\n",
       "      <td>94100.0</td>\n",
       "      <td>118900.0</td>\n",
       "      <td>1523.0</td>\n",
       "      <td>1545.634021</td>\n",
       "      <td>...</td>\n",
       "      <td>35851.0</td>\n",
       "      <td>42529.0</td>\n",
       "      <td>33.417721</td>\n",
       "      <td>-111.934383</td>\n",
       "      <td>Tempe</td>\n",
       "      <td>public</td>\n",
       "      <td>southwest</td>\n",
       "      <td>AZ</td>\n",
       "      <td>city</td>\n",
       "      <td>medium</td>\n",
       "    </tr>\n",
       "    <tr>\n",
       "      <th>2</th>\n",
       "      <td>Boston College</td>\n",
       "      <td>bostoncollege</td>\n",
       "      <td>98600.0</td>\n",
       "      <td>92220.822622</td>\n",
       "      <td>92100.0</td>\n",
       "      <td>3247.227738</td>\n",
       "      <td>85500.0</td>\n",
       "      <td>98600.0</td>\n",
       "      <td>301.0</td>\n",
       "      <td>267.388175</td>\n",
       "      <td>...</td>\n",
       "      <td>103007.0</td>\n",
       "      <td>9639.0</td>\n",
       "      <td>42.336213</td>\n",
       "      <td>-71.169242</td>\n",
       "      <td>Chestnut Hill</td>\n",
       "      <td>private non-profit</td>\n",
       "      <td>new england</td>\n",
       "      <td>MA</td>\n",
       "      <td>city</td>\n",
       "      <td>small</td>\n",
       "    </tr>\n",
       "    <tr>\n",
       "      <th>3</th>\n",
       "      <td>Boston University</td>\n",
       "      <td>bostonu</td>\n",
       "      <td>108200.0</td>\n",
       "      <td>91363.868613</td>\n",
       "      <td>91500.0</td>\n",
       "      <td>4608.620804</td>\n",
       "      <td>82800.0</td>\n",
       "      <td>108200.0</td>\n",
       "      <td>2775.0</td>\n",
       "      <td>2568.832117</td>\n",
       "      <td>...</td>\n",
       "      <td>81244.0</td>\n",
       "      <td>17238.0</td>\n",
       "      <td>42.351118</td>\n",
       "      <td>-71.107942</td>\n",
       "      <td>Boston</td>\n",
       "      <td>private non-profit</td>\n",
       "      <td>new england</td>\n",
       "      <td>MA</td>\n",
       "      <td>city</td>\n",
       "      <td>large</td>\n",
       "    </tr>\n",
       "    <tr>\n",
       "      <th>4</th>\n",
       "      <td>Bowdoin College</td>\n",
       "      <td>bowdoincollege</td>\n",
       "      <td>18500.0</td>\n",
       "      <td>16983.629893</td>\n",
       "      <td>17100.0</td>\n",
       "      <td>939.613708</td>\n",
       "      <td>15100.0</td>\n",
       "      <td>18500.0</td>\n",
       "      <td>1542.0</td>\n",
       "      <td>1512.483986</td>\n",
       "      <td>...</td>\n",
       "      <td>61622.0</td>\n",
       "      <td>1825.0</td>\n",
       "      <td>43.907134</td>\n",
       "      <td>-69.963942</td>\n",
       "      <td>Brunswick</td>\n",
       "      <td>private non-profit</td>\n",
       "      <td>new england</td>\n",
       "      <td>ME</td>\n",
       "      <td>town</td>\n",
       "      <td>large</td>\n",
       "    </tr>\n",
       "  </tbody>\n",
       "</table>\n",
       "<p>5 rows × 34 columns</p>\n",
       "</div>"
      ],
      "text/plain": [
       "                             name               instagram  follower_curr  \\\n",
       "0                 Amherst College          amherstcollege        17800.0   \n",
       "1  Arizona State University-Tempe  arizonastateuniversity       118900.0   \n",
       "2                  Boston College           bostoncollege        98600.0   \n",
       "3               Boston University                 bostonu       108200.0   \n",
       "4                 Bowdoin College          bowdoincollege        18500.0   \n",
       "\n",
       "   follower_mean  follower_med  follower_std  follower_min  follower_max  \\\n",
       "0   15857.662338       15600.0    959.139013       14200.0       17800.0   \n",
       "1  105752.835052      104450.0   7242.379383       94100.0      118900.0   \n",
       "2   92220.822622       92100.0   3247.227738       85500.0       98600.0   \n",
       "3   91363.868613       91500.0   4608.620804       82800.0      108200.0   \n",
       "4   16983.629893       17100.0    939.613708       15100.0       18500.0   \n",
       "\n",
       "   following_curr  following_mean  ...  income_med     size        lat  \\\n",
       "0           650.0      636.251948  ...     42053.0   1855.0  42.372459   \n",
       "1          1523.0     1545.634021  ...     35851.0  42529.0  33.417721   \n",
       "2           301.0      267.388175  ...    103007.0   9639.0  42.336213   \n",
       "3          2775.0     2568.832117  ...     81244.0  17238.0  42.351118   \n",
       "4          1542.0     1512.483986  ...     61622.0   1825.0  43.907134   \n",
       "\n",
       "          lon           city           ownership       region  state  \\\n",
       "0  -72.518493        Amherst  private non-profit  new england     MA   \n",
       "1 -111.934383          Tempe              public    southwest     AZ   \n",
       "2  -71.169242  Chestnut Hill  private non-profit  new england     MA   \n",
       "3  -71.107942         Boston  private non-profit  new england     MA   \n",
       "4  -69.963942      Brunswick  private non-profit  new england     ME   \n",
       "\n",
       "   locale_type  locale_size  \n",
       "0       suburb        large  \n",
       "1         city       medium  \n",
       "2         city        small  \n",
       "3         city        large  \n",
       "4         town        large  \n",
       "\n",
       "[5 rows x 34 columns]"
      ]
     },
     "execution_count": 30,
     "metadata": {},
     "output_type": "execute_result"
    }
   ],
   "source": [
    "instagram_details = pd.read_csv(os.path.join(data_dir, \"instagram_details.csv\"))\n",
    "instagram_details.dropna(subset=[\"name\"])\n",
    "instagram_details.head()"
   ]
  },
  {
   "cell_type": "code",
   "execution_count": 4,
   "metadata": {},
   "outputs": [
    {
     "data": {
      "text/plain": [
       "Index(['name', 'instagram', 'follower_curr', 'follower_mean', 'follower_med',\n",
       "       'follower_std', 'follower_min', 'follower_max', 'following_curr',\n",
       "       'following_mean', 'following_med', 'following_std', 'following_min',\n",
       "       'following_max', 'posts_curr', 'posts_mean', 'posts_med', 'posts_std',\n",
       "       'posts_min', 'posts_max', 'admission_rate', 'sat_score',\n",
       "       'cost_attendance', 'income_avg', 'income_med', 'size', 'lat', 'lon',\n",
       "       'city', 'ownership', 'region', 'state', 'locale_type', 'locale_size'],\n",
       "      dtype='object')"
      ]
     },
     "execution_count": 4,
     "metadata": {},
     "output_type": "execute_result"
    }
   ],
   "source": [
    "instagram_details.columns"
   ]
  },
  {
   "cell_type": "markdown",
   "metadata": {},
   "source": [
    "We extract predictor columns often, so here we are refactoring it to a function. This also allows us to easily change the variables to see if we can get a better predictors."
   ]
  },
  {
   "cell_type": "code",
   "execution_count": 5,
   "metadata": {},
   "outputs": [],
   "source": [
    "def get_predictors(df):\n",
    "    # return df[[\"follower_curr\", \"follower_mean\", \"follower_med\", \"follower_std\", \"follower_max\", \"follower_min\"]]\n",
    "    return df[[\"follower_curr\", \"follower_med\", \"follower_min\"]]"
   ]
  },
  {
   "cell_type": "markdown",
   "metadata": {},
   "source": [
    "According to the linear regressions performed in the other notebook, follower percent increase was effectively random in relation to scoreboard data. Empirical testing in this notebook also seems to suggest that it isn't a great predictor, so we just commented it out."
   ]
  },
  {
   "cell_type": "code",
   "execution_count": 6,
   "metadata": {
    "scrolled": true
   },
   "outputs": [
    {
     "data": {
      "text/html": [
       "<div>\n",
       "<style scoped>\n",
       "    .dataframe tbody tr th:only-of-type {\n",
       "        vertical-align: middle;\n",
       "    }\n",
       "\n",
       "    .dataframe tbody tr th {\n",
       "        vertical-align: top;\n",
       "    }\n",
       "\n",
       "    .dataframe thead th {\n",
       "        text-align: right;\n",
       "    }\n",
       "</style>\n",
       "<table border=\"1\" class=\"dataframe\">\n",
       "  <thead>\n",
       "    <tr style=\"text-align: right;\">\n",
       "      <th></th>\n",
       "      <th>follower_curr</th>\n",
       "      <th>follower_med</th>\n",
       "      <th>follower_min</th>\n",
       "    </tr>\n",
       "  </thead>\n",
       "  <tbody>\n",
       "    <tr>\n",
       "      <th>0</th>\n",
       "      <td>17800.0</td>\n",
       "      <td>15600.0</td>\n",
       "      <td>14200.0</td>\n",
       "    </tr>\n",
       "    <tr>\n",
       "      <th>1</th>\n",
       "      <td>118900.0</td>\n",
       "      <td>104450.0</td>\n",
       "      <td>94100.0</td>\n",
       "    </tr>\n",
       "    <tr>\n",
       "      <th>2</th>\n",
       "      <td>98600.0</td>\n",
       "      <td>92100.0</td>\n",
       "      <td>85500.0</td>\n",
       "    </tr>\n",
       "    <tr>\n",
       "      <th>3</th>\n",
       "      <td>108200.0</td>\n",
       "      <td>91500.0</td>\n",
       "      <td>82800.0</td>\n",
       "    </tr>\n",
       "    <tr>\n",
       "      <th>4</th>\n",
       "      <td>18500.0</td>\n",
       "      <td>17100.0</td>\n",
       "      <td>15100.0</td>\n",
       "    </tr>\n",
       "  </tbody>\n",
       "</table>\n",
       "</div>"
      ],
      "text/plain": [
       "   follower_curr  follower_med  follower_min\n",
       "0        17800.0       15600.0       14200.0\n",
       "1       118900.0      104450.0       94100.0\n",
       "2        98600.0       92100.0       85500.0\n",
       "3       108200.0       91500.0       82800.0\n",
       "4        18500.0       17100.0       15100.0"
      ]
     },
     "execution_count": 6,
     "metadata": {},
     "output_type": "execute_result"
    }
   ],
   "source": [
    "binary_data_predictors = get_predictors(instagram_details)\n",
    "# binary_data_predictors = binary_data_predictors.assign(follower_percent_increase = (binary_data_predictors.follower_max - binary_data_predictors.follower_min) / binary_data_predictors.follower_min * 100)\n",
    "binary_data_predictors.head()"
   ]
  },
  {
   "cell_type": "markdown",
   "metadata": {},
   "source": [
    "Here, we isolate the output variables we think would be interested to try to predict. But first, we need to turn them into binary outputs."
   ]
  },
  {
   "cell_type": "code",
   "execution_count": 7,
   "metadata": {
    "scrolled": true
   },
   "outputs": [
    {
     "data": {
      "text/html": [
       "<div>\n",
       "<style scoped>\n",
       "    .dataframe tbody tr th:only-of-type {\n",
       "        vertical-align: middle;\n",
       "    }\n",
       "\n",
       "    .dataframe tbody tr th {\n",
       "        vertical-align: top;\n",
       "    }\n",
       "\n",
       "    .dataframe thead th {\n",
       "        text-align: right;\n",
       "    }\n",
       "</style>\n",
       "<table border=\"1\" class=\"dataframe\">\n",
       "  <thead>\n",
       "    <tr style=\"text-align: right;\">\n",
       "      <th></th>\n",
       "      <th>admission_rate</th>\n",
       "      <th>income_med</th>\n",
       "      <th>cost_attendance</th>\n",
       "      <th>locale_type</th>\n",
       "    </tr>\n",
       "  </thead>\n",
       "  <tbody>\n",
       "    <tr>\n",
       "      <th>0</th>\n",
       "      <td>0.1281</td>\n",
       "      <td>42053.0</td>\n",
       "      <td>71300.0</td>\n",
       "      <td>suburb</td>\n",
       "    </tr>\n",
       "    <tr>\n",
       "      <th>1</th>\n",
       "      <td>0.8478</td>\n",
       "      <td>35851.0</td>\n",
       "      <td>25621.0</td>\n",
       "      <td>city</td>\n",
       "    </tr>\n",
       "    <tr>\n",
       "      <th>2</th>\n",
       "      <td>0.2789</td>\n",
       "      <td>103007.0</td>\n",
       "      <td>70588.0</td>\n",
       "      <td>city</td>\n",
       "    </tr>\n",
       "    <tr>\n",
       "      <th>3</th>\n",
       "      <td>0.2209</td>\n",
       "      <td>81244.0</td>\n",
       "      <td>70216.0</td>\n",
       "      <td>city</td>\n",
       "    </tr>\n",
       "    <tr>\n",
       "      <th>4</th>\n",
       "      <td>0.1026</td>\n",
       "      <td>61622.0</td>\n",
       "      <td>68070.0</td>\n",
       "      <td>town</td>\n",
       "    </tr>\n",
       "  </tbody>\n",
       "</table>\n",
       "</div>"
      ],
      "text/plain": [
       "   admission_rate  income_med  cost_attendance locale_type\n",
       "0          0.1281     42053.0          71300.0      suburb\n",
       "1          0.8478     35851.0          25621.0        city\n",
       "2          0.2789    103007.0          70588.0        city\n",
       "3          0.2209     81244.0          70216.0        city\n",
       "4          0.1026     61622.0          68070.0        town"
      ]
     },
     "execution_count": 7,
     "metadata": {},
     "output_type": "execute_result"
    }
   ],
   "source": [
    "output_data = instagram_details[[\"admission_rate\", \"income_med\", \"cost_attendance\", \"locale_type\"]]\n",
    "output_data.head()"
   ]
  },
  {
   "cell_type": "markdown",
   "metadata": {},
   "source": [
    "To convert the values in the admission rate, income average, and cost of attendance columns to binary outputs, we calculate the entire sample's medians and create new columns with binary values (True/False) for whether the respective variable was above the sample's median.  \n",
    "To convert locale type to binary outputs, we categorize each row as city vs. not-city and put those values in an additional column.\n",
    "\n",
    "Note that there are biases in this data; this sample only consists of colleges that Changyuan was interested in. So, for example, there may be a skew towards more selective or urban institutions. Thus, this sample is only representative of the colleges/universities we have Instagram data for, not all the instutions in the United States."
   ]
  },
  {
   "cell_type": "code",
   "execution_count": 8,
   "metadata": {},
   "outputs": [
    {
     "name": "stdout",
     "output_type": "stream",
     "text": [
      "Median Admission Rate: 17.33%\n",
      "Median Income Average: $63463\n",
      "Median Cost of Attendance: $68901\n",
      "Percent City: 61.43%\n"
     ]
    }
   ],
   "source": [
    "admission_rate_med = output_data.admission_rate.median()\n",
    "print(\"Median Admission Rate: {:.2f}%\".format(admission_rate_med * 100))\n",
    "\n",
    "income_med_med = output_data.income_med.median()\n",
    "print(\"Median Income Average: ${:d}\".format(int(income_med_med)))\n",
    "\n",
    "cost_attendance_med = output_data.cost_attendance.median()\n",
    "print(\"Median Cost of Attendance: ${:d}\".format(int(cost_attendance_med)))\n",
    "\n",
    "binary_city = output_data.locale_type == \"city\"\n",
    "city_fraction = sum(binary_city) / len(binary_city)\n",
    "print(\"Percent City: {:.2f}%\".format(city_fraction * 100))"
   ]
  },
  {
   "cell_type": "code",
   "execution_count": 68,
   "metadata": {},
   "outputs": [
    {
     "data": {
      "text/html": [
       "<div>\n",
       "<style scoped>\n",
       "    .dataframe tbody tr th:only-of-type {\n",
       "        vertical-align: middle;\n",
       "    }\n",
       "\n",
       "    .dataframe tbody tr th {\n",
       "        vertical-align: top;\n",
       "    }\n",
       "\n",
       "    .dataframe thead th {\n",
       "        text-align: right;\n",
       "    }\n",
       "</style>\n",
       "<table border=\"1\" class=\"dataframe\">\n",
       "  <thead>\n",
       "    <tr style=\"text-align: right;\">\n",
       "      <th></th>\n",
       "      <th>above_med_admission_rate</th>\n",
       "      <th>above_med_income_med</th>\n",
       "      <th>above_med_cost_attendance</th>\n",
       "      <th>binary_city</th>\n",
       "    </tr>\n",
       "  </thead>\n",
       "  <tbody>\n",
       "    <tr>\n",
       "      <th>0</th>\n",
       "      <td>False</td>\n",
       "      <td>False</td>\n",
       "      <td>True</td>\n",
       "      <td>False</td>\n",
       "    </tr>\n",
       "    <tr>\n",
       "      <th>1</th>\n",
       "      <td>True</td>\n",
       "      <td>False</td>\n",
       "      <td>False</td>\n",
       "      <td>True</td>\n",
       "    </tr>\n",
       "    <tr>\n",
       "      <th>2</th>\n",
       "      <td>True</td>\n",
       "      <td>True</td>\n",
       "      <td>True</td>\n",
       "      <td>True</td>\n",
       "    </tr>\n",
       "    <tr>\n",
       "      <th>3</th>\n",
       "      <td>True</td>\n",
       "      <td>True</td>\n",
       "      <td>True</td>\n",
       "      <td>True</td>\n",
       "    </tr>\n",
       "    <tr>\n",
       "      <th>4</th>\n",
       "      <td>False</td>\n",
       "      <td>False</td>\n",
       "      <td>False</td>\n",
       "      <td>False</td>\n",
       "    </tr>\n",
       "  </tbody>\n",
       "</table>\n",
       "</div>"
      ],
      "text/plain": [
       "   above_med_admission_rate  above_med_income_med  above_med_cost_attendance  \\\n",
       "0                     False                 False                       True   \n",
       "1                      True                 False                      False   \n",
       "2                      True                  True                       True   \n",
       "3                      True                  True                       True   \n",
       "4                     False                 False                      False   \n",
       "\n",
       "  binary_city  \n",
       "0       False  \n",
       "1        True  \n",
       "2        True  \n",
       "3        True  \n",
       "4       False  "
      ]
     },
     "execution_count": 68,
     "metadata": {},
     "output_type": "execute_result"
    }
   ],
   "source": [
    "above_med_admission_rate = output_data.admission_rate > admission_rate_med\n",
    "above_med_income_med = output_data.income_med > income_med_med\n",
    "above_med_cost_attendance = output_data.cost_attendance > cost_attendance_med\n",
    "\n",
    "binary_data = pd.DataFrame({\"above_med_admission_rate\": above_med_admission_rate,\n",
    "                            \"above_med_income_med\": above_med_income_med,\n",
    "                            \"above_med_cost_attendance\": above_med_cost_attendance,\n",
    "                            \"binary_city\": binary_city})\n",
    "binary_data.head()"
   ]
  },
  {
   "cell_type": "markdown",
   "metadata": {},
   "source": [
    "Here, we split the data to test the significance of our model's predictions. We are training the model on a random 80% of the data, and testing it on the rest."
   ]
  },
  {
   "cell_type": "code",
   "execution_count": 10,
   "metadata": {
    "scrolled": true
   },
   "outputs": [
    {
     "data": {
      "text/html": [
       "<div>\n",
       "<style scoped>\n",
       "    .dataframe tbody tr th:only-of-type {\n",
       "        vertical-align: middle;\n",
       "    }\n",
       "\n",
       "    .dataframe tbody tr th {\n",
       "        vertical-align: top;\n",
       "    }\n",
       "\n",
       "    .dataframe thead th {\n",
       "        text-align: right;\n",
       "    }\n",
       "</style>\n",
       "<table border=\"1\" class=\"dataframe\">\n",
       "  <thead>\n",
       "    <tr style=\"text-align: right;\">\n",
       "      <th></th>\n",
       "      <th>follower_curr</th>\n",
       "      <th>follower_med</th>\n",
       "      <th>follower_min</th>\n",
       "      <th>above_med_admission_rate</th>\n",
       "      <th>above_med_income_med</th>\n",
       "      <th>above_med_cost_attendance</th>\n",
       "      <th>binary_city</th>\n",
       "    </tr>\n",
       "  </thead>\n",
       "  <tbody>\n",
       "    <tr>\n",
       "      <th>67</th>\n",
       "      <td>17000.0</td>\n",
       "      <td>14900.0</td>\n",
       "      <td>13400.0</td>\n",
       "      <td>False</td>\n",
       "      <td>False</td>\n",
       "      <td>False</td>\n",
       "      <td>False</td>\n",
       "    </tr>\n",
       "    <tr>\n",
       "      <th>4</th>\n",
       "      <td>18500.0</td>\n",
       "      <td>17100.0</td>\n",
       "      <td>15100.0</td>\n",
       "      <td>False</td>\n",
       "      <td>False</td>\n",
       "      <td>False</td>\n",
       "      <td>False</td>\n",
       "    </tr>\n",
       "    <tr>\n",
       "      <th>13</th>\n",
       "      <td>13800.0</td>\n",
       "      <td>12400.0</td>\n",
       "      <td>10900.0</td>\n",
       "      <td>True</td>\n",
       "      <td>False</td>\n",
       "      <td>False</td>\n",
       "      <td>True</td>\n",
       "    </tr>\n",
       "    <tr>\n",
       "      <th>32</th>\n",
       "      <td>72400.0</td>\n",
       "      <td>58000.0</td>\n",
       "      <td>37900.0</td>\n",
       "      <td>False</td>\n",
       "      <td>False</td>\n",
       "      <td>False</td>\n",
       "      <td>False</td>\n",
       "    </tr>\n",
       "    <tr>\n",
       "      <th>24</th>\n",
       "      <td>86400.0</td>\n",
       "      <td>80050.0</td>\n",
       "      <td>70000.0</td>\n",
       "      <td>False</td>\n",
       "      <td>True</td>\n",
       "      <td>True</td>\n",
       "      <td>True</td>\n",
       "    </tr>\n",
       "  </tbody>\n",
       "</table>\n",
       "</div>"
      ],
      "text/plain": [
       "    follower_curr  follower_med  follower_min  above_med_admission_rate  \\\n",
       "67        17000.0       14900.0       13400.0                     False   \n",
       "4         18500.0       17100.0       15100.0                     False   \n",
       "13        13800.0       12400.0       10900.0                      True   \n",
       "32        72400.0       58000.0       37900.0                     False   \n",
       "24        86400.0       80050.0       70000.0                     False   \n",
       "\n",
       "    above_med_income_med  above_med_cost_attendance  binary_city  \n",
       "67                 False                      False        False  \n",
       "4                  False                      False        False  \n",
       "13                 False                      False         True  \n",
       "32                 False                      False        False  \n",
       "24                  True                       True         True  "
      ]
     },
     "execution_count": 10,
     "metadata": {},
     "output_type": "execute_result"
    }
   ],
   "source": [
    "data = binary_data_predictors.join(binary_data)\n",
    "data_split = train_test_split(data, test_size=0.2)\n",
    "\n",
    "data_train = data_split[0]\n",
    "data_test = data_split[1]\n",
    "data_test.head()"
   ]
  },
  {
   "cell_type": "markdown",
   "metadata": {},
   "source": [
    "We are finally fitting the logistic regression model to the training data! There is one model for each output variable. We've printed the slopes and scores for each model."
   ]
  },
  {
   "cell_type": "code",
   "execution_count": 11,
   "metadata": {},
   "outputs": [],
   "source": [
    "n = 1000"
   ]
  },
  {
   "cell_type": "code",
   "execution_count": 12,
   "metadata": {},
   "outputs": [],
   "source": [
    "def test_model(output, train):\n",
    "    model = LogisticRegression(max_iter=n).fit(get_predictors(train), train[output])\n",
    "    return model\n",
    "def print_slope_score(model, test, output):\n",
    "    print(output, \"slope: {:.7f}\".format(model.coef_[0,0]))\n",
    "    print(output, \"score: {:.2f}\".format(model.score(get_predictors(test), test[output])))"
   ]
  },
  {
   "cell_type": "code",
   "execution_count": 13,
   "metadata": {
    "scrolled": false
   },
   "outputs": [
    {
     "name": "stdout",
     "output_type": "stream",
     "text": [
      "above_med_admission_rate slope: -0.0000248\n",
      "above_med_admission_rate score: 0.57\n",
      "above_med_income_med slope: -0.0000002\n",
      "above_med_income_med score: 0.86\n",
      "above_med_cost_attendance slope: 0.0000240\n",
      "above_med_cost_attendance score: 0.50\n",
      "binary_city slope: 0.0001371\n",
      "binary_city score: 0.43\n"
     ]
    }
   ],
   "source": [
    "selectivity_model = test_model(\"above_med_admission_rate\", data_train)\n",
    "income_model = test_model(\"above_med_income_med\", data_train)\n",
    "cost_model = test_model(\"above_med_cost_attendance\", data_train)\n",
    "city_model = test_model(\"binary_city\", data_train)\n",
    "\n",
    "print_slope_score(selectivity_model, data_test, \"above_med_admission_rate\")\n",
    "print_slope_score(income_model, data_test, \"above_med_income_med\")\n",
    "print_slope_score(cost_model, data_test, \"above_med_cost_attendance\")\n",
    "print_slope_score(city_model, data_test, \"binary_city\")"
   ]
  },
  {
   "cell_type": "markdown",
   "metadata": {},
   "source": [
    "Here, we manually calculate the percent accuracy of the prediction on the test data. The values below correctly match the scores above."
   ]
  },
  {
   "cell_type": "code",
   "execution_count": 14,
   "metadata": {},
   "outputs": [],
   "source": [
    "def percent_accuracy(prediction, actual):\n",
    "    accurate = prediction == actual\n",
    "    return sum(accurate) / len(accurate) * 100\n",
    "def prediction_percent_accuracy(model, test, output):\n",
    "    prediction = model.predict(get_predictors(test))\n",
    "    accuracy = percent_accuracy(prediction, test[output])\n",
    "    return accuracy\n",
    "def print_accuracy(output, accuracy):\n",
    "    print(output, \"prediction accuracy: {:.1f}%\".format(accuracy))"
   ]
  },
  {
   "cell_type": "code",
   "execution_count": 15,
   "metadata": {
    "scrolled": true
   },
   "outputs": [
    {
     "name": "stdout",
     "output_type": "stream",
     "text": [
      "above_med_admission_rate prediction accuracy: 57.1%\n",
      "above_med_income_med prediction accuracy: 85.7%\n",
      "above_med_cost_attendance prediction accuracy: 50.0%\n",
      "binary_city prediction accuracy: 42.9%\n"
     ]
    }
   ],
   "source": [
    "selectivity_accuracy = prediction_percent_accuracy(selectivity_model, data_test, \"above_med_admission_rate\")\n",
    "income_accuracy = prediction_percent_accuracy(income_model, data_test, \"above_med_income_med\")\n",
    "cost_accuracy = prediction_percent_accuracy(cost_model, data_test, \"above_med_cost_attendance\")\n",
    "city_accuracy = prediction_percent_accuracy(city_model, data_test, \"binary_city\")\n",
    "\n",
    "print_accuracy(\"above_med_admission_rate\", selectivity_accuracy)\n",
    "print_accuracy(\"above_med_income_med\", income_accuracy)\n",
    "print_accuracy(\"above_med_cost_attendance\", cost_accuracy)\n",
    "print_accuracy(\"binary_city\", city_accuracy)"
   ]
  },
  {
   "cell_type": "markdown",
   "metadata": {},
   "source": [
    "We want to run this many times (denoted by the variable `n`) to ensure that the prediction accuracy wasn't just due to a lucky sampling of training data. So, we put everything we did above into a function, `log_model`."
   ]
  },
  {
   "cell_type": "code",
   "execution_count": 16,
   "metadata": {},
   "outputs": [],
   "source": [
    "def log_model(data):\n",
    "    data_split = train_test_split(data, test_size=0.2)\n",
    "\n",
    "    data_train = data_split[0]\n",
    "    data_test = data_split[1]\n",
    "    \n",
    "    selectivity_model = test_model(\"above_med_admission_rate\", data_train)\n",
    "    income_model = test_model(\"above_med_income_med\", data_train)\n",
    "    cost_model = test_model(\"above_med_cost_attendance\", data_train)\n",
    "    city_model = test_model(\"binary_city\", data_train)\n",
    "    \n",
    "    predictor = get_predictors(data_test)\n",
    "    selectivity_accuracy = selectivity_model.score(predictor, data_test[\"above_med_admission_rate\"])\n",
    "    income_accuracy = income_model.score(predictor, data_test[\"above_med_income_med\"])\n",
    "    cost_accuracy = income_model.score(predictor, data_test[\"above_med_cost_attendance\"])\n",
    "    city_accuracy = city_model.score(predictor, data_test[\"binary_city\"])\n",
    "    \n",
    "    return selectivity_accuracy, income_accuracy, cost_accuracy, city_accuracy"
   ]
  },
  {
   "cell_type": "markdown",
   "metadata": {},
   "source": [
    "Then, we run it `n` times and calculate the median of the accuracy. An accuracy over 0.5 means the prediction was (on median) better than a binary guess."
   ]
  },
  {
   "cell_type": "code",
   "execution_count": 48,
   "metadata": {
    "scrolled": true
   },
   "outputs": [
    {
     "name": "stdout",
     "output_type": "stream",
     "text": [
      "Selectivity accuracy median: 0.57\n",
      "Income accuracy median: 0.50\n",
      "Cost accuracy median: 0.50\n",
      "City accuracy median: 0.57\n"
     ]
    }
   ],
   "source": [
    "selectivity_accuracies = np.zeros(n)\n",
    "income_accuracies = np.zeros(n)\n",
    "cost_accuracies = np.zeros(n)\n",
    "city_accuracies = np.zeros(n)\n",
    "\n",
    "for i in range(n):\n",
    "    run_model = log_model(data)\n",
    "    selectivity_accuracies[i] = run_model[0]\n",
    "    income_accuracies[i] = run_model[1]\n",
    "    cost_accuracies[i] = run_model[2]\n",
    "    city_accuracies[i] = run_model[3]\n",
    "\n",
    "print(\"Selectivity accuracy median: {:.2f}\".format(np.median(selectivity_accuracies)))\n",
    "print(\"Income accuracy median: {:.2f}\".format(np.median(income_accuracies)))\n",
    "print(\"Cost accuracy median: {:.2f}\".format(np.median(cost_accuracies)))\n",
    "print(\"City accuracy median: {:.2f}\".format(np.median(city_accuracies)))"
   ]
  },
  {
   "cell_type": "markdown",
   "metadata": {},
   "source": [
    "It seems like the follower data can reasonably predict whether a school is selective and if its locale is city or not, but not student family income or cost of attendance.\n",
    "\n",
    "Finally, we plot the accuracies to see the distribution across all `n` runs. There doesn't seem to be anything too surprising in terms of skew or kurtosis."
   ]
  },
  {
   "cell_type": "code",
   "execution_count": 18,
   "metadata": {},
   "outputs": [],
   "source": [
    "def plot_accuracies(accuracy, title):\n",
    "    plt.hist(accuracy, bins=10)\n",
    "    plt.xlabel(\"accuracy\")\n",
    "    plt.ylabel(\"frequency\")\n",
    "    plt.title(title)\n",
    "    plt.show()"
   ]
  },
  {
   "cell_type": "code",
   "execution_count": 49,
   "metadata": {
    "scrolled": false
   },
   "outputs": [
    {
     "data": {
      "image/png": "[encoded data removed]",
      "text/plain": [
       "<Figure size 432x288 with 1 Axes>"
      ]
     },
     "metadata": {
      "needs_background": "light"
     },
     "output_type": "display_data"
    },
    {
     "data": {
      "image/png": "[encoded data removed]",
      "text/plain": [
       "<Figure size 432x288 with 1 Axes>"
      ]
     },
     "metadata": {
      "needs_background": "light"
     },
     "output_type": "display_data"
    },
    {
     "data": {
      "image/png": "[encoded data removed]",
      "text/plain": [
       "<Figure size 432x288 with 1 Axes>"
      ]
     },
     "metadata": {
      "needs_background": "light"
     },
     "output_type": "display_data"
    },
    {
     "data": {
      "image/png": "[encoded data removed]",
      "text/plain": [
       "<Figure size 432x288 with 1 Axes>"
      ]
     },
     "metadata": {
      "needs_background": "light"
     },
     "output_type": "display_data"
    }
   ],
   "source": [
    "plot_accuracies(selectivity_accuracies, \"selectivity\")\n",
    "plot_accuracies(income_accuracies, \"income\")\n",
    "plot_accuracies(cost_accuracies, \"cost\")\n",
    "plot_accuracies(city_accuracies, \"city\")"
   ]
  },
  {
   "cell_type": "markdown",
   "metadata": {},
   "source": [
    "We thought the model might be improved if we removed a few outliers we found in our previous explorations. We took out Harvard, Stanford, and Yale."
   ]
  },
  {
   "cell_type": "code",
   "execution_count": 42,
   "metadata": {},
   "outputs": [
    {
     "data": {
      "text/html": [
       "<div>\n",
       "<style scoped>\n",
       "    .dataframe tbody tr th:only-of-type {\n",
       "        vertical-align: middle;\n",
       "    }\n",
       "\n",
       "    .dataframe tbody tr th {\n",
       "        vertical-align: top;\n",
       "    }\n",
       "\n",
       "    .dataframe thead th {\n",
       "        text-align: right;\n",
       "    }\n",
       "</style>\n",
       "<table border=\"1\" class=\"dataframe\">\n",
       "  <thead>\n",
       "    <tr style=\"text-align: right;\">\n",
       "      <th></th>\n",
       "      <th>follower_curr</th>\n",
       "      <th>follower_med</th>\n",
       "      <th>follower_min</th>\n",
       "      <th>above_med_admission_rate</th>\n",
       "      <th>above_med_income_med</th>\n",
       "      <th>above_med_cost_attendance</th>\n",
       "      <th>binary_city</th>\n",
       "    </tr>\n",
       "  </thead>\n",
       "  <tbody>\n",
       "    <tr>\n",
       "      <th>0</th>\n",
       "      <td>17800.0</td>\n",
       "      <td>15600.0</td>\n",
       "      <td>14200.0</td>\n",
       "      <td>False</td>\n",
       "      <td>False</td>\n",
       "      <td>True</td>\n",
       "      <td>False</td>\n",
       "    </tr>\n",
       "    <tr>\n",
       "      <th>1</th>\n",
       "      <td>118900.0</td>\n",
       "      <td>104450.0</td>\n",
       "      <td>94100.0</td>\n",
       "      <td>True</td>\n",
       "      <td>False</td>\n",
       "      <td>False</td>\n",
       "      <td>True</td>\n",
       "    </tr>\n",
       "    <tr>\n",
       "      <th>2</th>\n",
       "      <td>98600.0</td>\n",
       "      <td>92100.0</td>\n",
       "      <td>85500.0</td>\n",
       "      <td>True</td>\n",
       "      <td>True</td>\n",
       "      <td>True</td>\n",
       "      <td>True</td>\n",
       "    </tr>\n",
       "    <tr>\n",
       "      <th>3</th>\n",
       "      <td>108200.0</td>\n",
       "      <td>91500.0</td>\n",
       "      <td>82800.0</td>\n",
       "      <td>True</td>\n",
       "      <td>True</td>\n",
       "      <td>True</td>\n",
       "      <td>True</td>\n",
       "    </tr>\n",
       "    <tr>\n",
       "      <th>4</th>\n",
       "      <td>18500.0</td>\n",
       "      <td>17100.0</td>\n",
       "      <td>15100.0</td>\n",
       "      <td>False</td>\n",
       "      <td>False</td>\n",
       "      <td>False</td>\n",
       "      <td>False</td>\n",
       "    </tr>\n",
       "  </tbody>\n",
       "</table>\n",
       "</div>"
      ],
      "text/plain": [
       "   follower_curr  follower_med  follower_min  above_med_admission_rate  \\\n",
       "0        17800.0       15600.0       14200.0                     False   \n",
       "1       118900.0      104450.0       94100.0                      True   \n",
       "2        98600.0       92100.0       85500.0                      True   \n",
       "3       108200.0       91500.0       82800.0                      True   \n",
       "4        18500.0       17100.0       15100.0                     False   \n",
       "\n",
       "   above_med_income_med  above_med_cost_attendance  binary_city  \n",
       "0                 False                       True        False  \n",
       "1                 False                      False         True  \n",
       "2                  True                       True         True  \n",
       "3                  True                       True         True  \n",
       "4                 False                      False        False  "
      ]
     },
     "execution_count": 42,
     "metadata": {},
     "output_type": "execute_result"
    }
   ],
   "source": [
    "outliers = {\"Harvard University\", \"Stanford University\", \"Yale University\"}\n",
    "instagram_details = instagram_details[~instagram_details.name.isin(outliers)]\n",
    "\n",
    "binary_data_predictors = get_predictors(instagram_details)\n",
    "\n",
    "admission_rate_med = instagram_details.admission_rate.median()\n",
    "income_med_med = instagram_details.income_med.median()\n",
    "cost_attendance_med = instagram_details.cost_attendance.median()\n",
    "binary_city = instagram_details.locale_type == \"city\"\n",
    "\n",
    "above_med_admission_rate = instagram_details.admission_rate > admission_rate_med\n",
    "above_med_income_med = instagram_details.income_med > income_med_med\n",
    "above_med_cost_attendance = instagram_details.cost_attendance > cost_attendance_med\n",
    "\n",
    "binary_data = pd.DataFrame({\"above_med_admission_rate\": above_med_admission_rate,\n",
    "                            \"above_med_income_med\": above_med_income_med,\n",
    "                            \"above_med_cost_attendance\": above_med_cost_attendance,\n",
    "                            \"binary_city\": binary_city})\n",
    "\n",
    "filtered_data = binary_data_predictors.join(binary_data)\n",
    "filtered_data.head()"
   ]
  },
  {
   "cell_type": "markdown",
   "metadata": {},
   "source": [
    "Then, we ran the same code as before on the filtered data."
   ]
  },
  {
   "cell_type": "code",
   "execution_count": 47,
   "metadata": {
    "scrolled": false
   },
   "outputs": [
    {
     "name": "stdout",
     "output_type": "stream",
     "text": [
      "Selectivity accuracy median: 0.50\n"
     ]
    },
    {
     "data": {
      "image/png": "[encoded data removed]",
      "text/plain": [
       "<Figure size 432x288 with 1 Axes>"
      ]
     },
     "metadata": {
      "needs_background": "light"
     },
     "output_type": "display_data"
    },
    {
     "name": "stdout",
     "output_type": "stream",
     "text": [
      "Income accuracy median: 0.50\n"
     ]
    },
    {
     "data": {
      "image/png": "[encoded data removed]",
      "text/plain": [
       "<Figure size 432x288 with 1 Axes>"
      ]
     },
     "metadata": {
      "needs_background": "light"
     },
     "output_type": "display_data"
    },
    {
     "name": "stdout",
     "output_type": "stream",
     "text": [
      "Cost accuracy median: 0.50\n"
     ]
    },
    {
     "data": {
      "image/png": "[encoded data removed]",
      "text/plain": [
       "<Figure size 432x288 with 1 Axes>"
      ]
     },
     "metadata": {
      "needs_background": "light"
     },
     "output_type": "display_data"
    },
    {
     "name": "stdout",
     "output_type": "stream",
     "text": [
      "City accuracy median: 0.57\n"
     ]
    },
    {
     "data": {
      "image/png": "[encoded data removed]",
      "text/plain": [
       "<Figure size 432x288 with 1 Axes>"
      ]
     },
     "metadata": {
      "needs_background": "light"
     },
     "output_type": "display_data"
    }
   ],
   "source": [
    "for i in range(n):\n",
    "    run_model = log_model(filtered_data)\n",
    "    selectivity_accuracies[i] = run_model[0]\n",
    "    income_accuracies[i] = run_model[1]\n",
    "    cost_accuracies[i] = run_model[2]\n",
    "    city_accuracies[i] = run_model[3]\n",
    "\n",
    "print(\"Selectivity accuracy median: {:.2f}\".format(np.median(selectivity_accuracies)))\n",
    "plot_accuracies(selectivity_accuracies, \"selectivity\")\n",
    "\n",
    "print(\"Income accuracy median: {:.2f}\".format(np.median(income_accuracies)))\n",
    "plot_accuracies(income_accuracies, \"income\")\n",
    "\n",
    "print(\"Cost accuracy median: {:.2f}\".format(np.median(cost_accuracies)))\n",
    "plot_accuracies(cost_accuracies, \"cost\")\n",
    "\n",
    "print(\"City accuracy median: {:.2f}\".format(np.median(city_accuracies)))\n",
    "plot_accuracies(city_accuracies, \"city\")"
   ]
  },
  {
   "cell_type": "markdown",
   "metadata": {},
   "source": [
    "To our surprise, removing outliers didn't affect the data as much as we thought it would. One possibility is because those institutions are mainly outliers in popularity rather than outliers as institutions, and are predicted by our logistic regression models similarly to other schools."
   ]
  },
  {
   "cell_type": "code",
   "execution_count": 70,
   "metadata": {},
   "outputs": [
    {
     "ename": "PatsyError",
     "evalue": "model is missing required outcome variables",
     "output_type": "error",
     "traceback": [
      "\u001b[1;31m---------------------------------------------------------------------------\u001b[0m",
      "\u001b[1;31mPatsyError\u001b[0m                                Traceback (most recent call last)",
      "\u001b[1;32m<ipython-input-70-4f4d7d42cf08>\u001b[0m in \u001b[0;36m<module>\u001b[1;34m\u001b[0m\n\u001b[1;32m----> 1\u001b[1;33m \u001b[0msmf\u001b[0m\u001b[1;33m.\u001b[0m\u001b[0mlogit\u001b[0m\u001b[1;33m(\u001b[0m\u001b[0mbinary_data_predictors\u001b[0m\u001b[1;33m,\u001b[0m \u001b[0mabove_med_admission_rate\u001b[0m\u001b[1;33m)\u001b[0m\u001b[1;33m.\u001b[0m\u001b[0mfit\u001b[0m\u001b[1;33m(\u001b[0m\u001b[1;33m)\u001b[0m\u001b[1;33m\u001b[0m\u001b[1;33m\u001b[0m\u001b[0m\n\u001b[0m",
      "\u001b[1;32m~\\.conda\\envs\\info2950\\lib\\site-packages\\statsmodels\\base\\model.py\u001b[0m in \u001b[0;36mfrom_formula\u001b[1;34m(cls, formula, data, subset, drop_cols, *args, **kwargs)\u001b[0m\n\u001b[0;32m    167\u001b[0m             \u001b[0mmissing\u001b[0m \u001b[1;33m=\u001b[0m \u001b[1;34m'raise'\u001b[0m\u001b[1;33m\u001b[0m\u001b[1;33m\u001b[0m\u001b[0m\n\u001b[0;32m    168\u001b[0m \u001b[1;33m\u001b[0m\u001b[0m\n\u001b[1;32m--> 169\u001b[1;33m         tmp = handle_formula_data(data, None, formula, depth=eval_env,\n\u001b[0m\u001b[0;32m    170\u001b[0m                                   missing=missing)\n\u001b[0;32m    171\u001b[0m         \u001b[1;33m(\u001b[0m\u001b[1;33m(\u001b[0m\u001b[0mendog\u001b[0m\u001b[1;33m,\u001b[0m \u001b[0mexog\u001b[0m\u001b[1;33m)\u001b[0m\u001b[1;33m,\u001b[0m \u001b[0mmissing_idx\u001b[0m\u001b[1;33m,\u001b[0m \u001b[0mdesign_info\u001b[0m\u001b[1;33m)\u001b[0m \u001b[1;33m=\u001b[0m \u001b[0mtmp\u001b[0m\u001b[1;33m\u001b[0m\u001b[1;33m\u001b[0m\u001b[0m\n",
      "\u001b[1;32m~\\.conda\\envs\\info2950\\lib\\site-packages\\statsmodels\\formula\\formulatools.py\u001b[0m in \u001b[0;36mhandle_formula_data\u001b[1;34m(Y, X, formula, depth, missing)\u001b[0m\n\u001b[0;32m     61\u001b[0m     \u001b[1;32melse\u001b[0m\u001b[1;33m:\u001b[0m\u001b[1;33m\u001b[0m\u001b[1;33m\u001b[0m\u001b[0m\n\u001b[0;32m     62\u001b[0m         \u001b[1;32mif\u001b[0m \u001b[0mdata_util\u001b[0m\u001b[1;33m.\u001b[0m\u001b[0m_is_using_pandas\u001b[0m\u001b[1;33m(\u001b[0m\u001b[0mY\u001b[0m\u001b[1;33m,\u001b[0m \u001b[1;32mNone\u001b[0m\u001b[1;33m)\u001b[0m\u001b[1;33m:\u001b[0m\u001b[1;33m\u001b[0m\u001b[1;33m\u001b[0m\u001b[0m\n\u001b[1;32m---> 63\u001b[1;33m             result = dmatrices(formula, Y, depth, return_type='dataframe',\n\u001b[0m\u001b[0;32m     64\u001b[0m                                NA_action=na_action)\n\u001b[0;32m     65\u001b[0m         \u001b[1;32melse\u001b[0m\u001b[1;33m:\u001b[0m\u001b[1;33m\u001b[0m\u001b[1;33m\u001b[0m\u001b[0m\n",
      "\u001b[1;32m~\\.conda\\envs\\info2950\\lib\\site-packages\\patsy\\highlevel.py\u001b[0m in \u001b[0;36mdmatrices\u001b[1;34m(formula_like, data, eval_env, NA_action, return_type)\u001b[0m\n\u001b[0;32m    310\u001b[0m                                       NA_action, return_type)\n\u001b[0;32m    311\u001b[0m     \u001b[1;32mif\u001b[0m \u001b[0mlhs\u001b[0m\u001b[1;33m.\u001b[0m\u001b[0mshape\u001b[0m\u001b[1;33m[\u001b[0m\u001b[1;36m1\u001b[0m\u001b[1;33m]\u001b[0m \u001b[1;33m==\u001b[0m \u001b[1;36m0\u001b[0m\u001b[1;33m:\u001b[0m\u001b[1;33m\u001b[0m\u001b[1;33m\u001b[0m\u001b[0m\n\u001b[1;32m--> 312\u001b[1;33m         \u001b[1;32mraise\u001b[0m \u001b[0mPatsyError\u001b[0m\u001b[1;33m(\u001b[0m\u001b[1;34m\"model is missing required outcome variables\"\u001b[0m\u001b[1;33m)\u001b[0m\u001b[1;33m\u001b[0m\u001b[1;33m\u001b[0m\u001b[0m\n\u001b[0m\u001b[0;32m    313\u001b[0m     \u001b[1;32mreturn\u001b[0m \u001b[1;33m(\u001b[0m\u001b[0mlhs\u001b[0m\u001b[1;33m,\u001b[0m \u001b[0mrhs\u001b[0m\u001b[1;33m)\u001b[0m\u001b[1;33m\u001b[0m\u001b[1;33m\u001b[0m\u001b[0m\n",
      "\u001b[1;31mPatsyError\u001b[0m: model is missing required outcome variables"
     ]
    }
   ],
   "source": [
    "# smf.logit(binary_data_predictors, above_med_admission_rate).fit()"
   ]
  }
 ],
 "metadata": {
  "kernelspec": {
   "display_name": "Python 3",
   "language": "python",
   "name": "python3"
  },
  "language_info": {
   "codemirror_mode": {
    "name": "ipython",
    "version": 3
   },
   "file_extension": ".py",
   "mimetype": "text/x-python",
   "name": "python",
   "nbconvert_exporter": "python",
   "pygments_lexer": "ipython3",
   "version": "3.8.5"
  }
 },
 "nbformat": 4,
 "nbformat_minor": 4
}
