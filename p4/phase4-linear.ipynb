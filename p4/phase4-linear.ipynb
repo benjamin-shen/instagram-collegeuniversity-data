{
 "cells": [
  {
   "cell_type": "markdown",
   "metadata": {},
   "source": [
    "# INFO2950 Phase 4: Linear Regression"
   ]
  },
  {
   "cell_type": "markdown",
   "metadata": {},
   "source": [
    "1. Perform linear regression on Instagram data vs college stats to see if there is a linear relationship. Specifically, follower count and follower percent increase vs. size and admission rate.\n",
    "2. Perform linear regression on Instagram data vs categorical variables that we ignored before. Specifically, college ownership, region, and locale."
   ]
  },
  {
   "cell_type": "code",
   "execution_count": 1,
   "metadata": {},
   "outputs": [],
   "source": [
    "import os\n",
    "import pandas as pd\n",
    "import matplotlib.pyplot as plt\n",
    "from sklearn.linear_model import LinearRegression"
   ]
  },
  {
   "cell_type": "code",
   "execution_count": 2,
   "metadata": {},
   "outputs": [],
   "source": [
    "data_dir = \"../data\""
   ]
  },
  {
   "cell_type": "markdown",
   "metadata": {},
   "source": [
    "## Merged Dataset"
   ]
  },
  {
   "cell_type": "code",
   "execution_count": 3,
   "metadata": {},
   "outputs": [
    {
     "data": {
      "text/html": [
       "<div>\n",
       "<style scoped>\n",
       "    .dataframe tbody tr th:only-of-type {\n",
       "        vertical-align: middle;\n",
       "    }\n",
       "\n",
       "    .dataframe tbody tr th {\n",
       "        vertical-align: top;\n",
       "    }\n",
       "\n",
       "    .dataframe thead th {\n",
       "        text-align: right;\n",
       "    }\n",
       "</style>\n",
       "<table border=\"1\" class=\"dataframe\">\n",
       "  <thead>\n",
       "    <tr style=\"text-align: right;\">\n",
       "      <th></th>\n",
       "      <th>name</th>\n",
       "      <th>instagram</th>\n",
       "      <th>follower_curr</th>\n",
       "      <th>follower_mean</th>\n",
       "      <th>follower_med</th>\n",
       "      <th>follower_std</th>\n",
       "      <th>follower_min</th>\n",
       "      <th>follower_max</th>\n",
       "      <th>following_curr</th>\n",
       "      <th>following_mean</th>\n",
       "      <th>...</th>\n",
       "      <th>income_med</th>\n",
       "      <th>size</th>\n",
       "      <th>lat</th>\n",
       "      <th>lon</th>\n",
       "      <th>city</th>\n",
       "      <th>ownership</th>\n",
       "      <th>region</th>\n",
       "      <th>state</th>\n",
       "      <th>locale_type</th>\n",
       "      <th>locale_size</th>\n",
       "    </tr>\n",
       "  </thead>\n",
       "  <tbody>\n",
       "    <tr>\n",
       "      <th>0</th>\n",
       "      <td>University of Chicago</td>\n",
       "      <td>uchicago</td>\n",
       "      <td>116800.0</td>\n",
       "      <td>102192.602041</td>\n",
       "      <td>100650.0</td>\n",
       "      <td>9675.450589</td>\n",
       "      <td>85100.0</td>\n",
       "      <td>116800.0</td>\n",
       "      <td>284.0</td>\n",
       "      <td>271.576531</td>\n",
       "      <td>...</td>\n",
       "      <td>47139.0</td>\n",
       "      <td>6600.0</td>\n",
       "      <td>41.787994</td>\n",
       "      <td>-87.599539</td>\n",
       "      <td>Chicago</td>\n",
       "      <td>private non-profit</td>\n",
       "      <td>great lakes</td>\n",
       "      <td>IL</td>\n",
       "      <td>city</td>\n",
       "      <td>large</td>\n",
       "    </tr>\n",
       "    <tr>\n",
       "      <th>1</th>\n",
       "      <td>Yale University</td>\n",
       "      <td>yale</td>\n",
       "      <td>490700.0</td>\n",
       "      <td>445869.550173</td>\n",
       "      <td>460900.0</td>\n",
       "      <td>38742.023912</td>\n",
       "      <td>369300.0</td>\n",
       "      <td>490700.0</td>\n",
       "      <td>249.0</td>\n",
       "      <td>244.269896</td>\n",
       "      <td>...</td>\n",
       "      <td>44004.0</td>\n",
       "      <td>5963.0</td>\n",
       "      <td>41.311158</td>\n",
       "      <td>-72.926688</td>\n",
       "      <td>New Haven</td>\n",
       "      <td>private non-profit</td>\n",
       "      <td>new england</td>\n",
       "      <td>CT</td>\n",
       "      <td>city</td>\n",
       "      <td>medium</td>\n",
       "    </tr>\n",
       "    <tr>\n",
       "      <th>2</th>\n",
       "      <td>Brown University</td>\n",
       "      <td>brownu</td>\n",
       "      <td>193000.0</td>\n",
       "      <td>185870.992366</td>\n",
       "      <td>187900.0</td>\n",
       "      <td>5583.446131</td>\n",
       "      <td>169000.0</td>\n",
       "      <td>193000.0</td>\n",
       "      <td>141.0</td>\n",
       "      <td>120.185751</td>\n",
       "      <td>...</td>\n",
       "      <td>82670.0</td>\n",
       "      <td>6752.0</td>\n",
       "      <td>41.826170</td>\n",
       "      <td>-71.403850</td>\n",
       "      <td>Providence</td>\n",
       "      <td>private non-profit</td>\n",
       "      <td>new england</td>\n",
       "      <td>RI</td>\n",
       "      <td>city</td>\n",
       "      <td>medium</td>\n",
       "    </tr>\n",
       "    <tr>\n",
       "      <th>3</th>\n",
       "      <td>Dartmouth College</td>\n",
       "      <td>dartmouthcollege</td>\n",
       "      <td>65400.0</td>\n",
       "      <td>58784.468193</td>\n",
       "      <td>58100.0</td>\n",
       "      <td>3262.492004</td>\n",
       "      <td>53200.0</td>\n",
       "      <td>65400.0</td>\n",
       "      <td>2278.0</td>\n",
       "      <td>2159.715013</td>\n",
       "      <td>...</td>\n",
       "      <td>68455.0</td>\n",
       "      <td>4312.0</td>\n",
       "      <td>43.704115</td>\n",
       "      <td>-72.289949</td>\n",
       "      <td>Hanover</td>\n",
       "      <td>private non-profit</td>\n",
       "      <td>new england</td>\n",
       "      <td>NH</td>\n",
       "      <td>town</td>\n",
       "      <td>small</td>\n",
       "    </tr>\n",
       "    <tr>\n",
       "      <th>4</th>\n",
       "      <td>Haverford College</td>\n",
       "      <td>haverfordedu</td>\n",
       "      <td>9063.0</td>\n",
       "      <td>7931.378109</td>\n",
       "      <td>8007.0</td>\n",
       "      <td>692.013379</td>\n",
       "      <td>6897.0</td>\n",
       "      <td>9063.0</td>\n",
       "      <td>207.0</td>\n",
       "      <td>169.621891</td>\n",
       "      <td>...</td>\n",
       "      <td>65396.0</td>\n",
       "      <td>1305.0</td>\n",
       "      <td>40.007452</td>\n",
       "      <td>-75.305207</td>\n",
       "      <td>Haverford</td>\n",
       "      <td>private non-profit</td>\n",
       "      <td>mid east</td>\n",
       "      <td>PA</td>\n",
       "      <td>suburb</td>\n",
       "      <td>large</td>\n",
       "    </tr>\n",
       "  </tbody>\n",
       "</table>\n",
       "<p>5 rows × 34 columns</p>\n",
       "</div>"
      ],
      "text/plain": [
       "                    name         instagram  follower_curr  follower_mean  \\\n",
       "0  University of Chicago          uchicago       116800.0  102192.602041   \n",
       "1        Yale University              yale       490700.0  445869.550173   \n",
       "2       Brown University            brownu       193000.0  185870.992366   \n",
       "3      Dartmouth College  dartmouthcollege        65400.0   58784.468193   \n",
       "4      Haverford College      haverfordedu         9063.0    7931.378109   \n",
       "\n",
       "   follower_med  follower_std  follower_min  follower_max  following_curr  \\\n",
       "0      100650.0   9675.450589       85100.0      116800.0           284.0   \n",
       "1      460900.0  38742.023912      369300.0      490700.0           249.0   \n",
       "2      187900.0   5583.446131      169000.0      193000.0           141.0   \n",
       "3       58100.0   3262.492004       53200.0       65400.0          2278.0   \n",
       "4        8007.0    692.013379        6897.0        9063.0           207.0   \n",
       "\n",
       "   following_mean  ...  income_med    size        lat        lon        city  \\\n",
       "0      271.576531  ...     47139.0  6600.0  41.787994 -87.599539     Chicago   \n",
       "1      244.269896  ...     44004.0  5963.0  41.311158 -72.926688   New Haven   \n",
       "2      120.185751  ...     82670.0  6752.0  41.826170 -71.403850  Providence   \n",
       "3     2159.715013  ...     68455.0  4312.0  43.704115 -72.289949     Hanover   \n",
       "4      169.621891  ...     65396.0  1305.0  40.007452 -75.305207   Haverford   \n",
       "\n",
       "            ownership       region  state  locale_type  locale_size  \n",
       "0  private non-profit  great lakes     IL         city        large  \n",
       "1  private non-profit  new england     CT         city       medium  \n",
       "2  private non-profit  new england     RI         city       medium  \n",
       "3  private non-profit  new england     NH         town        small  \n",
       "4  private non-profit     mid east     PA       suburb        large  \n",
       "\n",
       "[5 rows x 34 columns]"
      ]
     },
     "execution_count": 3,
     "metadata": {},
     "output_type": "execute_result"
    }
   ],
   "source": [
    "# Load merged dataset\n",
    "instagram_details = pd.read_csv(os.path.join(data_dir, \"instagram_details.csv\"))\n",
    "instagram_details.head()"
   ]
  },
  {
   "cell_type": "code",
   "execution_count": 4,
   "metadata": {},
   "outputs": [
    {
     "data": {
      "text/plain": [
       "Index(['name', 'instagram', 'follower_curr', 'follower_mean', 'follower_med',\n",
       "       'follower_std', 'follower_min', 'follower_max', 'following_curr',\n",
       "       'following_mean', 'following_med', 'following_std', 'following_min',\n",
       "       'following_max', 'posts_curr', 'posts_mean', 'posts_med', 'posts_std',\n",
       "       'posts_min', 'posts_max', 'admission_rate', 'sat_score',\n",
       "       'cost_attendance', 'income_avg', 'income_med', 'size', 'lat', 'lon',\n",
       "       'city', 'ownership', 'region', 'state', 'locale_type', 'locale_size'],\n",
       "      dtype='object')"
      ]
     },
     "execution_count": 4,
     "metadata": {},
     "output_type": "execute_result"
    }
   ],
   "source": [
    "# What are the columns again\n",
    "instagram_details.columns"
   ]
  },
  {
   "cell_type": "code",
   "execution_count": 5,
   "metadata": {},
   "outputs": [],
   "source": [
    "# Drop @ivyleague for these analyses\n",
    "instagram_details = instagram_details[instagram_details.instagram != \"ivyleague\"]"
   ]
  },
  {
   "cell_type": "markdown",
   "metadata": {},
   "source": [
    "## Multivariate regression on numerical data"
   ]
  },
  {
   "cell_type": "code",
   "execution_count": 6,
   "metadata": {},
   "outputs": [],
   "source": [
    "def reg_stats(df, predictors, target):\n",
    "    reg = LinearRegression().fit(df[predictors], df[target])\n",
    "    for i in range(len(predictors)):\n",
    "        print(\"{} coef: {:.6f}\".format(predictors[i], reg.coef_[i]))\n",
    "    print(\"r^2: {:.3f}\".format(reg.score(df[predictors], df[target])))"
   ]
  },
  {
   "cell_type": "code",
   "execution_count": 7,
   "metadata": {},
   "outputs": [
    {
     "name": "stdout",
     "output_type": "stream",
     "text": [
      "admission_rate coef: -182343.380366\n",
      "r^2: 0.042\n"
     ]
    }
   ],
   "source": [
    "reg_stats(instagram_details, ['admission_rate'], 'follower_med')"
   ]
  },
  {
   "cell_type": "markdown",
   "metadata": {},
   "source": [
    "Predicting the median followers using just the college's admission rate does not give much insight, with a very low $r^2$."
   ]
  },
  {
   "cell_type": "code",
   "execution_count": 8,
   "metadata": {},
   "outputs": [
    {
     "name": "stdout",
     "output_type": "stream",
     "text": [
      "income_med coef: 0.899166\n",
      "r^2: 0.841\n"
     ]
    }
   ],
   "source": [
    "# What is the relationship between median income and average income\n",
    "reg_stats(instagram_details, ['income_med'], 'income_avg')\n",
    "# not related to the other cells v much"
   ]
  },
  {
   "cell_type": "code",
   "execution_count": 9,
   "metadata": {},
   "outputs": [
    {
     "name": "stdout",
     "output_type": "stream",
     "text": [
      "size coef: 2.551152\n",
      "r^2: 0.018\n"
     ]
    }
   ],
   "source": [
    "reg_stats(instagram_details, ['size'], 'follower_med')"
   ]
  },
  {
   "cell_type": "markdown",
   "metadata": {},
   "source": [
    "Predicting the median followers using only size is even less useful."
   ]
  },
  {
   "cell_type": "code",
   "execution_count": 10,
   "metadata": {
    "scrolled": true
   },
   "outputs": [
    {
     "name": "stdout",
     "output_type": "stream",
     "text": [
      "size coef: 5.399882\n",
      "admission_rate coef: -297206.463067\n",
      "r^2: 0.107\n"
     ]
    }
   ],
   "source": [
    "reg_stats(instagram_details, ['size', 'admission_rate'], 'follower_med')"
   ]
  },
  {
   "cell_type": "markdown",
   "metadata": {},
   "source": [
    "But using size and admission rate together as predictors, however, raises our $r^2$ to 0.107."
   ]
  },
  {
   "cell_type": "code",
   "execution_count": 11,
   "metadata": {
    "scrolled": true
   },
   "outputs": [
    {
     "name": "stdout",
     "output_type": "stream",
     "text": [
      "size coef: 3.607143\n",
      "admission_rate coef: -265444.552864\n",
      "income_med coef: -3.137739\n",
      "r^2: 0.193\n"
     ]
    }
   ],
   "source": [
    "reg_stats(instagram_details, ['size', 'admission_rate', 'income_med'], 'follower_med')"
   ]
  },
  {
   "cell_type": "markdown",
   "metadata": {},
   "source": [
    "With size, admission rate, and median income as predictors, we get $r^2 = 0.193$"
   ]
  },
  {
   "cell_type": "code",
   "execution_count": 12,
   "metadata": {},
   "outputs": [
    {
     "name": "stdout",
     "output_type": "stream",
     "text": [
      "size coef: 4.108562\n",
      "admission_rate coef: -232603.178019\n",
      "income_med coef: -3.195766\n",
      "cost_attendance coef: 0.679158\n",
      "r^2: 0.193\n"
     ]
    }
   ],
   "source": [
    "reg_stats(instagram_details, ['size', 'admission_rate', 'income_med', 'cost_attendance'], 'follower_med')"
   ]
  },
  {
   "cell_type": "markdown",
   "metadata": {},
   "source": [
    "Adding cost of attendance is about the same as not adding it"
   ]
  },
  {
   "cell_type": "code",
   "execution_count": 13,
   "metadata": {},
   "outputs": [],
   "source": [
    "def remove_outliers(df, outliers = {\"Harvard University\", \"Stanford University\", \"Yale University\"}):\n",
    "    return df[~df.name.isin(outliers)]"
   ]
  },
  {
   "cell_type": "markdown",
   "metadata": {},
   "source": [
    "What if we remove Harvard, Stanford, and Yale as in our earlier exploratory analysis?"
   ]
  },
  {
   "cell_type": "code",
   "execution_count": 14,
   "metadata": {},
   "outputs": [
    {
     "name": "stdout",
     "output_type": "stream",
     "text": [
      "size coef: 4.697836\n",
      "admission_rate coef: -163826.635340\n",
      "income_med coef: -0.615451\n",
      "cost_attendance coef: -0.165052\n",
      "r^2: 0.469\n"
     ]
    }
   ],
   "source": [
    "filtered_instagram_details = remove_outliers(instagram_details)\n",
    "\n",
    "reg_stats(filtered_instagram_details, ['size', 'admission_rate', 'income_med', 'cost_attendance'], 'follower_med')"
   ]
  },
  {
   "cell_type": "markdown",
   "metadata": {},
   "source": [
    "The same predictors of size, admission rate, and median income yield a much higher $r^2 = 0.469$!"
   ]
  },
  {
   "cell_type": "markdown",
   "metadata": {},
   "source": [
    "What if we try to predict follower percent increase from size, admission rate, and median income?"
   ]
  },
  {
   "cell_type": "code",
   "execution_count": 15,
   "metadata": {},
   "outputs": [
    {
     "data": {
      "text/plain": [
       "count     69.000000\n",
       "mean      28.956461\n",
       "std       14.540610\n",
       "min       14.201183\n",
       "25%       21.788674\n",
       "50%       26.530612\n",
       "75%       32.625995\n",
       "max      116.908213\n",
       "Name: follower_pct_increase, dtype: float64"
      ]
     },
     "execution_count": 15,
     "metadata": {},
     "output_type": "execute_result"
    }
   ],
   "source": [
    "instagram_details['follower_pct_increase'] = (instagram_details['follower_max'] - instagram_details['follower_min']) / instagram_details['follower_min'] * 100\n",
    "filtered_instagram_details = remove_outliers(instagram_details)\n",
    "instagram_details['follower_pct_increase'].describe()"
   ]
  },
  {
   "cell_type": "markdown",
   "metadata": {},
   "source": [
    "Over the past year, the average college Instagram account has grown 28.96% from its minimum to its maximum over that period, with a minimum increase of 14.20% from the colleges we have data for to a maximum of 116.91%."
   ]
  },
  {
   "cell_type": "code",
   "execution_count": 16,
   "metadata": {},
   "outputs": [
    {
     "name": "stdout",
     "output_type": "stream",
     "text": [
      "size coef: -0.000147\n",
      "admission_rate coef: 10.732157\n",
      "income_med coef: -0.000087\n",
      "cost_attendance coef: 0.000198\n",
      "r^2: 0.060\n"
     ]
    }
   ],
   "source": [
    "reg_stats(instagram_details, ['size', 'admission_rate', 'income_med', 'cost_attendance'], 'follower_pct_increase')"
   ]
  },
  {
   "cell_type": "code",
   "execution_count": 17,
   "metadata": {
    "scrolled": true
   },
   "outputs": [
    {
     "name": "stdout",
     "output_type": "stream",
     "text": [
      "size coef: -0.000148\n",
      "admission_rate coef: 10.554681\n",
      "income_med coef: -0.000091\n",
      "cost_attendance coef: 0.000198\n",
      "r^2: 0.059\n"
     ]
    }
   ],
   "source": [
    "reg_stats(filtered_instagram_details, ['size', 'admission_rate', 'income_med', 'cost_attendance'], 'follower_pct_increase')"
   ]
  },
  {
   "cell_type": "markdown",
   "metadata": {},
   "source": [
    "We are much less confident in predicting follower percent increase with the same predictors we used to predict median followers, even with outliers removed."
   ]
  },
  {
   "cell_type": "code",
   "execution_count": 18,
   "metadata": {
    "scrolled": true
   },
   "outputs": [
    {
     "name": "stdout",
     "output_type": "stream",
     "text": [
      "size coef: 4.699903\n",
      "admission_rate coef: -163973.871382\n",
      "income_med coef: -0.614179\n",
      "follower_pct_increase coef: 13.949833\n",
      "cost_attendance coef: -0.167821\n",
      "r^2: 0.469\n"
     ]
    }
   ],
   "source": [
    "reg_stats(filtered_instagram_details, ['size', 'admission_rate', 'income_med', 'follower_pct_increase', 'cost_attendance'], 'follower_med')"
   ]
  },
  {
   "cell_type": "markdown",
   "metadata": {},
   "source": [
    "Adding follower percent increase to our predictors doesn't increase the model's performance on predicting median followers."
   ]
  },
  {
   "cell_type": "markdown",
   "metadata": {},
   "source": [
    "## Multivariate regression, adding in categorical data"
   ]
  },
  {
   "cell_type": "markdown",
   "metadata": {},
   "source": [
    "To do linear regression on college ownership, region, and locale, we'll need to make indicator variables. For ownership this is simple enough (public/private), but for region and locale it's a bit more complicated."
   ]
  },
  {
   "cell_type": "code",
   "execution_count": 19,
   "metadata": {},
   "outputs": [
    {
     "data": {
      "text/html": [
       "<div>\n",
       "<style scoped>\n",
       "    .dataframe tbody tr th:only-of-type {\n",
       "        vertical-align: middle;\n",
       "    }\n",
       "\n",
       "    .dataframe tbody tr th {\n",
       "        vertical-align: top;\n",
       "    }\n",
       "\n",
       "    .dataframe thead th {\n",
       "        text-align: right;\n",
       "    }\n",
       "</style>\n",
       "<table border=\"1\" class=\"dataframe\">\n",
       "  <thead>\n",
       "    <tr style=\"text-align: right;\">\n",
       "      <th></th>\n",
       "      <th>name</th>\n",
       "      <th>instagram</th>\n",
       "      <th>follower_curr</th>\n",
       "      <th>follower_mean</th>\n",
       "      <th>follower_med</th>\n",
       "      <th>follower_std</th>\n",
       "      <th>follower_min</th>\n",
       "      <th>follower_max</th>\n",
       "      <th>following_curr</th>\n",
       "      <th>following_mean</th>\n",
       "      <th>...</th>\n",
       "      <th>lon</th>\n",
       "      <th>city</th>\n",
       "      <th>ownership</th>\n",
       "      <th>region</th>\n",
       "      <th>state</th>\n",
       "      <th>locale_type</th>\n",
       "      <th>locale_size</th>\n",
       "      <th>follower_pct_increase</th>\n",
       "      <th>is_private</th>\n",
       "      <th>locale_type_num</th>\n",
       "    </tr>\n",
       "  </thead>\n",
       "  <tbody>\n",
       "    <tr>\n",
       "      <th>0</th>\n",
       "      <td>University of Chicago</td>\n",
       "      <td>uchicago</td>\n",
       "      <td>116800.0</td>\n",
       "      <td>102192.602041</td>\n",
       "      <td>100650.0</td>\n",
       "      <td>9675.450589</td>\n",
       "      <td>85100.0</td>\n",
       "      <td>116800.0</td>\n",
       "      <td>284.0</td>\n",
       "      <td>271.576531</td>\n",
       "      <td>...</td>\n",
       "      <td>-87.599539</td>\n",
       "      <td>Chicago</td>\n",
       "      <td>private non-profit</td>\n",
       "      <td>great lakes</td>\n",
       "      <td>IL</td>\n",
       "      <td>city</td>\n",
       "      <td>large</td>\n",
       "      <td>37.250294</td>\n",
       "      <td>1</td>\n",
       "      <td>4</td>\n",
       "    </tr>\n",
       "    <tr>\n",
       "      <th>1</th>\n",
       "      <td>Yale University</td>\n",
       "      <td>yale</td>\n",
       "      <td>490700.0</td>\n",
       "      <td>445869.550173</td>\n",
       "      <td>460900.0</td>\n",
       "      <td>38742.023912</td>\n",
       "      <td>369300.0</td>\n",
       "      <td>490700.0</td>\n",
       "      <td>249.0</td>\n",
       "      <td>244.269896</td>\n",
       "      <td>...</td>\n",
       "      <td>-72.926688</td>\n",
       "      <td>New Haven</td>\n",
       "      <td>private non-profit</td>\n",
       "      <td>new england</td>\n",
       "      <td>CT</td>\n",
       "      <td>city</td>\n",
       "      <td>medium</td>\n",
       "      <td>32.873003</td>\n",
       "      <td>1</td>\n",
       "      <td>4</td>\n",
       "    </tr>\n",
       "    <tr>\n",
       "      <th>2</th>\n",
       "      <td>Brown University</td>\n",
       "      <td>brownu</td>\n",
       "      <td>193000.0</td>\n",
       "      <td>185870.992366</td>\n",
       "      <td>187900.0</td>\n",
       "      <td>5583.446131</td>\n",
       "      <td>169000.0</td>\n",
       "      <td>193000.0</td>\n",
       "      <td>141.0</td>\n",
       "      <td>120.185751</td>\n",
       "      <td>...</td>\n",
       "      <td>-71.403850</td>\n",
       "      <td>Providence</td>\n",
       "      <td>private non-profit</td>\n",
       "      <td>new england</td>\n",
       "      <td>RI</td>\n",
       "      <td>city</td>\n",
       "      <td>medium</td>\n",
       "      <td>14.201183</td>\n",
       "      <td>1</td>\n",
       "      <td>4</td>\n",
       "    </tr>\n",
       "    <tr>\n",
       "      <th>3</th>\n",
       "      <td>Dartmouth College</td>\n",
       "      <td>dartmouthcollege</td>\n",
       "      <td>65400.0</td>\n",
       "      <td>58784.468193</td>\n",
       "      <td>58100.0</td>\n",
       "      <td>3262.492004</td>\n",
       "      <td>53200.0</td>\n",
       "      <td>65400.0</td>\n",
       "      <td>2278.0</td>\n",
       "      <td>2159.715013</td>\n",
       "      <td>...</td>\n",
       "      <td>-72.289949</td>\n",
       "      <td>Hanover</td>\n",
       "      <td>private non-profit</td>\n",
       "      <td>new england</td>\n",
       "      <td>NH</td>\n",
       "      <td>town</td>\n",
       "      <td>small</td>\n",
       "      <td>22.932331</td>\n",
       "      <td>1</td>\n",
       "      <td>2</td>\n",
       "    </tr>\n",
       "    <tr>\n",
       "      <th>4</th>\n",
       "      <td>Haverford College</td>\n",
       "      <td>haverfordedu</td>\n",
       "      <td>9063.0</td>\n",
       "      <td>7931.378109</td>\n",
       "      <td>8007.0</td>\n",
       "      <td>692.013379</td>\n",
       "      <td>6897.0</td>\n",
       "      <td>9063.0</td>\n",
       "      <td>207.0</td>\n",
       "      <td>169.621891</td>\n",
       "      <td>...</td>\n",
       "      <td>-75.305207</td>\n",
       "      <td>Haverford</td>\n",
       "      <td>private non-profit</td>\n",
       "      <td>mid east</td>\n",
       "      <td>PA</td>\n",
       "      <td>suburb</td>\n",
       "      <td>large</td>\n",
       "      <td>31.404959</td>\n",
       "      <td>1</td>\n",
       "      <td>3</td>\n",
       "    </tr>\n",
       "  </tbody>\n",
       "</table>\n",
       "<p>5 rows × 37 columns</p>\n",
       "</div>"
      ],
      "text/plain": [
       "                    name         instagram  follower_curr  follower_mean  \\\n",
       "0  University of Chicago          uchicago       116800.0  102192.602041   \n",
       "1        Yale University              yale       490700.0  445869.550173   \n",
       "2       Brown University            brownu       193000.0  185870.992366   \n",
       "3      Dartmouth College  dartmouthcollege        65400.0   58784.468193   \n",
       "4      Haverford College      haverfordedu         9063.0    7931.378109   \n",
       "\n",
       "   follower_med  follower_std  follower_min  follower_max  following_curr  \\\n",
       "0      100650.0   9675.450589       85100.0      116800.0           284.0   \n",
       "1      460900.0  38742.023912      369300.0      490700.0           249.0   \n",
       "2      187900.0   5583.446131      169000.0      193000.0           141.0   \n",
       "3       58100.0   3262.492004       53200.0       65400.0          2278.0   \n",
       "4        8007.0    692.013379        6897.0        9063.0           207.0   \n",
       "\n",
       "   following_mean  ...        lon        city           ownership  \\\n",
       "0      271.576531  ... -87.599539     Chicago  private non-profit   \n",
       "1      244.269896  ... -72.926688   New Haven  private non-profit   \n",
       "2      120.185751  ... -71.403850  Providence  private non-profit   \n",
       "3     2159.715013  ... -72.289949     Hanover  private non-profit   \n",
       "4      169.621891  ... -75.305207   Haverford  private non-profit   \n",
       "\n",
       "        region  state  locale_type  locale_size  follower_pct_increase  \\\n",
       "0  great lakes     IL         city        large              37.250294   \n",
       "1  new england     CT         city       medium              32.873003   \n",
       "2  new england     RI         city       medium              14.201183   \n",
       "3  new england     NH         town        small              22.932331   \n",
       "4     mid east     PA       suburb        large              31.404959   \n",
       "\n",
       "   is_private  locale_type_num  \n",
       "0           1                4  \n",
       "1           1                4  \n",
       "2           1                4  \n",
       "3           1                2  \n",
       "4           1                3  \n",
       "\n",
       "[5 rows x 37 columns]"
      ]
     },
     "execution_count": 19,
     "metadata": {},
     "output_type": "execute_result"
    }
   ],
   "source": [
    "instagram_details['is_private'] = pd.get_dummies(instagram_details['ownership'])['private non-profit']\n",
    "\n",
    "# Map locale type to a number, in increasing order of \"cityness\"\n",
    "locale_type_map = {\"rural\": 1, \"town\": 2, \"suburb\": 3, \"city\": 4}\n",
    "instagram_details['locale_type_num'] = instagram_details['locale_type'].map(locale_type_map)\n",
    "\n",
    "instagram_details.head()"
   ]
  },
  {
   "cell_type": "code",
   "execution_count": 20,
   "metadata": {},
   "outputs": [
    {
     "data": {
      "text/html": [
       "<div>\n",
       "<style scoped>\n",
       "    .dataframe tbody tr th:only-of-type {\n",
       "        vertical-align: middle;\n",
       "    }\n",
       "\n",
       "    .dataframe tbody tr th {\n",
       "        vertical-align: top;\n",
       "    }\n",
       "\n",
       "    .dataframe thead th {\n",
       "        text-align: right;\n",
       "    }\n",
       "</style>\n",
       "<table border=\"1\" class=\"dataframe\">\n",
       "  <thead>\n",
       "    <tr style=\"text-align: right;\">\n",
       "      <th></th>\n",
       "      <th>far west</th>\n",
       "      <th>great lakes</th>\n",
       "      <th>mid east</th>\n",
       "      <th>new england</th>\n",
       "      <th>plains</th>\n",
       "      <th>rocky mountains</th>\n",
       "      <th>southeast</th>\n",
       "      <th>southwest</th>\n",
       "    </tr>\n",
       "  </thead>\n",
       "  <tbody>\n",
       "    <tr>\n",
       "      <th>0</th>\n",
       "      <td>0</td>\n",
       "      <td>1</td>\n",
       "      <td>0</td>\n",
       "      <td>0</td>\n",
       "      <td>0</td>\n",
       "      <td>0</td>\n",
       "      <td>0</td>\n",
       "      <td>0</td>\n",
       "    </tr>\n",
       "    <tr>\n",
       "      <th>1</th>\n",
       "      <td>0</td>\n",
       "      <td>0</td>\n",
       "      <td>0</td>\n",
       "      <td>1</td>\n",
       "      <td>0</td>\n",
       "      <td>0</td>\n",
       "      <td>0</td>\n",
       "      <td>0</td>\n",
       "    </tr>\n",
       "    <tr>\n",
       "      <th>2</th>\n",
       "      <td>0</td>\n",
       "      <td>0</td>\n",
       "      <td>0</td>\n",
       "      <td>1</td>\n",
       "      <td>0</td>\n",
       "      <td>0</td>\n",
       "      <td>0</td>\n",
       "      <td>0</td>\n",
       "    </tr>\n",
       "    <tr>\n",
       "      <th>3</th>\n",
       "      <td>0</td>\n",
       "      <td>0</td>\n",
       "      <td>0</td>\n",
       "      <td>1</td>\n",
       "      <td>0</td>\n",
       "      <td>0</td>\n",
       "      <td>0</td>\n",
       "      <td>0</td>\n",
       "    </tr>\n",
       "    <tr>\n",
       "      <th>4</th>\n",
       "      <td>0</td>\n",
       "      <td>0</td>\n",
       "      <td>1</td>\n",
       "      <td>0</td>\n",
       "      <td>0</td>\n",
       "      <td>0</td>\n",
       "      <td>0</td>\n",
       "      <td>0</td>\n",
       "    </tr>\n",
       "  </tbody>\n",
       "</table>\n",
       "</div>"
      ],
      "text/plain": [
       "   far west  great lakes  mid east  new england  plains  rocky mountains  \\\n",
       "0         0            1         0            0       0                0   \n",
       "1         0            0         0            1       0                0   \n",
       "2         0            0         0            1       0                0   \n",
       "3         0            0         0            1       0                0   \n",
       "4         0            0         1            0       0                0   \n",
       "\n",
       "   southeast  southwest  \n",
       "0          0          0  \n",
       "1          0          0  \n",
       "2          0          0  \n",
       "3          0          0  \n",
       "4          0          0  "
      ]
     },
     "execution_count": 20,
     "metadata": {},
     "output_type": "execute_result"
    }
   ],
   "source": [
    "# There isn't a natural order for region, so we will predict using each region as a dummy variable\n",
    "region_dummies = pd.get_dummies(instagram_details['region'])\n",
    "\n",
    "region_dummies.head()"
   ]
  },
  {
   "cell_type": "code",
   "execution_count": 21,
   "metadata": {},
   "outputs": [
    {
     "name": "stdout",
     "output_type": "stream",
     "text": [
      "is_private coef: 13735.530000\n",
      "r^2: 0.001\n"
     ]
    }
   ],
   "source": [
    "reg_stats(instagram_details, ['is_private'], 'follower_med')"
   ]
  },
  {
   "cell_type": "code",
   "execution_count": 22,
   "metadata": {},
   "outputs": [
    {
     "name": "stdout",
     "output_type": "stream",
     "text": [
      "is_private coef: -36077.989362\n",
      "r^2: 0.043\n"
     ]
    }
   ],
   "source": [
    "# With Harvard, etc. removed\n",
    "filtered_instagram_details = remove_outliers(instagram_details)\n",
    "reg_stats(filtered_instagram_details, ['is_private'], 'follower_med')"
   ]
  },
  {
   "cell_type": "markdown",
   "metadata": {},
   "source": [
    "Using is_private to predict is (surprisingly?) not very helpful."
   ]
  },
  {
   "cell_type": "code",
   "execution_count": 23,
   "metadata": {},
   "outputs": [
    {
     "name": "stdout",
     "output_type": "stream",
     "text": [
      "is_private coef: -18401.738280\n",
      "locale_type_num coef: 41321.707371\n",
      "r^2: 0.176\n"
     ]
    }
   ],
   "source": [
    "reg_stats(filtered_instagram_details, ['is_private', 'locale_type_num'], 'follower_med')"
   ]
  },
  {
   "cell_type": "markdown",
   "metadata": {},
   "source": [
    "It is improved when adding in the locale type."
   ]
  },
  {
   "cell_type": "code",
   "execution_count": 24,
   "metadata": {},
   "outputs": [
    {
     "name": "stdout",
     "output_type": "stream",
     "text": [
      "size coef: 3.907407\n",
      "admission_rate coef: -162974.005970\n",
      "income_med coef: -0.537504\n",
      "cost_attendance coef: 0.775280\n",
      "is_private coef: -45842.501669\n",
      "locale_type_num coef: 20834.384560\n",
      "r^2: 0.497\n"
     ]
    }
   ],
   "source": [
    "reg_stats(filtered_instagram_details, ['size', 'admission_rate', 'income_med', 'cost_attendance', 'is_private', 'locale_type_num'], 'follower_med')"
   ]
  },
  {
   "cell_type": "markdown",
   "metadata": {},
   "source": [
    "Predicting with everything discussed so far except region manages to explain almost 50% of the variability in median number of followers."
   ]
  },
  {
   "cell_type": "code",
   "execution_count": 25,
   "metadata": {},
   "outputs": [
    {
     "name": "stdout",
     "output_type": "stream",
     "text": [
      "r^2: 0.05923232019422253\n"
     ]
    }
   ],
   "source": [
    "reg = LinearRegression().fit(region_dummies, instagram_details['follower_med'])\n",
    "print(\"r^2: {}\".format(reg.score(region_dummies, instagram_details['follower_med'])))"
   ]
  },
  {
   "cell_type": "markdown",
   "metadata": {},
   "source": [
    "Predicting with only the dummy variables for region, the region has a small impact."
   ]
  },
  {
   "cell_type": "code",
   "execution_count": 26,
   "metadata": {},
   "outputs": [],
   "source": [
    "def all_predict(predictors, df, target):\n",
    "    reg = LinearRegression().fit(predictors, df[target])\n",
    "    for i in range(len(predictors.columns)):\n",
    "        print(\"{} coef: {}\".format(predictors.columns[i], reg.coef_[i]))\n",
    "    print(\"r^2: {:.3f}\".format(reg.score(predictors, df[target])))"
   ]
  },
  {
   "cell_type": "markdown",
   "metadata": {},
   "source": [
    "Now let's use size, admission rate, income med, is private, and locale type joined with region dummies as predictors."
   ]
  },
  {
   "cell_type": "code",
   "execution_count": 27,
   "metadata": {},
   "outputs": [
    {
     "name": "stdout",
     "output_type": "stream",
     "text": [
      "size coef: 2.726625219507167\n",
      "admission_rate coef: -294733.0245089307\n",
      "income_med coef: -3.2039287212138423\n",
      "cost_attendance coef: 0.8896388952455304\n",
      "is_private coef: -67851.17147057487\n",
      "locale_type_num coef: 57456.32618276485\n",
      "far west coef: -31119.062714149964\n",
      "great lakes coef: 35608.39759117596\n",
      "mid east coef: -15330.84275672166\n",
      "new england coef: 99970.23556244952\n",
      "plains coef: 41152.20422867314\n",
      "rocky mountains coef: 17815.820186250872\n",
      "southeast coef: -60137.09808458026\n",
      "southwest coef: -87959.65401309924\n",
      "r^2: 0.272\n"
     ]
    }
   ],
   "source": [
    "# All schools, predicting follower median\n",
    "# Join the subset of predictors from instagram_details with the region dummies\n",
    "predictors = instagram_details[['size', 'admission_rate', 'income_med', 'cost_attendance', 'is_private', 'locale_type_num']].join(region_dummies)\n",
    "\n",
    "all_predict(predictors, instagram_details, 'follower_med')"
   ]
  },
  {
   "cell_type": "code",
   "execution_count": 28,
   "metadata": {
    "scrolled": true
   },
   "outputs": [
    {
     "name": "stdout",
     "output_type": "stream",
     "text": [
      "size coef: 4.384411121206706\n",
      "admission_rate coef: -215319.24380301658\n",
      "income_med coef: -0.6488438462996566\n",
      "cost_attendance coef: -0.8806930856069419\n",
      "is_private coef: 1634.9361428844186\n",
      "locale_type_num coef: 20310.775622115532\n",
      "far west coef: -28529.743934604252\n",
      "great lakes coef: 24243.619365076338\n",
      "mid east coef: 36206.94831200551\n",
      "new england coef: 17778.071175393696\n",
      "plains coef: 3277.183254988371\n",
      "rocky mountains coef: 22937.631202837154\n",
      "southeast coef: -17264.149421248003\n",
      "southwest coef: -58649.559954447126\n",
      "r^2: 0.593\n"
     ]
    }
   ],
   "source": [
    "# Schools excluding Harvard, Yale, Stanford\n",
    "predictors = filtered_instagram_details[['size', 'admission_rate', 'income_med', 'cost_attendance', 'is_private', 'locale_type_num']].join(region_dummies)\n",
    "\n",
    "all_predict(predictors, filtered_instagram_details, 'follower_med')"
   ]
  },
  {
   "cell_type": "markdown",
   "metadata": {},
   "source": [
    "Wow! Regression on the school size, admission rate, median income, public/private, locale type, and region manages to get an $r^2$ of 0.593."
   ]
  },
  {
   "cell_type": "code",
   "execution_count": 29,
   "metadata": {},
   "outputs": [
    {
     "name": "stdout",
     "output_type": "stream",
     "text": [
      "size coef: -0.0005508489760132854\n",
      "admission_rate coef: 14.224782289933392\n",
      "income_med coef: -3.9247373489971696e-05\n",
      "cost_attendance coef: 0.00020580036848850836\n",
      "is_private coef: -9.579002442086633\n",
      "locale_type_num coef: 7.360503513834872\n",
      "far west coef: 1.6124912203901935\n",
      "great lakes coef: -1.865017027562963\n",
      "mid east coef: 7.436009469725475\n",
      "new england coef: 1.1007370807533756\n",
      "plains coef: 5.851272906846136\n",
      "rocky mountains coef: -8.83347237828292\n",
      "southeast coef: -4.0820362261841\n",
      "southwest coef: -1.2199850456852652\n",
      "r^2: 0.168\n"
     ]
    }
   ],
   "source": [
    "# Predicting follower percent increase?\n",
    "\n",
    "all_predict(predictors, filtered_instagram_details, 'follower_pct_increase')"
   ]
  },
  {
   "cell_type": "markdown",
   "metadata": {},
   "source": [
    "not good"
   ]
  },
  {
   "cell_type": "code",
   "execution_count": 30,
   "metadata": {},
   "outputs": [
    {
     "name": "stdout",
     "output_type": "stream",
     "text": [
      "size coef: -0.01906676307480299\n",
      "admission_rate coef: 4300.446519221225\n",
      "income_med coef: 0.005142221511879059\n",
      "cost_attendance coef: 0.11746635395588942\n",
      "is_private coef: -4635.170653377607\n",
      "locale_type_num coef: -197.20086875686437\n",
      "far west coef: -264.7547203560116\n",
      "great lakes coef: 341.41354313354105\n",
      "mid east coef: -65.81136455815644\n",
      "new england coef: 248.79871092039443\n",
      "plains coef: -522.3802554334013\n",
      "rocky mountains coef: -1279.6009693712324\n",
      "southeast coef: 1138.0574081071882\n",
      "southwest coef: 404.277647557659\n",
      "r^2: 0.355\n"
     ]
    }
   ],
   "source": [
    "# Predicting median number of accounts following\n",
    "\n",
    "all_predict(predictors, filtered_instagram_details, 'following_med')"
   ]
  },
  {
   "cell_type": "code",
   "execution_count": 31,
   "metadata": {},
   "outputs": [
    {
     "name": "stdout",
     "output_type": "stream",
     "text": [
      "size coef: 0.0018818287188277101\n",
      "admission_rate coef: 268.7983383932008\n",
      "income_med coef: -0.0064480506852818385\n",
      "cost_attendance coef: 0.05811868990939299\n",
      "is_private coef: -2636.41610524586\n",
      "locale_type_num coef: 118.94454289418705\n",
      "far west coef: -746.4641387634899\n",
      "great lakes coef: 251.79187523460658\n",
      "mid east coef: 310.5807855074791\n",
      "new england coef: 265.1213440839566\n",
      "plains coef: -114.72518020236691\n",
      "rocky mountains coef: -313.31715752110557\n",
      "southeast coef: 714.0385302258705\n",
      "southwest coef: -367.0260585649434\n",
      "r^2: 0.312\n"
     ]
    }
   ],
   "source": [
    "# Predicting current number of posts\n",
    "\n",
    "all_predict(predictors, filtered_instagram_details, 'posts_curr')"
   ]
  },
  {
   "cell_type": "markdown",
   "metadata": {},
   "source": [
    "### Using Instagram stats to predict college properties"
   ]
  },
  {
   "cell_type": "code",
   "execution_count": 32,
   "metadata": {},
   "outputs": [],
   "source": [
    "# Data frame of Instagram stats to use as predictors\n",
    "insta_stats = instagram_details[['follower_med', 'following_med', 'posts_med']]"
   ]
  },
  {
   "cell_type": "code",
   "execution_count": 33,
   "metadata": {},
   "outputs": [
    {
     "name": "stdout",
     "output_type": "stream",
     "text": [
      "follower_med coef: -1.7544128717508555e-07\n",
      "following_med coef: 6.477789271442531e-05\n",
      "posts_med coef: -2.3319095481641926e-05\n",
      "r^2: 0.145\n"
     ]
    }
   ],
   "source": [
    "all_predict(insta_stats, instagram_details, 'admission_rate')"
   ]
  },
  {
   "cell_type": "code",
   "execution_count": 34,
   "metadata": {
    "scrolled": true
   },
   "outputs": [
    {
     "name": "stdout",
     "output_type": "stream",
     "text": [
      "follower_med coef: -0.029687631211307613\n",
      "following_med coef: 3.318894224680521\n",
      "posts_med coef: -3.2803662334266823\n",
      "r^2: 0.160\n"
     ]
    }
   ],
   "source": [
    "all_predict(insta_stats, instagram_details, 'income_med')"
   ]
  },
  {
   "cell_type": "code",
   "execution_count": 35,
   "metadata": {},
   "outputs": [
    {
     "name": "stdout",
     "output_type": "stream",
     "text": [
      "follower_med coef: 0.00662543406230861\n",
      "following_med coef: 0.745900509093363\n",
      "posts_med coef: 1.683047148463907\n",
      "r^2: 0.048\n"
     ]
    }
   ],
   "source": [
    "all_predict(insta_stats, instagram_details, 'size')"
   ]
  },
  {
   "cell_type": "code",
   "execution_count": 36,
   "metadata": {},
   "outputs": [
    {
     "name": "stdout",
     "output_type": "stream",
     "text": [
      "follower_med coef: 0.003017130445237828\n",
      "following_med coef: -3.091473792381729\n",
      "posts_med coef: -1.069569469848272\n",
      "r^2: 0.049\n"
     ]
    }
   ],
   "source": [
    "all_predict(insta_stats, instagram_details, 'cost_attendance')"
   ]
  },
  {
   "cell_type": "markdown",
   "metadata": {},
   "source": [
    "Not much lol"
   ]
  }
 ],
 "metadata": {
  "kernelspec": {
   "display_name": "Python 3",
   "language": "python",
   "name": "python3"
  },
  "language_info": {
   "codemirror_mode": {
    "name": "ipython",
    "version": 3
   },
   "file_extension": ".py",
   "mimetype": "text/x-python",
   "name": "python",
   "nbconvert_exporter": "python",
   "pygments_lexer": "ipython3",
   "version": "3.8.5"
  }
 },
 "nbformat": 4,
 "nbformat_minor": 4
}
