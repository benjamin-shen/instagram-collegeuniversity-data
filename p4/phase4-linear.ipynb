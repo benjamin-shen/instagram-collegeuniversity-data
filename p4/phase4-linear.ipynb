{
 "cells": [
  {
   "cell_type": "markdown",
   "metadata": {},
   "source": [
    "# INFO2950 Phase 4: Linear Regression"
   ]
  },
  {
   "cell_type": "markdown",
   "metadata": {},
   "source": [
    "In this notebook, we will\n",
    "1. Perform linear regression on Instagram data vs college stats to see if there is a linear relationship. Specifically, follower count and follower percent increase vs. size and admission rate.\n",
    "2. Perform linear regression on Instagram data vs categorical variables that we ignored before. Specifically, college ownership, region, and locale."
   ]
  },
  {
   "cell_type": "code",
   "execution_count": 1,
   "metadata": {},
   "outputs": [],
   "source": [
    "import os\n",
    "import numpy as np\n",
    "import pandas as pd\n",
    "import matplotlib.pyplot as plt\n",
    "from sklearn.linear_model import LinearRegression"
   ]
  },
  {
   "cell_type": "code",
   "execution_count": 2,
   "metadata": {},
   "outputs": [],
   "source": [
    "data_dir = \"../data\""
   ]
  },
  {
   "cell_type": "markdown",
   "metadata": {},
   "source": [
    "## Merged Dataset"
   ]
  },
  {
   "cell_type": "code",
   "execution_count": 3,
   "metadata": {},
   "outputs": [
    {
     "data": {
      "text/html": [
       "<div>\n",
       "<style scoped>\n",
       "    .dataframe tbody tr th:only-of-type {\n",
       "        vertical-align: middle;\n",
       "    }\n",
       "\n",
       "    .dataframe tbody tr th {\n",
       "        vertical-align: top;\n",
       "    }\n",
       "\n",
       "    .dataframe thead th {\n",
       "        text-align: right;\n",
       "    }\n",
       "</style>\n",
       "<table border=\"1\" class=\"dataframe\">\n",
       "  <thead>\n",
       "    <tr style=\"text-align: right;\">\n",
       "      <th></th>\n",
       "      <th>name</th>\n",
       "      <th>instagram</th>\n",
       "      <th>follower_curr</th>\n",
       "      <th>follower_mean</th>\n",
       "      <th>follower_med</th>\n",
       "      <th>follower_std</th>\n",
       "      <th>follower_min</th>\n",
       "      <th>follower_max</th>\n",
       "      <th>following_curr</th>\n",
       "      <th>following_mean</th>\n",
       "      <th>...</th>\n",
       "      <th>income_med</th>\n",
       "      <th>size</th>\n",
       "      <th>lat</th>\n",
       "      <th>lon</th>\n",
       "      <th>city</th>\n",
       "      <th>ownership</th>\n",
       "      <th>region</th>\n",
       "      <th>state</th>\n",
       "      <th>locale_type</th>\n",
       "      <th>locale_size</th>\n",
       "    </tr>\n",
       "  </thead>\n",
       "  <tbody>\n",
       "    <tr>\n",
       "      <th>0</th>\n",
       "      <td>University of Chicago</td>\n",
       "      <td>uchicago</td>\n",
       "      <td>116800.0</td>\n",
       "      <td>102192.602041</td>\n",
       "      <td>100650.0</td>\n",
       "      <td>9675.450589</td>\n",
       "      <td>85100.0</td>\n",
       "      <td>116800.0</td>\n",
       "      <td>284.0</td>\n",
       "      <td>271.576531</td>\n",
       "      <td>...</td>\n",
       "      <td>47139.0</td>\n",
       "      <td>6600.0</td>\n",
       "      <td>41.787994</td>\n",
       "      <td>-87.599539</td>\n",
       "      <td>Chicago</td>\n",
       "      <td>private non-profit</td>\n",
       "      <td>great lakes</td>\n",
       "      <td>IL</td>\n",
       "      <td>city</td>\n",
       "      <td>large</td>\n",
       "    </tr>\n",
       "    <tr>\n",
       "      <th>1</th>\n",
       "      <td>Yale University</td>\n",
       "      <td>yale</td>\n",
       "      <td>490700.0</td>\n",
       "      <td>445869.550173</td>\n",
       "      <td>460900.0</td>\n",
       "      <td>38742.023912</td>\n",
       "      <td>369300.0</td>\n",
       "      <td>490700.0</td>\n",
       "      <td>249.0</td>\n",
       "      <td>244.269896</td>\n",
       "      <td>...</td>\n",
       "      <td>44004.0</td>\n",
       "      <td>5963.0</td>\n",
       "      <td>41.311158</td>\n",
       "      <td>-72.926688</td>\n",
       "      <td>New Haven</td>\n",
       "      <td>private non-profit</td>\n",
       "      <td>new england</td>\n",
       "      <td>CT</td>\n",
       "      <td>city</td>\n",
       "      <td>medium</td>\n",
       "    </tr>\n",
       "    <tr>\n",
       "      <th>2</th>\n",
       "      <td>Brown University</td>\n",
       "      <td>brownu</td>\n",
       "      <td>193000.0</td>\n",
       "      <td>185870.992366</td>\n",
       "      <td>187900.0</td>\n",
       "      <td>5583.446131</td>\n",
       "      <td>169000.0</td>\n",
       "      <td>193000.0</td>\n",
       "      <td>141.0</td>\n",
       "      <td>120.185751</td>\n",
       "      <td>...</td>\n",
       "      <td>82670.0</td>\n",
       "      <td>6752.0</td>\n",
       "      <td>41.826170</td>\n",
       "      <td>-71.403850</td>\n",
       "      <td>Providence</td>\n",
       "      <td>private non-profit</td>\n",
       "      <td>new england</td>\n",
       "      <td>RI</td>\n",
       "      <td>city</td>\n",
       "      <td>medium</td>\n",
       "    </tr>\n",
       "    <tr>\n",
       "      <th>3</th>\n",
       "      <td>Dartmouth College</td>\n",
       "      <td>dartmouthcollege</td>\n",
       "      <td>65400.0</td>\n",
       "      <td>58784.468193</td>\n",
       "      <td>58100.0</td>\n",
       "      <td>3262.492004</td>\n",
       "      <td>53200.0</td>\n",
       "      <td>65400.0</td>\n",
       "      <td>2278.0</td>\n",
       "      <td>2159.715013</td>\n",
       "      <td>...</td>\n",
       "      <td>68455.0</td>\n",
       "      <td>4312.0</td>\n",
       "      <td>43.704115</td>\n",
       "      <td>-72.289949</td>\n",
       "      <td>Hanover</td>\n",
       "      <td>private non-profit</td>\n",
       "      <td>new england</td>\n",
       "      <td>NH</td>\n",
       "      <td>town</td>\n",
       "      <td>small</td>\n",
       "    </tr>\n",
       "    <tr>\n",
       "      <th>4</th>\n",
       "      <td>Haverford College</td>\n",
       "      <td>haverfordedu</td>\n",
       "      <td>9063.0</td>\n",
       "      <td>7931.378109</td>\n",
       "      <td>8007.0</td>\n",
       "      <td>692.013379</td>\n",
       "      <td>6897.0</td>\n",
       "      <td>9063.0</td>\n",
       "      <td>207.0</td>\n",
       "      <td>169.621891</td>\n",
       "      <td>...</td>\n",
       "      <td>65396.0</td>\n",
       "      <td>1305.0</td>\n",
       "      <td>40.007452</td>\n",
       "      <td>-75.305207</td>\n",
       "      <td>Haverford</td>\n",
       "      <td>private non-profit</td>\n",
       "      <td>mid east</td>\n",
       "      <td>PA</td>\n",
       "      <td>suburb</td>\n",
       "      <td>large</td>\n",
       "    </tr>\n",
       "  </tbody>\n",
       "</table>\n",
       "<p>5 rows × 34 columns</p>\n",
       "</div>"
      ],
      "text/plain": [
       "                    name         instagram  follower_curr  follower_mean  \\\n",
       "0  University of Chicago          uchicago       116800.0  102192.602041   \n",
       "1        Yale University              yale       490700.0  445869.550173   \n",
       "2       Brown University            brownu       193000.0  185870.992366   \n",
       "3      Dartmouth College  dartmouthcollege        65400.0   58784.468193   \n",
       "4      Haverford College      haverfordedu         9063.0    7931.378109   \n",
       "\n",
       "   follower_med  follower_std  follower_min  follower_max  following_curr  \\\n",
       "0      100650.0   9675.450589       85100.0      116800.0           284.0   \n",
       "1      460900.0  38742.023912      369300.0      490700.0           249.0   \n",
       "2      187900.0   5583.446131      169000.0      193000.0           141.0   \n",
       "3       58100.0   3262.492004       53200.0       65400.0          2278.0   \n",
       "4        8007.0    692.013379        6897.0        9063.0           207.0   \n",
       "\n",
       "   following_mean  ...  income_med    size        lat        lon        city  \\\n",
       "0      271.576531  ...     47139.0  6600.0  41.787994 -87.599539     Chicago   \n",
       "1      244.269896  ...     44004.0  5963.0  41.311158 -72.926688   New Haven   \n",
       "2      120.185751  ...     82670.0  6752.0  41.826170 -71.403850  Providence   \n",
       "3     2159.715013  ...     68455.0  4312.0  43.704115 -72.289949     Hanover   \n",
       "4      169.621891  ...     65396.0  1305.0  40.007452 -75.305207   Haverford   \n",
       "\n",
       "            ownership       region  state  locale_type  locale_size  \n",
       "0  private non-profit  great lakes     IL         city        large  \n",
       "1  private non-profit  new england     CT         city       medium  \n",
       "2  private non-profit  new england     RI         city       medium  \n",
       "3  private non-profit  new england     NH         town        small  \n",
       "4  private non-profit     mid east     PA       suburb        large  \n",
       "\n",
       "[5 rows x 34 columns]"
      ]
     },
     "execution_count": 3,
     "metadata": {},
     "output_type": "execute_result"
    }
   ],
   "source": [
    "# Load merged dataset\n",
    "instagram_details = pd.read_csv(os.path.join(data_dir, \"instagram_details.csv\"))\n",
    "instagram_details.head()"
   ]
  },
  {
   "cell_type": "code",
   "execution_count": 4,
   "metadata": {},
   "outputs": [
    {
     "data": {
      "text/plain": [
       "Index(['name', 'instagram', 'follower_curr', 'follower_mean', 'follower_med',\n",
       "       'follower_std', 'follower_min', 'follower_max', 'following_curr',\n",
       "       'following_mean', 'following_med', 'following_std', 'following_min',\n",
       "       'following_max', 'posts_curr', 'posts_mean', 'posts_med', 'posts_std',\n",
       "       'posts_min', 'posts_max', 'admission_rate', 'sat_score',\n",
       "       'cost_attendance', 'income_avg', 'income_med', 'size', 'lat', 'lon',\n",
       "       'city', 'ownership', 'region', 'state', 'locale_type', 'locale_size'],\n",
       "      dtype='object')"
      ]
     },
     "execution_count": 4,
     "metadata": {},
     "output_type": "execute_result"
    }
   ],
   "source": [
    "# What are the columns again\n",
    "instagram_details.columns"
   ]
  },
  {
   "cell_type": "code",
   "execution_count": 5,
   "metadata": {},
   "outputs": [],
   "source": [
    "# Drop @ivyleague for these analyses\n",
    "instagram_details = instagram_details[instagram_details.instagram != \"ivyleague\"]\n",
    "\n",
    "# Log does give some better results\n",
    "instagram_details['log_follower_med'] = np.log(instagram_details['follower_med'])"
   ]
  },
  {
   "cell_type": "markdown",
   "metadata": {},
   "source": [
    "## Multivariate regression on numerical data"
   ]
  },
  {
   "cell_type": "code",
   "execution_count": 6,
   "metadata": {},
   "outputs": [],
   "source": [
    "def reg_stats(df, predictors, target):\n",
    "    reg = LinearRegression().fit(df[predictors], df[target])\n",
    "    for i in range(len(predictors)):\n",
    "        print(\"{} coef: {:.6f}\".format(predictors[i], reg.coef_[i]))\n",
    "    print(\"r^2: {:.3f}\".format(reg.score(df[predictors], df[target])))"
   ]
  },
  {
   "cell_type": "code",
   "execution_count": 7,
   "metadata": {
    "scrolled": false
   },
   "outputs": [
    {
     "name": "stdout",
     "output_type": "stream",
     "text": [
      "admission_rate coef: -182343.380366\n",
      "r^2: 0.042\n"
     ]
    }
   ],
   "source": [
    "reg_stats(instagram_details, ['admission_rate'], 'follower_med')"
   ]
  },
  {
   "cell_type": "markdown",
   "metadata": {},
   "source": [
    "Predicting the median followers using just the college's admission rate does not give much insight, with a very low $r^2$."
   ]
  },
  {
   "cell_type": "code",
   "execution_count": 8,
   "metadata": {},
   "outputs": [
    {
     "name": "stdout",
     "output_type": "stream",
     "text": [
      "size coef: 2.551152\n",
      "r^2: 0.018\n"
     ]
    }
   ],
   "source": [
    "reg_stats(instagram_details, ['size'], 'follower_med')"
   ]
  },
  {
   "cell_type": "markdown",
   "metadata": {},
   "source": [
    "Predicting the median followers using only size is even less useful."
   ]
  },
  {
   "cell_type": "code",
   "execution_count": 9,
   "metadata": {},
   "outputs": [
    {
     "name": "stdout",
     "output_type": "stream",
     "text": [
      "admission_rate coef: -0.958731\n",
      "r^2: 0.026\n",
      "size coef: 0.000066\n",
      "r^2: 0.273\n"
     ]
    }
   ],
   "source": [
    "reg_stats(instagram_details, ['admission_rate'], 'log_follower_med')\n",
    "reg_stats(instagram_details, ['size'], 'log_follower_med')"
   ]
  },
  {
   "cell_type": "markdown",
   "metadata": {},
   "source": [
    "Using the log of median followers improves $r^2$ drastically for size as a predictor, but not for admission rate."
   ]
  },
  {
   "cell_type": "code",
   "execution_count": 10,
   "metadata": {
    "scrolled": true
   },
   "outputs": [
    {
     "name": "stdout",
     "output_type": "stream",
     "text": [
      "size coef: 5.399882\n",
      "admission_rate coef: -297206.463067\n",
      "r^2: 0.107\n",
      "size coef: 0.000095\n",
      "admission_rate coef: -2.972966\n",
      "r^2: 0.470\n"
     ]
    }
   ],
   "source": [
    "reg_stats(instagram_details, ['size', 'admission_rate'], 'follower_med')\n",
    "reg_stats(instagram_details, ['size', 'admission_rate'], 'log_follower_med')"
   ]
  },
  {
   "cell_type": "markdown",
   "metadata": {},
   "source": [
    "But using size and admission rate together as predictors, however, raises our $r^2$ to 0.107, or to 0.470 for the log version."
   ]
  },
  {
   "cell_type": "code",
   "execution_count": 11,
   "metadata": {
    "scrolled": true
   },
   "outputs": [
    {
     "name": "stdout",
     "output_type": "stream",
     "text": [
      "size coef: 3.607143\n",
      "admission_rate coef: -265444.552864\n",
      "income_med coef: -3.137739\n",
      "r^2: 0.193\n",
      "size coef: 0.000089\n",
      "admission_rate coef: -2.871394\n",
      "income_med coef: -0.000010\n",
      "r^2: 0.489\n"
     ]
    }
   ],
   "source": [
    "reg_stats(instagram_details, ['size', 'admission_rate', 'income_med'], 'follower_med')\n",
    "reg_stats(instagram_details, ['size', 'admission_rate', 'income_med'], 'log_follower_med')"
   ]
  },
  {
   "cell_type": "markdown",
   "metadata": {},
   "source": [
    "With size, admission rate, and median income as predictors, we get $r^2$ to 0.193, or 0.489 for the log version."
   ]
  },
  {
   "cell_type": "code",
   "execution_count": 12,
   "metadata": {},
   "outputs": [
    {
     "name": "stdout",
     "output_type": "stream",
     "text": [
      "size coef: 4.108562\n",
      "admission_rate coef: -232603.178019\n",
      "income_med coef: -3.195766\n",
      "cost_attendance coef: 0.679158\n",
      "r^2: 0.193\n",
      "size coef: 0.000095\n",
      "admission_rate coef: -2.449650\n",
      "income_med coef: -0.000011\n",
      "cost_attendance coef: 0.000009\n",
      "r^2: 0.493\n"
     ]
    }
   ],
   "source": [
    "reg_stats(instagram_details, ['size', 'admission_rate', 'income_med', 'cost_attendance'], 'follower_med')\n",
    "reg_stats(instagram_details, ['size', 'admission_rate', 'income_med', 'cost_attendance'], 'log_follower_med')"
   ]
  },
  {
   "cell_type": "markdown",
   "metadata": {},
   "source": [
    "Adding the cost of attendance to our predictors doesn't improve the $r^2$ very much."
   ]
  },
  {
   "cell_type": "code",
   "execution_count": 13,
   "metadata": {},
   "outputs": [],
   "source": [
    "def remove_outliers(df, outliers = {\"Harvard University\", \"Stanford University\", \"Yale University\"}):\n",
    "    return df[~df.name.isin(outliers)]"
   ]
  },
  {
   "cell_type": "markdown",
   "metadata": {},
   "source": [
    "What if we remove Harvard, Stanford, and Yale as in our earlier exploratory analysis?"
   ]
  },
  {
   "cell_type": "code",
   "execution_count": 14,
   "metadata": {},
   "outputs": [
    {
     "name": "stdout",
     "output_type": "stream",
     "text": [
      "size coef: 4.697836\n",
      "admission_rate coef: -163826.635340\n",
      "income_med coef: -0.615451\n",
      "cost_attendance coef: -0.165052\n",
      "r^2: 0.469\n",
      "size coef: 0.000098\n",
      "admission_rate coef: -2.191500\n",
      "income_med coef: -0.000002\n",
      "cost_attendance coef: 0.000006\n",
      "r^2: 0.558\n"
     ]
    }
   ],
   "source": [
    "filtered_instagram_details = remove_outliers(instagram_details)\n",
    "\n",
    "reg_stats(filtered_instagram_details, ['size', 'admission_rate', 'income_med', 'cost_attendance'], 'follower_med')\n",
    "reg_stats(filtered_instagram_details, ['size', 'admission_rate', 'income_med', 'cost_attendance'], 'log_follower_med')"
   ]
  },
  {
   "cell_type": "markdown",
   "metadata": {},
   "source": [
    "The same predictors of size, admission rate, and median income yield a much higher $r^2 = 0.469$ for the normal version and $r^2 = 0.558$ for the log version!"
   ]
  },
  {
   "cell_type": "markdown",
   "metadata": {},
   "source": [
    "What if we try to predict follower percent increase from size, admission rate, and median income?"
   ]
  },
  {
   "cell_type": "code",
   "execution_count": 15,
   "metadata": {},
   "outputs": [
    {
     "data": {
      "text/plain": [
       "count     69.000000\n",
       "mean      28.956461\n",
       "std       14.540610\n",
       "min       14.201183\n",
       "25%       21.788674\n",
       "50%       26.530612\n",
       "75%       32.625995\n",
       "max      116.908213\n",
       "Name: follower_pct_increase, dtype: float64"
      ]
     },
     "execution_count": 15,
     "metadata": {},
     "output_type": "execute_result"
    }
   ],
   "source": [
    "instagram_details['follower_pct_increase'] = (instagram_details['follower_max'] - instagram_details['follower_min']) / instagram_details['follower_min'] * 100\n",
    "filtered_instagram_details = remove_outliers(instagram_details)\n",
    "instagram_details['follower_pct_increase'].describe()"
   ]
  },
  {
   "cell_type": "markdown",
   "metadata": {},
   "source": [
    "Over the past year, the average college Instagram account has grown 28.96% from its minimum to its maximum over that period, with a minimum increase of 14.20% from the colleges we have data for to a maximum of 116.91% (Johns Hopkins)."
   ]
  },
  {
   "cell_type": "code",
   "execution_count": 16,
   "metadata": {},
   "outputs": [
    {
     "name": "stdout",
     "output_type": "stream",
     "text": [
      "size coef: -0.000147\n",
      "admission_rate coef: 10.732157\n",
      "income_med coef: -0.000087\n",
      "cost_attendance coef: 0.000198\n",
      "r^2: 0.060\n"
     ]
    }
   ],
   "source": [
    "reg_stats(instagram_details, ['size', 'admission_rate', 'income_med', 'cost_attendance'], 'follower_pct_increase')"
   ]
  },
  {
   "cell_type": "code",
   "execution_count": 17,
   "metadata": {
    "scrolled": true
   },
   "outputs": [
    {
     "name": "stdout",
     "output_type": "stream",
     "text": [
      "size coef: -0.000148\n",
      "admission_rate coef: 10.554681\n",
      "income_med coef: -0.000091\n",
      "cost_attendance coef: 0.000198\n",
      "r^2: 0.059\n"
     ]
    }
   ],
   "source": [
    "reg_stats(filtered_instagram_details, ['size', 'admission_rate', 'income_med', 'cost_attendance'], 'follower_pct_increase')"
   ]
  },
  {
   "cell_type": "markdown",
   "metadata": {},
   "source": [
    "We are much less confident in predicting follower percent increase with the same predictors we used to predict median followers, even with outliers removed."
   ]
  },
  {
   "cell_type": "code",
   "execution_count": 18,
   "metadata": {
    "scrolled": true
   },
   "outputs": [
    {
     "name": "stdout",
     "output_type": "stream",
     "text": [
      "size coef: 4.699903\n",
      "admission_rate coef: -163973.871382\n",
      "income_med coef: -0.614179\n",
      "follower_pct_increase coef: 13.949833\n",
      "cost_attendance coef: -0.167821\n",
      "r^2: 0.469\n"
     ]
    }
   ],
   "source": [
    "reg_stats(filtered_instagram_details, ['size', 'admission_rate', 'income_med', 'follower_pct_increase', 'cost_attendance'], 'follower_med')"
   ]
  },
  {
   "cell_type": "markdown",
   "metadata": {},
   "source": [
    "Adding follower percent increase to our predictors doesn't increase the model's performance on predicting median followers."
   ]
  },
  {
   "cell_type": "markdown",
   "metadata": {},
   "source": [
    "## Multivariate regression, adding in categorical data"
   ]
  },
  {
   "cell_type": "markdown",
   "metadata": {},
   "source": [
    "To do linear regression on college ownership, region, and locale, we'll need to make indicator variables. For ownership this is simple enough (public/private), but for region and locale it's a bit more complicated."
   ]
  },
  {
   "cell_type": "code",
   "execution_count": 19,
   "metadata": {},
   "outputs": [
    {
     "data": {
      "text/html": [
       "<div>\n",
       "<style scoped>\n",
       "    .dataframe tbody tr th:only-of-type {\n",
       "        vertical-align: middle;\n",
       "    }\n",
       "\n",
       "    .dataframe tbody tr th {\n",
       "        vertical-align: top;\n",
       "    }\n",
       "\n",
       "    .dataframe thead th {\n",
       "        text-align: right;\n",
       "    }\n",
       "</style>\n",
       "<table border=\"1\" class=\"dataframe\">\n",
       "  <thead>\n",
       "    <tr style=\"text-align: right;\">\n",
       "      <th></th>\n",
       "      <th>name</th>\n",
       "      <th>instagram</th>\n",
       "      <th>follower_curr</th>\n",
       "      <th>follower_mean</th>\n",
       "      <th>follower_med</th>\n",
       "      <th>follower_std</th>\n",
       "      <th>follower_min</th>\n",
       "      <th>follower_max</th>\n",
       "      <th>following_curr</th>\n",
       "      <th>following_mean</th>\n",
       "      <th>...</th>\n",
       "      <th>ownership</th>\n",
       "      <th>region</th>\n",
       "      <th>state</th>\n",
       "      <th>locale_type</th>\n",
       "      <th>locale_size</th>\n",
       "      <th>log_follower_med</th>\n",
       "      <th>follower_pct_increase</th>\n",
       "      <th>is_private</th>\n",
       "      <th>locale_type_num</th>\n",
       "      <th>locale_size_num</th>\n",
       "    </tr>\n",
       "  </thead>\n",
       "  <tbody>\n",
       "    <tr>\n",
       "      <th>0</th>\n",
       "      <td>University of Chicago</td>\n",
       "      <td>uchicago</td>\n",
       "      <td>116800.0</td>\n",
       "      <td>102192.602041</td>\n",
       "      <td>100650.0</td>\n",
       "      <td>9675.450589</td>\n",
       "      <td>85100.0</td>\n",
       "      <td>116800.0</td>\n",
       "      <td>284.0</td>\n",
       "      <td>271.576531</td>\n",
       "      <td>...</td>\n",
       "      <td>private non-profit</td>\n",
       "      <td>great lakes</td>\n",
       "      <td>IL</td>\n",
       "      <td>city</td>\n",
       "      <td>large</td>\n",
       "      <td>11.519404</td>\n",
       "      <td>37.250294</td>\n",
       "      <td>1</td>\n",
       "      <td>4</td>\n",
       "      <td>3</td>\n",
       "    </tr>\n",
       "    <tr>\n",
       "      <th>1</th>\n",
       "      <td>Yale University</td>\n",
       "      <td>yale</td>\n",
       "      <td>490700.0</td>\n",
       "      <td>445869.550173</td>\n",
       "      <td>460900.0</td>\n",
       "      <td>38742.023912</td>\n",
       "      <td>369300.0</td>\n",
       "      <td>490700.0</td>\n",
       "      <td>249.0</td>\n",
       "      <td>244.269896</td>\n",
       "      <td>...</td>\n",
       "      <td>private non-profit</td>\n",
       "      <td>new england</td>\n",
       "      <td>CT</td>\n",
       "      <td>city</td>\n",
       "      <td>medium</td>\n",
       "      <td>13.040936</td>\n",
       "      <td>32.873003</td>\n",
       "      <td>1</td>\n",
       "      <td>4</td>\n",
       "      <td>2</td>\n",
       "    </tr>\n",
       "    <tr>\n",
       "      <th>2</th>\n",
       "      <td>Brown University</td>\n",
       "      <td>brownu</td>\n",
       "      <td>193000.0</td>\n",
       "      <td>185870.992366</td>\n",
       "      <td>187900.0</td>\n",
       "      <td>5583.446131</td>\n",
       "      <td>169000.0</td>\n",
       "      <td>193000.0</td>\n",
       "      <td>141.0</td>\n",
       "      <td>120.185751</td>\n",
       "      <td>...</td>\n",
       "      <td>private non-profit</td>\n",
       "      <td>new england</td>\n",
       "      <td>RI</td>\n",
       "      <td>city</td>\n",
       "      <td>medium</td>\n",
       "      <td>12.143665</td>\n",
       "      <td>14.201183</td>\n",
       "      <td>1</td>\n",
       "      <td>4</td>\n",
       "      <td>2</td>\n",
       "    </tr>\n",
       "    <tr>\n",
       "      <th>3</th>\n",
       "      <td>Dartmouth College</td>\n",
       "      <td>dartmouthcollege</td>\n",
       "      <td>65400.0</td>\n",
       "      <td>58784.468193</td>\n",
       "      <td>58100.0</td>\n",
       "      <td>3262.492004</td>\n",
       "      <td>53200.0</td>\n",
       "      <td>65400.0</td>\n",
       "      <td>2278.0</td>\n",
       "      <td>2159.715013</td>\n",
       "      <td>...</td>\n",
       "      <td>private non-profit</td>\n",
       "      <td>new england</td>\n",
       "      <td>NH</td>\n",
       "      <td>town</td>\n",
       "      <td>small</td>\n",
       "      <td>10.969921</td>\n",
       "      <td>22.932331</td>\n",
       "      <td>1</td>\n",
       "      <td>2</td>\n",
       "      <td>1</td>\n",
       "    </tr>\n",
       "    <tr>\n",
       "      <th>4</th>\n",
       "      <td>Haverford College</td>\n",
       "      <td>haverfordedu</td>\n",
       "      <td>9063.0</td>\n",
       "      <td>7931.378109</td>\n",
       "      <td>8007.0</td>\n",
       "      <td>692.013379</td>\n",
       "      <td>6897.0</td>\n",
       "      <td>9063.0</td>\n",
       "      <td>207.0</td>\n",
       "      <td>169.621891</td>\n",
       "      <td>...</td>\n",
       "      <td>private non-profit</td>\n",
       "      <td>mid east</td>\n",
       "      <td>PA</td>\n",
       "      <td>suburb</td>\n",
       "      <td>large</td>\n",
       "      <td>8.988071</td>\n",
       "      <td>31.404959</td>\n",
       "      <td>1</td>\n",
       "      <td>3</td>\n",
       "      <td>3</td>\n",
       "    </tr>\n",
       "  </tbody>\n",
       "</table>\n",
       "<p>5 rows × 39 columns</p>\n",
       "</div>"
      ],
      "text/plain": [
       "                    name         instagram  follower_curr  follower_mean  \\\n",
       "0  University of Chicago          uchicago       116800.0  102192.602041   \n",
       "1        Yale University              yale       490700.0  445869.550173   \n",
       "2       Brown University            brownu       193000.0  185870.992366   \n",
       "3      Dartmouth College  dartmouthcollege        65400.0   58784.468193   \n",
       "4      Haverford College      haverfordedu         9063.0    7931.378109   \n",
       "\n",
       "   follower_med  follower_std  follower_min  follower_max  following_curr  \\\n",
       "0      100650.0   9675.450589       85100.0      116800.0           284.0   \n",
       "1      460900.0  38742.023912      369300.0      490700.0           249.0   \n",
       "2      187900.0   5583.446131      169000.0      193000.0           141.0   \n",
       "3       58100.0   3262.492004       53200.0       65400.0          2278.0   \n",
       "4        8007.0    692.013379        6897.0        9063.0           207.0   \n",
       "\n",
       "   following_mean  ...           ownership       region  state  locale_type  \\\n",
       "0      271.576531  ...  private non-profit  great lakes     IL         city   \n",
       "1      244.269896  ...  private non-profit  new england     CT         city   \n",
       "2      120.185751  ...  private non-profit  new england     RI         city   \n",
       "3     2159.715013  ...  private non-profit  new england     NH         town   \n",
       "4      169.621891  ...  private non-profit     mid east     PA       suburb   \n",
       "\n",
       "   locale_size  log_follower_med  follower_pct_increase  is_private  \\\n",
       "0        large         11.519404              37.250294           1   \n",
       "1       medium         13.040936              32.873003           1   \n",
       "2       medium         12.143665              14.201183           1   \n",
       "3        small         10.969921              22.932331           1   \n",
       "4        large          8.988071              31.404959           1   \n",
       "\n",
       "   locale_type_num  locale_size_num  \n",
       "0                4                3  \n",
       "1                4                2  \n",
       "2                4                2  \n",
       "3                2                1  \n",
       "4                3                3  \n",
       "\n",
       "[5 rows x 39 columns]"
      ]
     },
     "execution_count": 19,
     "metadata": {},
     "output_type": "execute_result"
    }
   ],
   "source": [
    "instagram_details['is_private'] = pd.get_dummies(instagram_details['ownership'])['private non-profit']\n",
    "\n",
    "# Map locale type to a number, in increasing order of \"cityness\"\n",
    "locale_type_map = {\"rural\": 1, \"town\": 2, \"suburb\": 3, \"city\": 4}\n",
    "instagram_details['locale_type_num'] = instagram_details['locale_type'].map(locale_type_map)\n",
    "\n",
    "# Map locale size as well (small city, large town, etc)\n",
    "locale_size_map = {\"small\": 1, \"medium\": 2, \"large\": 3}\n",
    "instagram_details['locale_size_num'] = instagram_details['locale_size'].map(locale_size_map)\n",
    "\n",
    "instagram_details.head()"
   ]
  },
  {
   "cell_type": "code",
   "execution_count": 20,
   "metadata": {},
   "outputs": [
    {
     "data": {
      "text/html": [
       "<div>\n",
       "<style scoped>\n",
       "    .dataframe tbody tr th:only-of-type {\n",
       "        vertical-align: middle;\n",
       "    }\n",
       "\n",
       "    .dataframe tbody tr th {\n",
       "        vertical-align: top;\n",
       "    }\n",
       "\n",
       "    .dataframe thead th {\n",
       "        text-align: right;\n",
       "    }\n",
       "</style>\n",
       "<table border=\"1\" class=\"dataframe\">\n",
       "  <thead>\n",
       "    <tr style=\"text-align: right;\">\n",
       "      <th></th>\n",
       "      <th>far west</th>\n",
       "      <th>great lakes</th>\n",
       "      <th>mid east</th>\n",
       "      <th>new england</th>\n",
       "      <th>plains</th>\n",
       "      <th>rocky mountains</th>\n",
       "      <th>southeast</th>\n",
       "      <th>southwest</th>\n",
       "    </tr>\n",
       "  </thead>\n",
       "  <tbody>\n",
       "    <tr>\n",
       "      <th>0</th>\n",
       "      <td>0</td>\n",
       "      <td>1</td>\n",
       "      <td>0</td>\n",
       "      <td>0</td>\n",
       "      <td>0</td>\n",
       "      <td>0</td>\n",
       "      <td>0</td>\n",
       "      <td>0</td>\n",
       "    </tr>\n",
       "    <tr>\n",
       "      <th>1</th>\n",
       "      <td>0</td>\n",
       "      <td>0</td>\n",
       "      <td>0</td>\n",
       "      <td>1</td>\n",
       "      <td>0</td>\n",
       "      <td>0</td>\n",
       "      <td>0</td>\n",
       "      <td>0</td>\n",
       "    </tr>\n",
       "    <tr>\n",
       "      <th>2</th>\n",
       "      <td>0</td>\n",
       "      <td>0</td>\n",
       "      <td>0</td>\n",
       "      <td>1</td>\n",
       "      <td>0</td>\n",
       "      <td>0</td>\n",
       "      <td>0</td>\n",
       "      <td>0</td>\n",
       "    </tr>\n",
       "    <tr>\n",
       "      <th>3</th>\n",
       "      <td>0</td>\n",
       "      <td>0</td>\n",
       "      <td>0</td>\n",
       "      <td>1</td>\n",
       "      <td>0</td>\n",
       "      <td>0</td>\n",
       "      <td>0</td>\n",
       "      <td>0</td>\n",
       "    </tr>\n",
       "    <tr>\n",
       "      <th>4</th>\n",
       "      <td>0</td>\n",
       "      <td>0</td>\n",
       "      <td>1</td>\n",
       "      <td>0</td>\n",
       "      <td>0</td>\n",
       "      <td>0</td>\n",
       "      <td>0</td>\n",
       "      <td>0</td>\n",
       "    </tr>\n",
       "  </tbody>\n",
       "</table>\n",
       "</div>"
      ],
      "text/plain": [
       "   far west  great lakes  mid east  new england  plains  rocky mountains  \\\n",
       "0         0            1         0            0       0                0   \n",
       "1         0            0         0            1       0                0   \n",
       "2         0            0         0            1       0                0   \n",
       "3         0            0         0            1       0                0   \n",
       "4         0            0         1            0       0                0   \n",
       "\n",
       "   southeast  southwest  \n",
       "0          0          0  \n",
       "1          0          0  \n",
       "2          0          0  \n",
       "3          0          0  \n",
       "4          0          0  "
      ]
     },
     "execution_count": 20,
     "metadata": {},
     "output_type": "execute_result"
    }
   ],
   "source": [
    "# There isn't a natural order for region, so we will predict using each region as a dummy variable\n",
    "region_dummies = pd.get_dummies(instagram_details['region'])\n",
    "\n",
    "region_dummies.head()"
   ]
  },
  {
   "cell_type": "code",
   "execution_count": 21,
   "metadata": {},
   "outputs": [
    {
     "name": "stdout",
     "output_type": "stream",
     "text": [
      "is_private coef: 13735.530000\n",
      "r^2: 0.001\n"
     ]
    }
   ],
   "source": [
    "reg_stats(instagram_details, ['is_private'], 'follower_med')"
   ]
  },
  {
   "cell_type": "code",
   "execution_count": 22,
   "metadata": {},
   "outputs": [
    {
     "name": "stdout",
     "output_type": "stream",
     "text": [
      "is_private coef: -36077.989362\n",
      "r^2: 0.043\n"
     ]
    }
   ],
   "source": [
    "# With Harvard, etc. removed\n",
    "filtered_instagram_details = remove_outliers(instagram_details)\n",
    "reg_stats(filtered_instagram_details, ['is_private'], 'follower_med')"
   ]
  },
  {
   "cell_type": "markdown",
   "metadata": {},
   "source": [
    "Using is_private to predict is (surprisingly?) not very helpful."
   ]
  },
  {
   "cell_type": "code",
   "execution_count": 23,
   "metadata": {},
   "outputs": [
    {
     "name": "stdout",
     "output_type": "stream",
     "text": [
      "is_private coef: -18401.738280\n",
      "locale_type_num coef: 41321.707371\n",
      "r^2: 0.176\n"
     ]
    }
   ],
   "source": [
    "reg_stats(filtered_instagram_details, ['is_private', 'locale_type_num'], 'follower_med')"
   ]
  },
  {
   "cell_type": "code",
   "execution_count": 24,
   "metadata": {},
   "outputs": [
    {
     "name": "stdout",
     "output_type": "stream",
     "text": [
      "is_private coef: -17641.207248\n",
      "locale_type_num coef: 41544.024596\n",
      "locale_size_num coef: -1683.368362\n",
      "r^2: 0.177\n"
     ]
    }
   ],
   "source": [
    "reg_stats(filtered_instagram_details, ['is_private', 'locale_type_num', 'locale_size_num'], 'follower_med')"
   ]
  },
  {
   "cell_type": "markdown",
   "metadata": {},
   "source": [
    "It is improved when adding in the locale type, and adding the locale size on top of that doesn't provide much additional insight."
   ]
  },
  {
   "cell_type": "code",
   "execution_count": 25,
   "metadata": {},
   "outputs": [
    {
     "name": "stdout",
     "output_type": "stream",
     "text": [
      "size coef: 3.910076\n",
      "admission_rate coef: -164903.145845\n",
      "income_med coef: -0.564143\n",
      "cost_attendance coef: 1.010706\n",
      "is_private coef: -52188.053258\n",
      "locale_type_num coef: 21933.083956\n",
      "locale_size_num coef: -8927.224760\n",
      "r^2: 0.503\n"
     ]
    }
   ],
   "source": [
    "reg_stats(filtered_instagram_details, ['size', 'admission_rate', 'income_med', 'cost_attendance', 'is_private', 'locale_type_num', 'locale_size_num'], 'follower_med')"
   ]
  },
  {
   "cell_type": "markdown",
   "metadata": {},
   "source": [
    "Predicting with everything discussed so far except region manages to explain about 50% of the variability in median number of followers."
   ]
  },
  {
   "cell_type": "code",
   "execution_count": 26,
   "metadata": {},
   "outputs": [
    {
     "name": "stdout",
     "output_type": "stream",
     "text": [
      "r^2: 0.05923232019422253\n"
     ]
    }
   ],
   "source": [
    "reg = LinearRegression().fit(region_dummies, instagram_details['follower_med'])\n",
    "print(\"r^2: {}\".format(reg.score(region_dummies, instagram_details['follower_med'])))"
   ]
  },
  {
   "cell_type": "markdown",
   "metadata": {},
   "source": [
    "Predicting with only the dummy variables for region, the region has a small impact."
   ]
  },
  {
   "cell_type": "code",
   "execution_count": 27,
   "metadata": {},
   "outputs": [],
   "source": [
    "def all_predict(predictors, df, target):\n",
    "    reg = LinearRegression().fit(predictors, df[target])\n",
    "    for i in range(len(predictors.columns)):\n",
    "        print(\"{} coef: {}\".format(predictors.columns[i], reg.coef_[i]))\n",
    "    print(\"r^2: {:.3f}\".format(reg.score(predictors, df[target])))"
   ]
  },
  {
   "cell_type": "markdown",
   "metadata": {},
   "source": [
    "Now let's use size, admission rate, income med, is private, and locale type joined with region dummies as predictors."
   ]
  },
  {
   "cell_type": "code",
   "execution_count": 28,
   "metadata": {},
   "outputs": [
    {
     "name": "stdout",
     "output_type": "stream",
     "text": [
      "size coef: 2.825082683917496\n",
      "admission_rate coef: -302975.80497739394\n",
      "income_med coef: -3.2020588147185784\n",
      "cost_attendance coef: 1.1611096786536215\n",
      "is_private coef: -67941.42623974949\n",
      "locale_type_num coef: 56737.365989862774\n",
      "locale_size_num coef: -20021.179493766333\n",
      "far west coef: -25278.793394196993\n",
      "great lakes coef: 36332.19541222751\n",
      "mid east coef: -15833.714182726415\n",
      "new england coef: 92319.62083914959\n",
      "plains coef: 28573.99201383988\n",
      "rocky mountains coef: 22605.624536122148\n",
      "southeast coef: -60682.777523019795\n",
      "southwest coef: -78036.14770139253\n",
      "r^2: 0.276\n"
     ]
    }
   ],
   "source": [
    "# All schools, predicting follower median\n",
    "# Join the subset of predictors from instagram_details with the region dummies\n",
    "predictors = instagram_details[['size', 'admission_rate', 'income_med', 'cost_attendance', 'is_private', 'locale_type_num', 'locale_size_num']].join(region_dummies)\n",
    "\n",
    "all_predict(predictors, instagram_details, 'follower_med')"
   ]
  },
  {
   "cell_type": "code",
   "execution_count": 29,
   "metadata": {
    "scrolled": true
   },
   "outputs": [
    {
     "name": "stdout",
     "output_type": "stream",
     "text": [
      "size coef: 4.397344832826317\n",
      "admission_rate coef: -217040.55995463178\n",
      "income_med coef: -0.6521270356744672\n",
      "cost_attendance coef: -0.8099670197642217\n",
      "is_private coef: 940.4531781470251\n",
      "locale_type_num coef: 20292.190140506038\n",
      "locale_size_num coef: -4196.287797521079\n",
      "far west coef: -27412.67690903512\n",
      "great lakes coef: 24388.911847819996\n",
      "mid east coef: 36044.15164325849\n",
      "new england coef: 16396.080359230065\n",
      "plains coef: 796.4727671385137\n",
      "rocky mountains coef: 23819.647950337974\n",
      "southeast coef: -17459.326333463006\n",
      "southwest coef: -56573.261325287334\n",
      "r^2: 0.595\n"
     ]
    }
   ],
   "source": [
    "# Schools excluding Harvard, Yale, Stanford\n",
    "predictors = filtered_instagram_details[['size', 'admission_rate', 'income_med', 'cost_attendance', 'is_private', 'locale_type_num', 'locale_size_num']].join(region_dummies)\n",
    "\n",
    "all_predict(predictors, filtered_instagram_details, 'follower_med')"
   ]
  },
  {
   "cell_type": "markdown",
   "metadata": {},
   "source": [
    "Wow! Regression on the school size, admission rate, median income, public/private, locale type, and region manages to get an $r^2$ of 0.595."
   ]
  },
  {
   "cell_type": "code",
   "execution_count": 30,
   "metadata": {
    "scrolled": true
   },
   "outputs": [
    {
     "name": "stdout",
     "output_type": "stream",
     "text": [
      "size coef: -0.0005587527983657784\n",
      "admission_rate coef: 15.276682739266032\n",
      "income_med coef: -3.7241008539479e-05\n",
      "cost_attendance coef: 0.00016257949918339302\n",
      "is_private coef: -9.154602228579012\n",
      "locale_type_num coef: 7.371861146438906\n",
      "locale_size_num coef: 2.564361586436941\n",
      "far west coef: 0.9298488688484984\n",
      "great lakes coef: -1.9538056139336657\n",
      "mid east coef: 7.535494906348923\n",
      "new england coef: 1.9452749992134775\n",
      "plains coef: 7.367241064671449\n",
      "rocky mountains coef: -9.372474938408025\n",
      "southeast coef: -3.962763144738548\n",
      "southwest coef: -2.4888161420020753\n",
      "r^2: 0.182\n"
     ]
    }
   ],
   "source": [
    "# Predicting follower percent increase?\n",
    "\n",
    "all_predict(predictors, filtered_instagram_details, 'follower_pct_increase')"
   ]
  },
  {
   "cell_type": "markdown",
   "metadata": {},
   "source": [
    "not good"
   ]
  },
  {
   "cell_type": "code",
   "execution_count": 31,
   "metadata": {
    "scrolled": true
   },
   "outputs": [
    {
     "name": "stdout",
     "output_type": "stream",
     "text": [
      "size coef: -0.019804490375923512\n",
      "admission_rate coef: 4398.628847351812\n",
      "income_med coef: 0.005329491687019369\n",
      "cost_attendance coef: 0.1134322026472328\n",
      "is_private coef: -4595.557968494785\n",
      "locale_type_num coef: -196.14076956973318\n",
      "locale_size_num coef: 239.35248903287058\n",
      "far west coef: -328.47122072200415\n",
      "great lakes coef: 333.1261903444764\n",
      "mid east coef: -56.52558871269885\n",
      "new england coef: 327.6262264841977\n",
      "plains coef: -380.8827560989822\n",
      "rocky mountains coef: -1329.9104128769304\n",
      "southeast coef: 1149.1901239728475\n",
      "southwest coef: 285.8474376091043\n",
      "r^2: 0.371\n"
     ]
    }
   ],
   "source": [
    "# Predicting median number of accounts following\n",
    "\n",
    "all_predict(predictors, filtered_instagram_details, 'following_med')"
   ]
  },
  {
   "cell_type": "code",
   "execution_count": 32,
   "metadata": {},
   "outputs": [
    {
     "name": "stdout",
     "output_type": "stream",
     "text": [
      "size coef: 0.0013011285141217846\n",
      "admission_rate coef: 346.08231302885764\n",
      "income_med coef: -0.006300641433672889\n",
      "cost_attendance coef: 0.054943217773041245\n",
      "is_private coef: -2605.235079175117\n",
      "locale_type_num coef: 119.77899732436097\n",
      "locale_size_num coef: 188.40571455099823\n",
      "far west coef: -796.6184230521163\n",
      "great lakes coef: 245.26850616386935\n",
      "mid east coef: 317.89006079595396\n",
      "new england coef: 327.1702262831198\n",
      "plains coef: -3.3457766415437056\n",
      "rocky mountains coef: -352.9181104531325\n",
      "southeast coef: 722.8016197430794\n",
      "southwest coef: -460.24810283922886\n",
      "r^2: 0.333\n"
     ]
    }
   ],
   "source": [
    "# Predicting current number of posts\n",
    "\n",
    "all_predict(predictors, filtered_instagram_details, 'posts_curr')"
   ]
  },
  {
   "cell_type": "markdown",
   "metadata": {},
   "source": [
    "### What about SAT Score?"
   ]
  },
  {
   "cell_type": "code",
   "execution_count": 33,
   "metadata": {},
   "outputs": [
    {
     "data": {
      "text/html": [
       "<div>\n",
       "<style scoped>\n",
       "    .dataframe tbody tr th:only-of-type {\n",
       "        vertical-align: middle;\n",
       "    }\n",
       "\n",
       "    .dataframe tbody tr th {\n",
       "        vertical-align: top;\n",
       "    }\n",
       "\n",
       "    .dataframe thead th {\n",
       "        text-align: right;\n",
       "    }\n",
       "</style>\n",
       "<table border=\"1\" class=\"dataframe\">\n",
       "  <thead>\n",
       "    <tr style=\"text-align: right;\">\n",
       "      <th></th>\n",
       "      <th>name</th>\n",
       "      <th>instagram</th>\n",
       "      <th>follower_curr</th>\n",
       "      <th>follower_mean</th>\n",
       "      <th>follower_med</th>\n",
       "      <th>follower_std</th>\n",
       "      <th>follower_min</th>\n",
       "      <th>follower_max</th>\n",
       "      <th>following_curr</th>\n",
       "      <th>following_mean</th>\n",
       "      <th>...</th>\n",
       "      <th>ownership</th>\n",
       "      <th>region</th>\n",
       "      <th>state</th>\n",
       "      <th>locale_type</th>\n",
       "      <th>locale_size</th>\n",
       "      <th>log_follower_med</th>\n",
       "      <th>follower_pct_increase</th>\n",
       "      <th>is_private</th>\n",
       "      <th>locale_type_num</th>\n",
       "      <th>locale_size_num</th>\n",
       "    </tr>\n",
       "  </thead>\n",
       "  <tbody>\n",
       "    <tr>\n",
       "      <th>0</th>\n",
       "      <td>University of Chicago</td>\n",
       "      <td>uchicago</td>\n",
       "      <td>116800.0</td>\n",
       "      <td>102192.602041</td>\n",
       "      <td>100650.0</td>\n",
       "      <td>9675.450589</td>\n",
       "      <td>85100.0</td>\n",
       "      <td>116800.0</td>\n",
       "      <td>284.0</td>\n",
       "      <td>271.576531</td>\n",
       "      <td>...</td>\n",
       "      <td>private non-profit</td>\n",
       "      <td>great lakes</td>\n",
       "      <td>IL</td>\n",
       "      <td>city</td>\n",
       "      <td>large</td>\n",
       "      <td>11.519404</td>\n",
       "      <td>37.250294</td>\n",
       "      <td>1</td>\n",
       "      <td>4</td>\n",
       "      <td>3</td>\n",
       "    </tr>\n",
       "    <tr>\n",
       "      <th>2</th>\n",
       "      <td>Brown University</td>\n",
       "      <td>brownu</td>\n",
       "      <td>193000.0</td>\n",
       "      <td>185870.992366</td>\n",
       "      <td>187900.0</td>\n",
       "      <td>5583.446131</td>\n",
       "      <td>169000.0</td>\n",
       "      <td>193000.0</td>\n",
       "      <td>141.0</td>\n",
       "      <td>120.185751</td>\n",
       "      <td>...</td>\n",
       "      <td>private non-profit</td>\n",
       "      <td>new england</td>\n",
       "      <td>RI</td>\n",
       "      <td>city</td>\n",
       "      <td>medium</td>\n",
       "      <td>12.143665</td>\n",
       "      <td>14.201183</td>\n",
       "      <td>1</td>\n",
       "      <td>4</td>\n",
       "      <td>2</td>\n",
       "    </tr>\n",
       "    <tr>\n",
       "      <th>3</th>\n",
       "      <td>Dartmouth College</td>\n",
       "      <td>dartmouthcollege</td>\n",
       "      <td>65400.0</td>\n",
       "      <td>58784.468193</td>\n",
       "      <td>58100.0</td>\n",
       "      <td>3262.492004</td>\n",
       "      <td>53200.0</td>\n",
       "      <td>65400.0</td>\n",
       "      <td>2278.0</td>\n",
       "      <td>2159.715013</td>\n",
       "      <td>...</td>\n",
       "      <td>private non-profit</td>\n",
       "      <td>new england</td>\n",
       "      <td>NH</td>\n",
       "      <td>town</td>\n",
       "      <td>small</td>\n",
       "      <td>10.969921</td>\n",
       "      <td>22.932331</td>\n",
       "      <td>1</td>\n",
       "      <td>2</td>\n",
       "      <td>1</td>\n",
       "    </tr>\n",
       "    <tr>\n",
       "      <th>4</th>\n",
       "      <td>Haverford College</td>\n",
       "      <td>haverfordedu</td>\n",
       "      <td>9063.0</td>\n",
       "      <td>7931.378109</td>\n",
       "      <td>8007.0</td>\n",
       "      <td>692.013379</td>\n",
       "      <td>6897.0</td>\n",
       "      <td>9063.0</td>\n",
       "      <td>207.0</td>\n",
       "      <td>169.621891</td>\n",
       "      <td>...</td>\n",
       "      <td>private non-profit</td>\n",
       "      <td>mid east</td>\n",
       "      <td>PA</td>\n",
       "      <td>suburb</td>\n",
       "      <td>large</td>\n",
       "      <td>8.988071</td>\n",
       "      <td>31.404959</td>\n",
       "      <td>1</td>\n",
       "      <td>3</td>\n",
       "      <td>3</td>\n",
       "    </tr>\n",
       "    <tr>\n",
       "      <th>6</th>\n",
       "      <td>University of California-Los Angeles</td>\n",
       "      <td>ucla</td>\n",
       "      <td>278400.0</td>\n",
       "      <td>254695.576623</td>\n",
       "      <td>251000.0</td>\n",
       "      <td>13615.915193</td>\n",
       "      <td>232100.0</td>\n",
       "      <td>278400.0</td>\n",
       "      <td>93.0</td>\n",
       "      <td>88.137662</td>\n",
       "      <td>...</td>\n",
       "      <td>public</td>\n",
       "      <td>far west</td>\n",
       "      <td>CA</td>\n",
       "      <td>city</td>\n",
       "      <td>large</td>\n",
       "      <td>12.433208</td>\n",
       "      <td>19.948298</td>\n",
       "      <td>0</td>\n",
       "      <td>4</td>\n",
       "      <td>3</td>\n",
       "    </tr>\n",
       "  </tbody>\n",
       "</table>\n",
       "<p>5 rows × 39 columns</p>\n",
       "</div>"
      ],
      "text/plain": [
       "                                   name         instagram  follower_curr  \\\n",
       "0                 University of Chicago          uchicago       116800.0   \n",
       "2                      Brown University            brownu       193000.0   \n",
       "3                     Dartmouth College  dartmouthcollege        65400.0   \n",
       "4                     Haverford College      haverfordedu         9063.0   \n",
       "6  University of California-Los Angeles              ucla       278400.0   \n",
       "\n",
       "   follower_mean  follower_med  follower_std  follower_min  follower_max  \\\n",
       "0  102192.602041      100650.0   9675.450589       85100.0      116800.0   \n",
       "2  185870.992366      187900.0   5583.446131      169000.0      193000.0   \n",
       "3   58784.468193       58100.0   3262.492004       53200.0       65400.0   \n",
       "4    7931.378109        8007.0    692.013379        6897.0        9063.0   \n",
       "6  254695.576623      251000.0  13615.915193      232100.0      278400.0   \n",
       "\n",
       "   following_curr  following_mean  ...           ownership       region  \\\n",
       "0           284.0      271.576531  ...  private non-profit  great lakes   \n",
       "2           141.0      120.185751  ...  private non-profit  new england   \n",
       "3          2278.0     2159.715013  ...  private non-profit  new england   \n",
       "4           207.0      169.621891  ...  private non-profit     mid east   \n",
       "6            93.0       88.137662  ...              public     far west   \n",
       "\n",
       "   state  locale_type  locale_size  log_follower_med  follower_pct_increase  \\\n",
       "0     IL         city        large         11.519404              37.250294   \n",
       "2     RI         city       medium         12.143665              14.201183   \n",
       "3     NH         town        small         10.969921              22.932331   \n",
       "4     PA       suburb        large          8.988071              31.404959   \n",
       "6     CA         city        large         12.433208              19.948298   \n",
       "\n",
       "   is_private  locale_type_num  locale_size_num  \n",
       "0           1                4                3  \n",
       "2           1                4                2  \n",
       "3           1                2                1  \n",
       "4           1                3                3  \n",
       "6           0                4                3  \n",
       "\n",
       "[5 rows x 39 columns]"
      ]
     },
     "execution_count": 33,
     "metadata": {},
     "output_type": "execute_result"
    }
   ],
   "source": [
    "# Some universities are missing SAT data\n",
    "instagram_details_sat = instagram_details.dropna(subset=['sat_score'])\n",
    "filtered_instagram_details_sat = remove_outliers(instagram_details_sat)\n",
    "filtered_instagram_details_sat.head()"
   ]
  },
  {
   "cell_type": "code",
   "execution_count": 34,
   "metadata": {},
   "outputs": [
    {
     "name": "stdout",
     "output_type": "stream",
     "text": [
      "sat_score coef: 406.978652\n",
      "r^2: 0.043\n"
     ]
    }
   ],
   "source": [
    "reg_stats(instagram_details_sat, ['sat_score'], 'follower_med')"
   ]
  },
  {
   "cell_type": "code",
   "execution_count": 35,
   "metadata": {},
   "outputs": [
    {
     "name": "stdout",
     "output_type": "stream",
     "text": [
      "size coef: 4.961921966251231\n",
      "admission_rate coef: -204369.88470645467\n",
      "income_med coef: -0.8056774360939859\n",
      "cost_attendance coef: -2.8219207845259997\n",
      "is_private coef: 85921.94180040935\n",
      "locale_type_num coef: 13994.13234707104\n",
      "locale_size_num coef: -3292.358858703524\n",
      "sat_score coef: 205.92071233419395\n",
      "far west coef: -32159.054272267178\n",
      "great lakes coef: 23354.66579289776\n",
      "mid east coef: 28881.810367001443\n",
      "new england coef: 11912.16838397244\n",
      "plains coef: -11827.531832012135\n",
      "rocky mountains coef: 75181.19032491097\n",
      "southeast coef: -28461.039540290945\n",
      "southwest coef: -66882.2092242125\n",
      "r^2: 0.609\n"
     ]
    }
   ],
   "source": [
    "predictors = filtered_instagram_details_sat[['size', 'admission_rate', 'income_med', 'cost_attendance', 'is_private', 'locale_type_num', 'locale_size_num', 'sat_score']].join(region_dummies)\n",
    "\n",
    "all_predict(predictors, filtered_instagram_details_sat, 'follower_med')\n",
    "best_reg = LinearRegression().fit(predictors, filtered_instagram_details_sat['follower_med'])"
   ]
  },
  {
   "cell_type": "markdown",
   "metadata": {},
   "source": [
    "Adding SAT score as a predictor does not drastically improve the $r^2$."
   ]
  },
  {
   "cell_type": "markdown",
   "metadata": {},
   "source": [
    "### Is this significant?\n",
    "Let's permute the output "
   ]
  },
  {
   "cell_type": "code",
   "execution_count": 36,
   "metadata": {},
   "outputs": [],
   "source": [
    "def permute_rows(df):\n",
    "    permuted = df.sample(frac=1).reset_index(drop=True)\n",
    "    return permuted\n",
    "def permute_some_cols(df, cols):\n",
    "    df = df.copy()\n",
    "    for col in cols:\n",
    "        df[col] = permute_rows(df[[col]])\n",
    "    return df"
   ]
  },
  {
   "cell_type": "code",
   "execution_count": 37,
   "metadata": {},
   "outputs": [
    {
     "name": "stdout",
     "output_type": "stream",
     "text": [
      "size coef: 0.03246015170389468\n",
      "admission_rate coef: 86306.1534205706\n",
      "income_med coef: -0.529866026635963\n",
      "cost_attendance coef: -9.326440901972017\n",
      "is_private coef: 383976.4298320461\n",
      "locale_type_num coef: 784.9498812040543\n",
      "locale_size_num coef: 17954.881876452517\n",
      "sat_score coef: 411.07799979628174\n",
      "far west coef: 4488.039241854555\n",
      "great lakes coef: 61693.1279553721\n",
      "mid east coef: 34424.37771114308\n",
      "new england coef: 13107.79881147349\n",
      "plains coef: 10543.26990275685\n",
      "rocky mountains coef: 10284.356814977724\n",
      "southeast coef: -28644.25022597506\n",
      "southwest coef: -105896.72021160364\n",
      "r^2: 0.270\n"
     ]
    }
   ],
   "source": [
    "# Also reset index to make permutation work correctly\n",
    "permuted_insta = permute_some_cols(filtered_instagram_details_sat.reset_index(drop=True), ['follower_med'])\n",
    "permuted_insta.head()\n",
    "predictors = predictors.reset_index(drop=True)\n",
    "all_predict(predictors, permuted_insta, 'follower_med') # This is the same as below line, but printed\n",
    "permute_reg = LinearRegression().fit(predictors, permuted_insta['follower_med'])"
   ]
  },
  {
   "cell_type": "code",
   "execution_count": 38,
   "metadata": {},
   "outputs": [
    {
     "name": "stdout",
     "output_type": "stream",
     "text": [
      "[False  True  True False  True False  True  True  True  True  True  True\n",
      "  True False False False]\n"
     ]
    }
   ],
   "source": [
    "# Are the coefficients larger than the actual data?\n",
    "print(permute_reg.coef_ > best_reg.coef_)"
   ]
  },
  {
   "cell_type": "markdown",
   "metadata": {},
   "source": [
    "Let's repeat this $n = 1000$ times to approximate the p-value."
   ]
  },
  {
   "cell_type": "code",
   "execution_count": 39,
   "metadata": {},
   "outputs": [],
   "source": [
    "n = 1000\n",
    "m = len(predictors.columns)"
   ]
  },
  {
   "cell_type": "code",
   "execution_count": 40,
   "metadata": {},
   "outputs": [],
   "source": [
    "permute_slopes = np.zeros((n, m))\n",
    "\n",
    "for i in range(n):\n",
    "    permuted_insta = permute_some_cols(filtered_instagram_details_sat.reset_index(drop=True), ['follower_med'])\n",
    "    permute_reg = LinearRegression().fit(predictors, permuted_insta['follower_med'])\n",
    "    permute_slopes[i] = permute_reg.coef_"
   ]
  },
  {
   "cell_type": "code",
   "execution_count": 41,
   "metadata": {},
   "outputs": [
    {
     "name": "stdout",
     "output_type": "stream",
     "text": [
      "size p-value: 0.01\n",
      "admission_rate p-value: 0.902\n",
      "income_med p-value: 0.901\n",
      "cost_attendance p-value: 0.73\n",
      "is_private p-value: 0.336\n",
      "locale_type_num p-value: 0.253\n",
      "locale_size_num p-value: 0.567\n",
      "sat_score p-value: 0.253\n",
      "far west p-value: 0.872\n",
      "great lakes p-value: 0.202\n",
      "mid east p-value: 0.155\n",
      "new england p-value: 0.315\n",
      "plains p-value: 0.569\n",
      "rocky mountains p-value: 0.113\n",
      "southeast p-value: 0.811\n",
      "southwest p-value: 0.931\n"
     ]
    }
   ],
   "source": [
    "# What proportion of simulated slopes were greater than the actual slope?\n",
    "follower_med_pvalue = sum([coefs > best_reg.coef_ for coefs in permute_slopes]) / n\n",
    "for i in range(m):\n",
    "    print(predictors.columns[i], \"p-value:\", follower_med_pvalue[i])"
   ]
  },
  {
   "cell_type": "markdown",
   "metadata": {},
   "source": [
    "All of the p-values except for size are above a critical value of 0.05. For size, it's very unlikely that randomized follower medians would produce a slope greater than in the actual data, so we can reject the null hypothesis and conclude that university size does have an influence on the follower count of their Instagram account."
   ]
  },
  {
   "cell_type": "markdown",
   "metadata": {},
   "source": [
    "### Using Instagram stats to predict college properties"
   ]
  },
  {
   "cell_type": "code",
   "execution_count": 42,
   "metadata": {},
   "outputs": [],
   "source": [
    "# Data frame of Instagram stats to use as predictors\n",
    "insta_stats = instagram_details[['follower_med', 'following_med', 'posts_med']]"
   ]
  },
  {
   "cell_type": "code",
   "execution_count": 43,
   "metadata": {},
   "outputs": [
    {
     "name": "stdout",
     "output_type": "stream",
     "text": [
      "follower_med coef: -1.7544128717508555e-07\n",
      "following_med coef: 6.477789271442531e-05\n",
      "posts_med coef: -2.3319095481641926e-05\n",
      "r^2: 0.145\n"
     ]
    }
   ],
   "source": [
    "# Predict admission rate\n",
    "all_predict(insta_stats, instagram_details, 'admission_rate')"
   ]
  },
  {
   "cell_type": "code",
   "execution_count": 44,
   "metadata": {
    "scrolled": true
   },
   "outputs": [
    {
     "name": "stdout",
     "output_type": "stream",
     "text": [
      "follower_med coef: -0.029687631211307613\n",
      "following_med coef: 3.318894224680521\n",
      "posts_med coef: -3.2803662334266823\n",
      "r^2: 0.160\n"
     ]
    }
   ],
   "source": [
    "# Predict median income\n",
    "all_predict(insta_stats, instagram_details, 'income_med')"
   ]
  },
  {
   "cell_type": "code",
   "execution_count": 45,
   "metadata": {},
   "outputs": [
    {
     "name": "stdout",
     "output_type": "stream",
     "text": [
      "follower_med coef: 0.00662543406230861\n",
      "following_med coef: 0.745900509093363\n",
      "posts_med coef: 1.683047148463907\n",
      "r^2: 0.048\n"
     ]
    }
   ],
   "source": [
    "# Predict student body size\n",
    "all_predict(insta_stats, instagram_details, 'size')"
   ]
  },
  {
   "cell_type": "code",
   "execution_count": 46,
   "metadata": {},
   "outputs": [
    {
     "name": "stdout",
     "output_type": "stream",
     "text": [
      "follower_med coef: 0.003017130445237828\n",
      "following_med coef: -3.091473792381729\n",
      "posts_med coef: -1.069569469848272\n",
      "r^2: 0.049\n"
     ]
    }
   ],
   "source": [
    "# Predict cost of attendance\n",
    "all_predict(insta_stats, instagram_details, 'cost_attendance')"
   ]
  },
  {
   "cell_type": "markdown",
   "metadata": {},
   "source": [
    "None of these relationships are particularly strong."
   ]
  }
 ],
 "metadata": {
  "kernelspec": {
   "display_name": "Python 3",
   "language": "python",
   "name": "python3"
  },
  "language_info": {
   "codemirror_mode": {
    "name": "ipython",
    "version": 3
   },
   "file_extension": ".py",
   "mimetype": "text/x-python",
   "name": "python",
   "nbconvert_exporter": "python",
   "pygments_lexer": "ipython3",
   "version": "3.8.5"
  }
 },
 "nbformat": 4,
 "nbformat_minor": 4
}
