{
 "cells": [
  {
   "cell_type": "markdown",
   "metadata": {},
   "source": [
    "# INFO 2950 Phase 3"
   ]
  },
  {
   "cell_type": "markdown",
   "metadata": {},
   "source": [
    "## Pre-Registration of Analyses"
   ]
  },
  {
   "cell_type": "markdown",
   "metadata": {},
   "source": [
    "1. Perform linear regression on Instagram data vs college stats to see if there is a linear relationship. Specifically, follower count and follower percent increase vs. size and admission rate.\n",
    "\n",
    "2. Perform linear regression on Instagram data vs categorical variables that we ignored before. Specifically, college ownership, region, and locale."
   ]
  },
  {
   "cell_type": "markdown",
   "metadata": {},
   "source": [
    "## Questions for Reviewers"
   ]
  },
  {
   "cell_type": "markdown",
   "metadata": {},
   "source": [
    "1. We forgot to ask about this during the last phase: how should we squash 3d data into 2d data? Our Instagram dataset is a 3d dataset (where there are multiple Instagram accounts and each Instagram account has multiple data points for each day). So far, we've been using summary statistics to generalize each Instagram account (and removing the time dimension), is that a valid approach? Is there a better solution?\n",
    "2. What else besides linear regression might be insightful for our final project? For context, we are examining Instagram trends and how they relate to their associated colleges/universities.\n",
    "3. Where can we find a dataset relating to Instagram stats for certain Instagram handles over time? In particular, we are looking for celebrity/influencer follower counts over the past year and college/university follower counts from over a year ago (ideally around 2015-2019). We tried looking on Kaggle and other dataset sites, but didn't have much luck finding stuff."
   ]
  }
 ],
 "metadata": {
  "kernelspec": {
   "display_name": "Python 3",
   "language": "python",
   "name": "python3"
  },
  "language_info": {
   "codemirror_mode": {
    "name": "ipython",
    "version": 3
   },
   "file_extension": ".py",
   "mimetype": "text/x-python",
   "name": "python",
   "nbconvert_exporter": "python",
   "pygments_lexer": "ipython3",
   "version": "3.8.5"
  }
 },
 "nbformat": 4,
 "nbformat_minor": 4
}
