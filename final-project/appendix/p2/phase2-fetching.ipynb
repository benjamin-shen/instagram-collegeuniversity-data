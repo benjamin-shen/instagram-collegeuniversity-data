{
 "cells": [
  {
   "cell_type": "markdown",
   "metadata": {},
   "source": [
    "# INFO 2950 Phase 2: Fetching"
   ]
  },
  {
   "cell_type": "markdown",
   "metadata": {},
   "source": [
    "## College Scorecard Data API"
   ]
  },
  {
   "cell_type": "markdown",
   "metadata": {},
   "source": [
    "This code fetches the College Scoreboard data from [collegescorecard.ed.gov](https://collegescorecard.ed.gov/data/), paginating 100 records per request. It configures fields to return the desired columns, and requirements to filter results on the server side.\n",
    "\n",
    "The output is in JSON, which is then written to `scorecard_raw.json`. The square brackets in the file that appear at every 100 colleges are fixed manually."
   ]
  },
  {
   "cell_type": "code",
   "execution_count": 15,
   "metadata": {},
   "outputs": [],
   "source": [
    "import requests\n",
    "import json\n",
    "\n",
    "api_key = \"FRMI03AgakwJ7xx9R9aSH0ju3bokJfjkQvL6aA5a\"\n",
    "out_filename = \"../data/scorecard_raw.json\"\n",
    "\n",
    "url = \"https://api.data.gov/ed/collegescorecard/v1/schools\"\n",
    "per_page = 100\n",
    "\n",
    "fields = [\n",
    "    \"id\",\n",
    "    \"location.lat\",\n",
    "    \"location.lon\",\n",
    "    \"school.name\",\n",
    "    \"school.city\",\n",
    "    \"school.state\",\n",
    "    \"school.zip\",\n",
    "    \"school.ownership\",\n",
    "    \"school.region_id\",\n",
    "    \"school.locale\",\n",
    "    \"school.carnegie_undergrad\",\n",
    "    \"school.carnegie_size_setting\",\n",
    "    \"latest.student.size\",\n",
    "    \"latest.student.demographics.avg_family_income\",\n",
    "    \"latest.student.demographics.median_family_income\",\n",
    "    \"latest.cost.avg_net_price.private\",\n",
    "    \"latest.cost.avg_net_price.public\",\n",
    "    \"latest.cost.attendance.academic_year\",\n",
    "    \"latest.admissions.sat_scores.average.overall\",\n",
    "    \"latest.admissions.admission_rate.overall\"\n",
    "]\n",
    "\n",
    "requirements = [\n",
    "    \"school.operating=1\",\n",
    "    \"school.degrees_awarded.predominant=3\"\n",
    "]\n",
    "\n",
    "def request_json(page):\n",
    "    request_url = f\"{url}/?{'&'.join(requirements)}&fields={','.join(fields)}&per_page={per_page}&page={page}&api_key={api_key}\"\n",
    "    response = requests.get(request_url)\n",
    "    return response.json()['results']\n",
    "\n",
    "with open(out_filename, 'w') as out_file:\n",
    "    current_page = 0\n",
    "    data = request_json(current_page)\n",
    "    while data:\n",
    "        out_file.write(json.dumps(data, sort_keys=True, indent=4))\n",
    "        current_page += 1\n",
    "        data = request_json(current_page)\n"
   ]
  }
 ],
 "metadata": {
  "kernelspec": {
   "display_name": "Python 3",
   "language": "python",
   "name": "python3"
  },
  "language_info": {
   "codemirror_mode": {
    "name": "ipython",
    "version": 3
   },
   "file_extension": ".py",
   "mimetype": "text/x-python",
   "name": "python",
   "nbconvert_exporter": "python",
   "pygments_lexer": "ipython3",
   "version": "3.8.5"
  }
 },
 "nbformat": 4,
 "nbformat_minor": 4
}
