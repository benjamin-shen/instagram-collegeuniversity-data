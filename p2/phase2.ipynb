{
 "cells": [
  {
   "cell_type": "markdown",
   "metadata": {},
   "source": [
    "# INFO 2950 Phase 2"
   ]
  },
  {
   "cell_type": "markdown",
   "metadata": {},
   "source": [
    "## Research Question\n",
    "What factors affect the Instagram trends and statistics of four-year colleges and universities in the U.S.?"
   ]
  },
  {
   "cell_type": "markdown",
   "metadata": {},
   "source": [
    "## Data Collection and Cleaning\n",
    "TODO remove this  \n",
    "Document every step that takes your raw data file(s) and turns it into the analysis-ready data set that you would submit with your final project.  \n",
    "Include text cells describing your data collection (downloading, scraping, surveys, etc), and text cells describing any additional data curation/cleaning (merging data frames, filtering, transformations of variables, etc).  \n",
    "Include code cells for data curation/cleaning, but not collection.  \n",
    "END\n",
    "\n",
    "More detailed information on our data cleaning can be found in our [data cleaning notebook](phase2-data.ipynb).  "
   ]
  },
  {
   "cell_type": "markdown",
   "metadata": {},
   "source": [
    "### Instagram Data"
   ]
  },
  {
   "cell_type": "markdown",
   "metadata": {},
   "source": [
    "TODO how Changyuan collected the data"
   ]
  },
  {
   "cell_type": "markdown",
   "metadata": {},
   "source": [
    "Eg. first 3 lines of `cornelluniversity.out`:\n",
    "```\n",
    "2019-09-08 15:42:32.026749,190.5k,160,1773\n",
    "2019-09-09 12:00:03.187746,190.7k,160,1774\n",
    "2019-09-10 12:00:02.818769,190.9k,160,1775\n",
    "```"
   ]
  },
  {
   "cell_type": "markdown",
   "metadata": {},
   "source": [
    "1. Read `.out` files and convert them to dataframes\n",
    "0. Add column header: `columns = [\"date\", \"followers\", \"following\", \"posts\"]`\n",
    "0. Convert first column to datetime\n",
    "0. Apply function that replaces `k` and `m` to clean up numeric columns\n",
    "0. Write cleaned dataframes to `.csv` files"
   ]
  },
  {
   "cell_type": "markdown",
   "metadata": {},
   "source": [
    "Eg. first 4 lines of `cornelluniversity.csv`:\n",
    "```\n",
    "date,followers,following,posts\n",
    "2019-09-08 15:42:32.026749,190500,160,1773\n",
    "2019-09-09 12:00:03.187746,190700,160,1774\n",
    "2019-09-10 12:00:02.818769,190900,160,1775\n",
    "```"
   ]
  },
  {
   "cell_type": "markdown",
   "metadata": {},
   "source": [
    "### Scorecard Data"
   ]
  },
  {
   "cell_type": "markdown",
   "metadata": {},
   "source": [
    "TODO how Changyuan collected the data"
   ]
  },
  {
   "cell_type": "markdown",
   "metadata": {},
   "source": [
    "Eg. first 23 lines of `scorecard_raw.json`:\n",
    "```\n",
    "[\n",
    "  {\n",
    "    \"id\": 147244,\n",
    "    \"latest.admissions.admission_rate.overall\": 0.6126,\n",
    "    \"latest.admissions.sat_scores.average.overall\": 1125.0,\n",
    "    \"latest.cost.attendance.academic_year\": 46026,\n",
    "    \"latest.cost.avg_net_price.private\": 20560,\n",
    "    \"latest.cost.avg_net_price.public\": null,\n",
    "    \"latest.student.demographics.avg_family_income\": 66334,\n",
    "    \"latest.student.demographics.median_family_income\": 49741,\n",
    "    \"latest.student.size\": 1918,\n",
    "    \"location.lat\": 39.842612,\n",
    "    \"location.lon\": -88.976298,\n",
    "    \"school.carnegie_size_setting\": 11,\n",
    "    \"school.carnegie_undergrad\": 13,\n",
    "    \"school.city\": \"Decatur\",\n",
    "    \"school.locale\": 13,\n",
    "    \"school.name\": \"Millikin University\",\n",
    "    \"school.ownership\": 2,\n",
    "    \"school.region_id\": 3,\n",
    "    \"school.state\": \"IL\",\n",
    "    \"school.zip\": \"62522-2084\"\n",
    "  },\n",
    "```"
   ]
  },
  {
   "cell_type": "markdown",
   "metadata": {},
   "source": [
    "1. Load `.json` file and convert it to dataframe\n",
    "2. Rename columns\n",
    "3. Rename entries from integers to human-readable values for ownership, region, and locale\n",
    "4. Drop more columns for readability (we may choose to include them later)\n",
    "5. Write cleaned dataframe to `.csv` file"
   ]
  },
  {
   "cell_type": "markdown",
   "metadata": {},
   "source": [
    "Eg. first 2 lines of `scorecard.csv`:\n",
    "```\n",
    "admission_rate,sat_score,cost_attendance,income_avg,income_med,size,lat,lon,city,name,ownership,region,state,locale_type,locale_size\n",
    "0.6126,1125.0,46026.0,66334.0,49741.0,1918.0,39.842612,-88.976298,Decatur,Millikin University,private non-profit,great lakes,IL,city,small\n",
    "```"
   ]
  },
  {
   "cell_type": "markdown",
   "metadata": {},
   "source": [
    "### Merged Data"
   ]
  },
  {
   "cell_type": "markdown",
   "metadata": {},
   "source": [
    "We merged the data with a left join between a new Instagram summary statistics dataframe and the scorecard dataframe."
   ]
  },
  {
   "cell_type": "markdown",
   "metadata": {},
   "source": [
    "1. Generate summary statistics for the Instagram dataset and create a dataframe from it\n",
    "0. Using a mapping from Instagram handles to college/university name, add a column \"name\" to the Instagram dataframe\n",
    "0. Merge the dataframes with a left join on the \"name\" column\n",
    "0. Write the result to a `.csv` file"
   ]
  },
  {
   "cell_type": "markdown",
   "metadata": {},
   "source": [
    "Eg. first 2 lines of `instagram-details.csv`:\n",
    "```\n",
    "instagram,follower_curr,follower_mean,follower_med,follower_std,follower_min,follower_max,following_curr,following_mean,following_med,following_std,following_min,following_max,posts_curr,posts_mean,posts_med,posts_std,posts_min,posts_max,name,id,admission_rate,sat_score,cost_attendance,net_price_private,net_price_public,income_avg,income_med,size,lat,lon,carnegie_size_setting,carnegie_undergrad,city,locale,ownership,region,state,zip,locale_type,locale_size\n",
    "\n",
    "amherstcollege,17700.0,15826.912928759895,15600.0,934.7289567341286,14200.0,17700.0,650.0,636.0343007915567,636.0,12.17145525352865,617.0,655.0,2043.0,1964.8416886543537,1960.0,46.55475530582614,1886.0,2043.0,Amherst College,164465.0,0.12810000000000002,1449.0,71300.0,25208.0,,78988.0,42053.0,1855.0,42.372459,-72.518493,11.0,14.0,Amherst,21.0,private non-profit,new england,MA,01002-5000,suburb,large\n",
    "```"
   ]
  },
  {
   "cell_type": "markdown",
   "metadata": {},
   "source": [
    "## Data Description\n",
    "TODO remove this\n",
    "- What are the observations (rows) and the attributes (columns)?\n",
    "- Why was this dataset created?\n",
    "- Who funded the creation of the dataset?\n",
    "- What processes might have influenced what data was observed and recorded and what was not?\n",
    "- What preprocessing was done, and how did the data come to be in the form that you are using?\n",
    "- If people are involved, were they aware of the data collection and if so, what purpose did they expect the data to be used for?\n",
    "- Where can your raw source data be found, if applicable? Provide a link to the raw data (hosted in a Cornell Google Drive or Cornell Box)."
   ]
  },
  {
   "cell_type": "markdown",
   "metadata": {},
   "source": [
    "TODO write this"
   ]
  },
  {
   "cell_type": "markdown",
   "metadata": {},
   "source": [
    "## Data Limitations"
   ]
  },
  {
   "cell_type": "markdown",
   "metadata": {},
   "source": [
    "### Instagram Data\n",
    "1. We have chunks of missing or corrupt data. We think this is due to Instagram's rate limiting, and mishandling of rate-limiting errors when collecting this data. This can be observed in the data exploration graphs. We attempted to fix some of this (particularly range and rate of change) by recently scraping more data and ensuring that the beginning and ending dates had fully populated entries.\n",
    "2. The Instagram handles are handpicked by Changyuan, and is thus not comprehensive. It is not necessarily representative of all types of colleges/universities in the U.S. For example, there tends to be more Colorado schools (where Changyuan is from).\n",
    "3. Instagram statistics are not as granular as we would've liked (eg. `k` to denote thousand and `m` to denote million). As a result, there is some stepping that can be observed in the graphs (especially for Harvard and other Instagram accounts with high follower counts).\n",
    "3. Our dataset is 3-dimensional: Instagram handle, statistics, time. As a result, there is some information loss when collapsing it to 2D. In this phase, we chose to collapse statistics and time into one variable: summary statistics over time. This can be observed in the exploratory data analysis for our merged dataset."
   ]
  },
  {
   "cell_type": "markdown",
   "metadata": {},
   "source": [
    "### Scorecard Data\n",
    "1. This dataset is massive, so it had to be heavily filtered. Many columns that we deemed irrelevant were dropped. We also filtered the dataset down to four-year colleges. This limitation caused us to change our research question to be more specific.\n",
    "2. TODO data source?"
   ]
  },
  {
   "cell_type": "markdown",
   "metadata": {},
   "source": [
    "## Exploratory Data Analysis"
   ]
  },
  {
   "cell_type": "markdown",
   "metadata": {},
   "source": [
    "More detailed information (and more exploratory data analysis) can be found in our [data exploration notebook](phase2-exploration.ipynb)."
   ]
  },
  {
   "cell_type": "code",
   "execution_count": 1,
   "metadata": {
    "narrative": true
   },
   "outputs": [],
   "source": [
    "import os\n",
    "import pandas as pd\n",
    "import matplotlib.pyplot as plt"
   ]
  },
  {
   "cell_type": "markdown",
   "metadata": {},
   "source": [
    "### Instagram Statistics"
   ]
  },
  {
   "cell_type": "code",
   "execution_count": 2,
   "metadata": {},
   "outputs": [],
   "source": [
    "instagram_dir = \"../instagram\" # instagram dataset\n",
    "instagram_files = os.listdir(instagram_dir)\n",
    "\n",
    "instagram_df = {}\n",
    "for file in instagram_files:\n",
    "    df = pd.read_csv(os.path.join(instagram_dir, file))\n",
    "    df.date = pd.to_datetime(df.date)\n",
    "    instagram_df[file.split(\".\")[0]] = df"
   ]
  },
  {
   "cell_type": "markdown",
   "metadata": {},
   "source": [
    "### College/University Information"
   ]
  },
  {
   "cell_type": "code",
   "execution_count": null,
   "metadata": {},
   "outputs": [],
   "source": []
  },
  {
   "cell_type": "markdown",
   "metadata": {},
   "source": [
    "### Merged Dataset"
   ]
  },
  {
   "cell_type": "code",
   "execution_count": null,
   "metadata": {},
   "outputs": [],
   "source": []
  },
  {
   "cell_type": "markdown",
   "metadata": {},
   "source": [
    "## Questions for Reviewers"
   ]
  },
  {
   "cell_type": "markdown",
   "metadata": {},
   "source": [
    "#### Everyone:\n",
    "1. Is our research question clear/specific enough? Is there significant potential for interesting analyses?\n",
    "2. Did we miss any potentially interesting routes to explore? What are some other questions you have that might be answered by our data?\n",
    "3. Do you have any other suggestions for how to improve our project?"
   ]
  },
  {
   "cell_type": "markdown",
   "metadata": {},
   "source": [
    "#### Project Mentor:\n",
    "1. Where do we go after our initial exploratory data analysis?\n",
    "2. What are some examples of preregistration of analyses? What are some example of final phase analyses?"
   ]
  }
 ],
 "metadata": {
  "kernelspec": {
   "display_name": "Python 3",
   "language": "python",
   "name": "python3"
  },
  "language_info": {
   "codemirror_mode": {
    "name": "ipython",
    "version": 3
   },
   "file_extension": ".py",
   "mimetype": "text/x-python",
   "name": "python",
   "nbconvert_exporter": "python",
   "pygments_lexer": "ipython3",
   "version": "3.8.5"
  }
 },
 "nbformat": 4,
 "nbformat_minor": 4
}
